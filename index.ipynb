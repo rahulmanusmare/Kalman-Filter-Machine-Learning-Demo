{
 "cells": [
  {
   "cell_type": "code",
   "execution_count": 43,
   "metadata": {},
   "outputs": [],
   "source": [
    "\n",
    "import cv2 as cv\n",
    "import numpy as np\n",
    "import sys\n",
    "import pickle as p\n",
    "\n",
    "import math\n",
    "import matplotlib.pyplot as plt\n",
    "import nbinteract as nbi\n"
   ]
  },
  {
   "cell_type": "code",
   "execution_count": 44,
   "metadata": {},
   "outputs": [],
   "source": [
    "class KalmanFilter:\n",
    "\n",
    "    kf = cv.KalmanFilter(4, 2)\n",
    "    kf.measurementMatrix = np.array([[1, 0, 0, 0], [0, 1, 0, 0]], np.float32)\n",
    "    kf.transitionMatrix = np.array([[1, 0, 1, 0], [0, 1, 0, 1], [0, 0, 1, 0], [0, 0, 0, 1]], np.float32)\n",
    "\n",
    "    def Estimate(self, coordX, coordY):\n",
    "        ''' This function estimates the position of the object'''\n",
    "        measured = np.array([[np.float32(coordX)], [np.float32(coordY)]])\n",
    "        self.kf.correct(measured)\n",
    "        predicted = self.kf.predict()\n",
    "        return predicted\n",
    "\n",
    "#Performs required image processing to get ball coordinated in the video\n",
    "class ProcessImage:\n",
    "\n",
    "    def DetectObject(self, traj, imgsize = (240, 320, 3), plot = False):\n",
    "\n",
    "        \n",
    "        # Create Kalman Filter Object\n",
    "        kfObj = KalmanFilter()\n",
    "        predictedCoords = np.zeros((2, 1), np.float32)\n",
    "        \n",
    "        pos = []\n",
    "        \n",
    "        i = 0\n",
    "        \n",
    "        height, width = imgsize[0], imgsize[1]\n",
    "        \n",
    "        while(i < len(traj)):\n",
    "            \n",
    "            frame = np.zeros(imgsize)\n",
    "                        \n",
    "            [ballX, ballY] = traj[i]    \n",
    "            \n",
    "            predictedCoords = kfObj.Estimate(ballX, ballY)\n",
    "            pos.append([predictedCoords[0], predictedCoords[1]])\n",
    "            \n",
    "            \n",
    "            i += 1\n",
    "\n",
    "        return pos\n",
    "\n",
    "#Main Function\n",
    "def main():\n",
    "    processImg = ProcessImage()\n",
    "    sine_imgsize = (480, 640, 3)\n",
    "    sine = [[150 + 2*i, 240 + int(math.sin(i*(8*math.pi)/80) * 100) ] for i in range(80)]\n",
    "        \n",
    "    pos=processImg.DetectObject(sine, sine_imgsize, False)\n",
    "    return pos,sine\n",
    "\n",
    "def norme(t):\n",
    "    \n",
    "    \n",
    "    pos,traj=main()\n",
    "\n",
    "    '''Returns 1000 points drawn at random fron N(mean, sd)'''\n",
    "    \n",
    "    traj_x = [traj[i][0] for i in range(len(traj[0:t]))]\n",
    "    traj_y = [traj[i][1] for i in range(len(traj[0:t]))]\n",
    "    err= [((traj[i][1]-pos[i][1])**2 + (traj[i][0]-pos[i][0])**2)  for i in range(len(traj[0:t]))]\n",
    "    pred_x = [pos[i][0] for i in range(len(pos[0:t]))]\n",
    "    pred_y = [pos[i][1] for i in range(len(pos[0:t]))]\n",
    "\n",
    "    plt.plot(traj_x[1:], traj_y[1:],'r',label='Actual')\n",
    "    plt.plot(pred_x[:-1], pred_y[:-1],'y',label='Predicted')\n",
    "    plt.show()\n",
    "    return err\n",
    "\n",
    "\n"
   ]
  },
  {
   "cell_type": "code",
   "execution_count": 45,
   "metadata": {},
   "outputs": [
    {
     "data": {
      "application/vnd.jupyter.widget-view+json": {
       "model_id": "ca3e3411348d468d83b5c1b75718bfe5",
       "version_major": 2,
       "version_minor": 0
      },
      "text/plain": [
       "VBox(children=(interactive(children=(IntSlider(value=41, description='t', max=80, min=2), Output()), _dom_clas…"
      ]
     },
     "metadata": {},
     "output_type": "display_data"
    }
   ],
   "source": [
    "\n",
    "nbi.hist(norme,t=(2, 80))\n"
   ]
  },
  {
   "cell_type": "code",
   "execution_count": null,
   "metadata": {},
   "outputs": [],
   "source": []
  },
  {
   "cell_type": "code",
   "execution_count": null,
   "metadata": {},
   "outputs": [],
   "source": []
  },
  {
   "cell_type": "code",
   "execution_count": null,
   "metadata": {},
   "outputs": [],
   "source": []
  }
 ],
 "metadata": {
  "kernelspec": {
   "display_name": "Python 3",
   "language": "python",
   "name": "python3"
  },
  "language_info": {
   "codemirror_mode": {
    "name": "ipython",
    "version": 3
   },
   "file_extension": ".py",
   "mimetype": "text/x-python",
   "name": "python",
   "nbconvert_exporter": "python",
   "pygments_lexer": "ipython3",
   "version": "3.6.8"
  },
  "widgets": {
   "application/vnd.jupyter.widget-state+json": {
    "state": {
     "013f8ac132a841ba8686d340e51eeea3": {
      "model_module": "@jupyter-widgets/base",
      "model_module_version": "1.1.0",
      "model_name": "LayoutModel",
      "state": {}
     },
     "02b08be3696a42378a5b6beb5eae8ea7": {
      "model_module": "@jupyter-widgets/output",
      "model_module_version": "1.0.0",
      "model_name": "OutputModel",
      "state": {
       "layout": "IPY_MODEL_611759352ae34d6bb48223f646068f7d",
       "outputs": [
        {
         "ename": "AttributeError",
         "evalue": "'KalmanFilter' object has no attribute 'correct'",
         "output_type": "error",
         "traceback": [
          "\u001b[1;31m---------------------------------------------------------------------------\u001b[0m",
          "\u001b[1;31mAttributeError\u001b[0m                            Traceback (most recent call last)",
          "\u001b[1;32m~\\Anaconda3\\lib\\site-packages\\ipywidgets\\widgets\\interaction.py\u001b[0m in \u001b[0;36mupdate\u001b[1;34m(self, *args)\u001b[0m\n\u001b[0;32m    249\u001b[0m                     \u001b[0mvalue\u001b[0m \u001b[1;33m=\u001b[0m \u001b[0mwidget\u001b[0m\u001b[1;33m.\u001b[0m\u001b[0mget_interact_value\u001b[0m\u001b[1;33m(\u001b[0m\u001b[1;33m)\u001b[0m\u001b[1;33m\u001b[0m\u001b[1;33m\u001b[0m\u001b[0m\n\u001b[0;32m    250\u001b[0m                     \u001b[0mself\u001b[0m\u001b[1;33m.\u001b[0m\u001b[0mkwargs\u001b[0m\u001b[1;33m[\u001b[0m\u001b[0mwidget\u001b[0m\u001b[1;33m.\u001b[0m\u001b[0m_kwarg\u001b[0m\u001b[1;33m]\u001b[0m \u001b[1;33m=\u001b[0m \u001b[0mvalue\u001b[0m\u001b[1;33m\u001b[0m\u001b[1;33m\u001b[0m\u001b[0m\n\u001b[1;32m--> 251\u001b[1;33m                 \u001b[0mself\u001b[0m\u001b[1;33m.\u001b[0m\u001b[0mresult\u001b[0m \u001b[1;33m=\u001b[0m \u001b[0mself\u001b[0m\u001b[1;33m.\u001b[0m\u001b[0mf\u001b[0m\u001b[1;33m(\u001b[0m\u001b[1;33m**\u001b[0m\u001b[0mself\u001b[0m\u001b[1;33m.\u001b[0m\u001b[0mkwargs\u001b[0m\u001b[1;33m)\u001b[0m\u001b[1;33m\u001b[0m\u001b[1;33m\u001b[0m\u001b[0m\n\u001b[0m\u001b[0;32m    252\u001b[0m                 \u001b[0mshow_inline_matplotlib_plots\u001b[0m\u001b[1;33m(\u001b[0m\u001b[1;33m)\u001b[0m\u001b[1;33m\u001b[0m\u001b[1;33m\u001b[0m\u001b[0m\n\u001b[0;32m    253\u001b[0m                 \u001b[1;32mif\u001b[0m \u001b[0mself\u001b[0m\u001b[1;33m.\u001b[0m\u001b[0mauto_display\u001b[0m \u001b[1;32mand\u001b[0m \u001b[0mself\u001b[0m\u001b[1;33m.\u001b[0m\u001b[0mresult\u001b[0m \u001b[1;32mis\u001b[0m \u001b[1;32mnot\u001b[0m \u001b[1;32mNone\u001b[0m\u001b[1;33m:\u001b[0m\u001b[1;33m\u001b[0m\u001b[1;33m\u001b[0m\u001b[0m\n",
          "\u001b[1;32m~\\Anaconda3\\lib\\site-packages\\nbinteract\\plotting.py\u001b[0m in \u001b[0;36mwrapped\u001b[1;34m(**interact_params)\u001b[0m\n\u001b[0;32m    223\u001b[0m \u001b[1;33m\u001b[0m\u001b[0m\n\u001b[0;32m    224\u001b[0m     \u001b[1;32mdef\u001b[0m \u001b[0mwrapped\u001b[0m\u001b[1;33m(\u001b[0m\u001b[1;33m**\u001b[0m\u001b[0minteract_params\u001b[0m\u001b[1;33m)\u001b[0m\u001b[1;33m:\u001b[0m\u001b[1;33m\u001b[0m\u001b[1;33m\u001b[0m\u001b[0m\n\u001b[1;32m--> 225\u001b[1;33m         \u001b[0mhist\u001b[0m\u001b[1;33m.\u001b[0m\u001b[0msample\u001b[0m \u001b[1;33m=\u001b[0m \u001b[0mutil\u001b[0m\u001b[1;33m.\u001b[0m\u001b[0mmaybe_call\u001b[0m\u001b[1;33m(\u001b[0m\u001b[0mhist_function\u001b[0m\u001b[1;33m,\u001b[0m \u001b[0minteract_params\u001b[0m\u001b[1;33m)\u001b[0m\u001b[1;33m\u001b[0m\u001b[1;33m\u001b[0m\u001b[0m\n\u001b[0m\u001b[0;32m    226\u001b[0m \u001b[1;33m\u001b[0m\u001b[0m\n\u001b[0;32m    227\u001b[0m     \u001b[0mcontrols\u001b[0m \u001b[1;33m=\u001b[0m \u001b[0mwidgets\u001b[0m\u001b[1;33m.\u001b[0m\u001b[0minteractive\u001b[0m\u001b[1;33m(\u001b[0m\u001b[0mwrapped\u001b[0m\u001b[1;33m,\u001b[0m \u001b[1;33m**\u001b[0m\u001b[0minteract_params\u001b[0m\u001b[1;33m)\u001b[0m\u001b[1;33m\u001b[0m\u001b[1;33m\u001b[0m\u001b[0m\n",
          "\u001b[1;32m~\\Anaconda3\\lib\\site-packages\\nbinteract\\util.py\u001b[0m in \u001b[0;36mmaybe_call\u001b[1;34m(maybe_fn, kwargs, prefix)\u001b[0m\n\u001b[0;32m     31\u001b[0m \u001b[1;33m\u001b[0m\u001b[0m\n\u001b[0;32m     32\u001b[0m     \u001b[0margs\u001b[0m \u001b[1;33m=\u001b[0m \u001b[0mget_fn_args\u001b[0m\u001b[1;33m(\u001b[0m\u001b[0mmaybe_fn\u001b[0m\u001b[1;33m,\u001b[0m \u001b[0mkwargs\u001b[0m\u001b[1;33m,\u001b[0m \u001b[0mprefix\u001b[0m\u001b[1;33m=\u001b[0m\u001b[0mprefix\u001b[0m\u001b[1;33m)\u001b[0m\u001b[1;33m\u001b[0m\u001b[1;33m\u001b[0m\u001b[0m\n\u001b[1;32m---> 33\u001b[1;33m     \u001b[1;32mreturn\u001b[0m \u001b[0mmaybe_fn\u001b[0m\u001b[1;33m(\u001b[0m\u001b[1;33m**\u001b[0m\u001b[0margs\u001b[0m\u001b[1;33m)\u001b[0m\u001b[1;33m\u001b[0m\u001b[1;33m\u001b[0m\u001b[0m\n\u001b[0m\u001b[0;32m     34\u001b[0m \u001b[1;33m\u001b[0m\u001b[0m\n\u001b[0;32m     35\u001b[0m \u001b[1;33m\u001b[0m\u001b[0m\n",
          "\u001b[1;32m<ipython-input-24-80af97d35328>\u001b[0m in \u001b[0;36mnorme\u001b[1;34m(t, flag)\u001b[0m\n\u001b[0;32m     56\u001b[0m \u001b[1;33m\u001b[0m\u001b[0m\n\u001b[0;32m     57\u001b[0m \u001b[1;33m\u001b[0m\u001b[0m\n\u001b[1;32m---> 58\u001b[1;33m     \u001b[0mpos\u001b[0m\u001b[1;33m,\u001b[0m\u001b[0mtraj\u001b[0m\u001b[1;33m=\u001b[0m\u001b[0mmain\u001b[0m\u001b[1;33m(\u001b[0m\u001b[1;33m)\u001b[0m\u001b[1;33m\u001b[0m\u001b[1;33m\u001b[0m\u001b[0m\n\u001b[0m\u001b[0;32m     59\u001b[0m \u001b[1;33m\u001b[0m\u001b[0m\n\u001b[0;32m     60\u001b[0m     \u001b[1;34m'''Returns 1000 points drawn at random fron N(mean, sd)'''\u001b[0m\u001b[1;33m\u001b[0m\u001b[1;33m\u001b[0m\u001b[0m\n",
          "\u001b[1;32m<ipython-input-24-80af97d35328>\u001b[0m in \u001b[0;36mmain\u001b[1;34m()\u001b[0m\n\u001b[0;32m     50\u001b[0m     \u001b[0msine\u001b[0m \u001b[1;33m=\u001b[0m \u001b[1;33m[\u001b[0m\u001b[1;33m[\u001b[0m\u001b[1;36m150\u001b[0m \u001b[1;33m+\u001b[0m \u001b[1;36m2\u001b[0m\u001b[1;33m*\u001b[0m\u001b[0mi\u001b[0m\u001b[1;33m,\u001b[0m \u001b[1;36m240\u001b[0m \u001b[1;33m+\u001b[0m \u001b[0mint\u001b[0m\u001b[1;33m(\u001b[0m\u001b[0mmath\u001b[0m\u001b[1;33m.\u001b[0m\u001b[0msin\u001b[0m\u001b[1;33m(\u001b[0m\u001b[0mi\u001b[0m\u001b[1;33m*\u001b[0m\u001b[1;33m(\u001b[0m\u001b[1;36m8\u001b[0m\u001b[1;33m*\u001b[0m\u001b[0mmath\u001b[0m\u001b[1;33m.\u001b[0m\u001b[0mpi\u001b[0m\u001b[1;33m)\u001b[0m\u001b[1;33m/\u001b[0m\u001b[1;36m80\u001b[0m\u001b[1;33m)\u001b[0m \u001b[1;33m*\u001b[0m \u001b[1;36m100\u001b[0m\u001b[1;33m)\u001b[0m \u001b[1;33m]\u001b[0m \u001b[1;32mfor\u001b[0m \u001b[0mi\u001b[0m \u001b[1;32min\u001b[0m \u001b[0mrange\u001b[0m\u001b[1;33m(\u001b[0m\u001b[1;36m80\u001b[0m\u001b[1;33m)\u001b[0m\u001b[1;33m]\u001b[0m\u001b[1;33m\u001b[0m\u001b[1;33m\u001b[0m\u001b[0m\n\u001b[0;32m     51\u001b[0m \u001b[1;33m\u001b[0m\u001b[0m\n\u001b[1;32m---> 52\u001b[1;33m     \u001b[0mpos\u001b[0m\u001b[1;33m=\u001b[0m\u001b[0mprocessImg\u001b[0m\u001b[1;33m.\u001b[0m\u001b[0mDetectObject\u001b[0m\u001b[1;33m(\u001b[0m\u001b[0msine\u001b[0m\u001b[1;33m,\u001b[0m \u001b[0msine_imgsize\u001b[0m\u001b[1;33m,\u001b[0m \u001b[1;32mFalse\u001b[0m\u001b[1;33m)\u001b[0m\u001b[1;33m\u001b[0m\u001b[1;33m\u001b[0m\u001b[0m\n\u001b[0m\u001b[0;32m     53\u001b[0m     \u001b[1;32mreturn\u001b[0m \u001b[0mpos\u001b[0m\u001b[1;33m,\u001b[0m\u001b[0msine\u001b[0m\u001b[1;33m\u001b[0m\u001b[1;33m\u001b[0m\u001b[0m\n\u001b[0;32m     54\u001b[0m \u001b[1;33m\u001b[0m\u001b[0m\n",
          "\u001b[1;32m<ipython-input-24-80af97d35328>\u001b[0m in \u001b[0;36mDetectObject\u001b[1;34m(self, traj, imgsize, plot)\u001b[0m\n\u001b[0;32m     36\u001b[0m             \u001b[1;33m[\u001b[0m\u001b[0mballX\u001b[0m\u001b[1;33m,\u001b[0m \u001b[0mballY\u001b[0m\u001b[1;33m]\u001b[0m \u001b[1;33m=\u001b[0m \u001b[0mtraj\u001b[0m\u001b[1;33m[\u001b[0m\u001b[0mi\u001b[0m\u001b[1;33m]\u001b[0m\u001b[1;33m\u001b[0m\u001b[1;33m\u001b[0m\u001b[0m\n\u001b[0;32m     37\u001b[0m \u001b[1;33m\u001b[0m\u001b[0m\n\u001b[1;32m---> 38\u001b[1;33m             \u001b[0mpredictedCoords\u001b[0m \u001b[1;33m=\u001b[0m \u001b[0mkfObj\u001b[0m\u001b[1;33m.\u001b[0m\u001b[0mEstimate\u001b[0m\u001b[1;33m(\u001b[0m\u001b[0mballX\u001b[0m\u001b[1;33m,\u001b[0m \u001b[0mballY\u001b[0m\u001b[1;33m)\u001b[0m\u001b[1;33m\u001b[0m\u001b[1;33m\u001b[0m\u001b[0m\n\u001b[0m\u001b[0;32m     39\u001b[0m             \u001b[0mpos\u001b[0m\u001b[1;33m.\u001b[0m\u001b[0mappend\u001b[0m\u001b[1;33m(\u001b[0m\u001b[1;33m[\u001b[0m\u001b[0mpredictedCoords\u001b[0m\u001b[1;33m[\u001b[0m\u001b[1;36m0\u001b[0m\u001b[1;33m]\u001b[0m\u001b[1;33m,\u001b[0m \u001b[0mpredictedCoords\u001b[0m\u001b[1;33m[\u001b[0m\u001b[1;36m1\u001b[0m\u001b[1;33m]\u001b[0m\u001b[1;33m]\u001b[0m\u001b[1;33m)\u001b[0m\u001b[1;33m\u001b[0m\u001b[1;33m\u001b[0m\u001b[0m\n\u001b[0;32m     40\u001b[0m \u001b[1;33m\u001b[0m\u001b[0m\n",
          "\u001b[1;32m<ipython-input-24-80af97d35328>\u001b[0m in \u001b[0;36mEstimate\u001b[1;34m(self, coordX, coordY)\u001b[0m\n\u001b[0;32m     10\u001b[0m         \u001b[1;34m''' This function estimates the position of the object'''\u001b[0m\u001b[1;33m\u001b[0m\u001b[1;33m\u001b[0m\u001b[0m\n\u001b[0;32m     11\u001b[0m         \u001b[0mmeasured\u001b[0m \u001b[1;33m=\u001b[0m \u001b[0mnp\u001b[0m\u001b[1;33m.\u001b[0m\u001b[0marray\u001b[0m\u001b[1;33m(\u001b[0m\u001b[1;33m[\u001b[0m\u001b[1;33m[\u001b[0m\u001b[0mnp\u001b[0m\u001b[1;33m.\u001b[0m\u001b[0mfloat32\u001b[0m\u001b[1;33m(\u001b[0m\u001b[0mcoordX\u001b[0m\u001b[1;33m)\u001b[0m\u001b[1;33m]\u001b[0m\u001b[1;33m,\u001b[0m \u001b[1;33m[\u001b[0m\u001b[0mnp\u001b[0m\u001b[1;33m.\u001b[0m\u001b[0mfloat32\u001b[0m\u001b[1;33m(\u001b[0m\u001b[0mcoordY\u001b[0m\u001b[1;33m)\u001b[0m\u001b[1;33m]\u001b[0m\u001b[1;33m]\u001b[0m\u001b[1;33m)\u001b[0m\u001b[1;33m\u001b[0m\u001b[1;33m\u001b[0m\u001b[0m\n\u001b[1;32m---> 12\u001b[1;33m         \u001b[0mself\u001b[0m\u001b[1;33m.\u001b[0m\u001b[0mkf\u001b[0m\u001b[1;33m.\u001b[0m\u001b[0mcorrect\u001b[0m\u001b[1;33m(\u001b[0m\u001b[0mmeasured\u001b[0m\u001b[1;33m)\u001b[0m\u001b[1;33m\u001b[0m\u001b[1;33m\u001b[0m\u001b[0m\n\u001b[0m\u001b[0;32m     13\u001b[0m         \u001b[0mpredicted\u001b[0m \u001b[1;33m=\u001b[0m \u001b[0mself\u001b[0m\u001b[1;33m.\u001b[0m\u001b[0mkf\u001b[0m\u001b[1;33m.\u001b[0m\u001b[0mpredict\u001b[0m\u001b[1;33m(\u001b[0m\u001b[1;33m)\u001b[0m\u001b[1;33m\u001b[0m\u001b[1;33m\u001b[0m\u001b[0m\n\u001b[0;32m     14\u001b[0m         \u001b[1;32mreturn\u001b[0m \u001b[0mpredicted\u001b[0m\u001b[1;33m\u001b[0m\u001b[1;33m\u001b[0m\u001b[0m\n",
          "\u001b[1;31mAttributeError\u001b[0m: 'KalmanFilter' object has no attribute 'correct'"
         ]
        }
       ]
      }
     },
     "067ad148d97e4475bc61dfc78c6db8e8": {
      "model_module": "@jupyter-widgets/controls",
      "model_module_version": "1.4.0",
      "model_name": "VBoxModel",
      "state": {
       "_dom_classes": [
        "widget-interact"
       ],
       "children": [
        "IPY_MODEL_5006b728d0494949bc3104529d0c9556",
        "IPY_MODEL_57145640712b416faee9da78c33297e6",
        "IPY_MODEL_21bf2c98a4094f06aa2a798de46ad539"
       ],
       "layout": "IPY_MODEL_013f8ac132a841ba8686d340e51eeea3"
      }
     },
     "06abfcdc1b204fc98c45904ed0cf0a34": {
      "model_module": "@jupyter-widgets/controls",
      "model_module_version": "1.4.0",
      "model_name": "VBoxModel",
      "state": {
       "_dom_classes": [
        "widget-interact"
       ],
       "children": [
        "IPY_MODEL_834771404a06484385add87b5220a299",
        "IPY_MODEL_8220e64620994d35b76d8c1495af8113",
        "IPY_MODEL_714568bc82d741a399d9ff098ba81817"
       ],
       "layout": "IPY_MODEL_15f7412381ba4b0aa85f6136e59d6b7c"
      }
     },
     "081170d647904c8aaab844966a1b5490": {
      "model_module": "bqplot",
      "model_module_version": "^0.4.5",
      "model_name": "AxisModel",
      "state": {
       "orientation": "vertical",
       "scale": "IPY_MODEL_72b88c78d4c447d88eadbd97623d634f",
       "side": "left",
       "tick_values": {
        "type": null,
        "values": null
       }
      }
     },
     "08a7c03ebe2d46479d49606618d6214e": {
      "model_module": "@jupyter-widgets/output",
      "model_module_version": "1.0.0",
      "model_name": "OutputModel",
      "state": {
       "layout": "IPY_MODEL_91fdf27856414c88bf383c7c0db23731",
       "outputs": [
        {
         "data": {
          "image/png": "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\n",
          "text/plain": "<Figure size 432x288 with 1 Axes>"
         },
         "metadata": {
          "needs_background": "light"
         },
         "output_type": "display_data"
        }
       ]
      }
     },
     "0ad19a09b2ef42b0a03e2d7c8e9e52e9": {
      "model_module": "@jupyter-widgets/controls",
      "model_module_version": "1.4.0",
      "model_name": "VBoxModel",
      "state": {
       "_dom_classes": [
        "widget-interact"
       ],
       "children": [
        "IPY_MODEL_8461cfaa40894eb08c86324c3f5ce00e",
        "IPY_MODEL_914337c3aba5400cb417495d6ea39e96",
        "IPY_MODEL_bdc087af39394cb1a3f004f18ef752f7"
       ],
       "layout": "IPY_MODEL_c8a5ce9aaa4d41539d9d6933ca8c8a11"
      }
     },
     "0bc2b6109f7a4266ab342f015791d889": {
      "model_module": "@jupyter-widgets/base",
      "model_module_version": "1.1.0",
      "model_name": "LayoutModel",
      "state": {
       "min_width": "125px"
      }
     },
     "0c7d86069ef84d3ca8d020a5a606ab58": {
      "model_module": "@jupyter-widgets/base",
      "model_module_version": "1.1.0",
      "model_name": "LayoutModel",
      "state": {}
     },
     "0ec2296674854350912685846d114aa8": {
      "model_module": "bqplot",
      "model_module_version": "^0.4.5",
      "model_name": "AxisModel",
      "state": {
       "scale": "IPY_MODEL_786a1919952740cf9908863b9ea30616",
       "side": "bottom",
       "tick_values": {
        "type": null,
        "values": null
       }
      }
     },
     "0f679277a3654dec9a3895d9b31556ac": {
      "model_module": "@jupyter-widgets/base",
      "model_module_version": "1.1.0",
      "model_name": "LayoutModel",
      "state": {}
     },
     "10c6f3e4286445e69400b8508253eea6": {
      "model_module": "@jupyter-widgets/base",
      "model_module_version": "1.1.0",
      "model_name": "LayoutModel",
      "state": {}
     },
     "10cb1cc71df8407daf9e0bbc7993d741": {
      "model_module": "bqplot",
      "model_module_version": "^0.4.5",
      "model_name": "AxisModel",
      "state": {
       "orientation": "vertical",
       "scale": "IPY_MODEL_398f33a6a06041cab805ea7b07845dc8",
       "side": "left",
       "tick_values": {
        "type": null,
        "values": null
       }
      }
     },
     "116c5921f5b749d09e6452369304e731": {
      "model_module": "@jupyter-widgets/base",
      "model_module_version": "1.1.0",
      "model_name": "LayoutModel",
      "state": {}
     },
     "12232b98971e40ebb50db889428e82ea": {
      "model_module": "bqplot",
      "model_module_version": "^0.4.5",
      "model_name": "AxisModel",
      "state": {
       "scale": "IPY_MODEL_ef63452e07cc4cc9823e4dc29c7128c1",
       "side": "bottom",
       "tick_values": {
        "type": null,
        "values": null
       }
      }
     },
     "12514de1afcb4b4f8e98e231b7acbdd1": {
      "model_module": "bqplot",
      "model_module_version": "^0.4.5",
      "model_name": "LinearScaleModel",
      "state": {
       "allow_padding": false,
       "max": 1,
       "min": 0,
       "stabilized": false
      }
     },
     "126da3a1aef942c9abf31c24a1012636": {
      "model_module": "@jupyter-widgets/controls",
      "model_module_version": "1.4.0",
      "model_name": "SliderStyleModel",
      "state": {
       "description_width": ""
      }
     },
     "13fd1224721c4fe684d9bd291c041362": {
      "model_module": "@jupyter-widgets/controls",
      "model_module_version": "1.4.0",
      "model_name": "SliderStyleModel",
      "state": {
       "description_width": ""
      }
     },
     "144cb616ae954bff917abcf515f7967b": {
      "model_module": "bqplot",
      "model_module_version": "^0.4.5",
      "model_name": "HistModel",
      "state": {
       "colors": [
        "#475A77"
       ],
       "count": {
        "type": "float",
        "values": [
         0.00011875399652872969,
         0,
         3.044974269967428e-06,
         0,
         0,
         0,
         0,
         0,
         0,
         3.044974269967428e-06
        ]
       },
       "display_legend": false,
       "midpoints": [
        4005.000000000221,
        12015.000000000196,
        20025.000000000175,
        28035.00000000015,
        36045.00000000013,
        44055.0000000001,
        52065.00000000007,
        60075.00000000006,
        68085.00000000003,
        76095
       ],
       "normalized": true,
       "sample": {
        "type": "float",
        "values": [
         80100,
         24001,
         2.3283064365386963e-10,
         3112.728759765625,
         2519.664794921875,
         1016.0343627929688,
         228.85360717773438,
         10.485886573791504,
         104.89647674560547,
         343.7881774902344,
         602.279052734375,
         780.8530883789062,
         838.6475219726562,
         745.5971069335938,
         533.9628295898438,
         274.46649169921875,
         68.06605529785156,
         6.039619445800781,
         115.18292999267578,
         345.0396728515625,
         598.8818969726562,
         777.572509765625,
         836.7930908203125,
         744.8504028320312,
         533.7498779296875,
         274.4312438964844,
         68.06642150878906,
         6.038338661193848,
         115.17864227294922,
         345.0361022949219,
         598.8817749023438,
         777.57421875,
         836.7939453125,
         744.8486938476562,
         533.7492065429688,
         274.4320068359375,
         68.06617736816406,
         6.038338661193848,
         115.17929077148438,
         345.0361022949219,
         598.8817749023438
        ]
       },
       "scales": {
        "count": "IPY_MODEL_398f33a6a06041cab805ea7b07845dc8",
        "sample": "IPY_MODEL_7907e17c7326467eb4964a60dc08ba87"
       },
       "selected": [],
       "stroke": "#475A77"
      }
     },
     "147efb22b7c34f50b7200eb800c70758": {
      "model_module": "bqplot",
      "model_module_version": "^0.4.5",
      "model_name": "LinearScaleModel",
      "state": {
       "allow_padding": false,
       "max": 1,
       "min": 0,
       "stabilized": false
      }
     },
     "15f7412381ba4b0aa85f6136e59d6b7c": {
      "model_module": "@jupyter-widgets/base",
      "model_module_version": "1.1.0",
      "model_name": "LayoutModel",
      "state": {}
     },
     "15ff29347d2b4ea580db19f210664a79": {
      "model_module": "@jupyter-widgets/controls",
      "model_module_version": "1.4.0",
      "model_name": "SliderStyleModel",
      "state": {
       "description_width": ""
      }
     },
     "17242d60dd5e4952b2aab2f19d1d5726": {
      "model_module": "@jupyter-widgets/base",
      "model_module_version": "1.1.0",
      "model_name": "LayoutModel",
      "state": {}
     },
     "18338bc430e74687abd40fbad06fecd0": {
      "model_module": "bqplot",
      "model_module_version": "^0.4.5",
      "model_name": "AxisModel",
      "state": {
       "scale": "IPY_MODEL_d8db5c57a06e4770bbb8ae10487da88a",
       "side": "bottom",
       "tick_values": {
        "type": null,
        "values": null
       }
      }
     },
     "19822c107d8a4dfa9d31a8da8d376dc4": {
      "model_module": "@jupyter-widgets/controls",
      "model_module_version": "1.4.0",
      "model_name": "VBoxModel",
      "state": {
       "children": [
        "IPY_MODEL_f9eeef08cf5f4159897f7b4b006a4692",
        "IPY_MODEL_eceafb6b3fe548e09097cc90bdac872a"
       ],
       "layout": "IPY_MODEL_d2f66585ef844f9187bc2b778dc9e505"
      }
     },
     "19bcb1fc2d9d421e901d48f5a715e315": {
      "model_module": "bqplot",
      "model_module_version": "^0.4.5",
      "model_name": "LinearScaleModel",
      "state": {
       "stabilized": false
      }
     },
     "1a73e610f21640eb8ab1d89c785863db": {
      "model_module": "bqplot",
      "model_module_version": "^0.4.5",
      "model_name": "AxisModel",
      "state": {
       "orientation": "vertical",
       "scale": "IPY_MODEL_e4c3a22daff943f8bb1d1475ef3328b0",
       "side": "left",
       "tick_values": {
        "type": null,
        "values": null
       }
      }
     },
     "1aebef714b0f4a4eba9c2b6ccb773d18": {
      "model_module": "@jupyter-widgets/controls",
      "model_module_version": "1.4.0",
      "model_name": "SliderStyleModel",
      "state": {
       "description_width": ""
      }
     },
     "1c160b24991144c2ae48fa3d0ae088c6": {
      "model_module": "@jupyter-widgets/controls",
      "model_module_version": "1.4.0",
      "model_name": "VBoxModel",
      "state": {
       "children": [
        "IPY_MODEL_517b3cc660734fd5a1a458eeff466b21",
        "IPY_MODEL_4d23c085db1146ffb4227aa605fcb673"
       ],
       "layout": "IPY_MODEL_9caa922702894c79b98d5e44d86678f3"
      }
     },
     "1c21db0996b84da48fff423c8543724c": {
      "model_module": "bqplot",
      "model_module_version": "^0.4.5",
      "model_name": "LinearScaleModel",
      "state": {
       "stabilized": false
      }
     },
     "1d1e2bf784cc468a8943a0da9c2ca02b": {
      "model_module": "bqplot",
      "model_module_version": "^0.4.5",
      "model_name": "LinearScaleModel",
      "state": {
       "allow_padding": false,
       "max": 1,
       "min": 0,
       "stabilized": false
      }
     },
     "203085b827fd40e7a73d7e127b83ff1d": {
      "model_module": "@jupyter-widgets/controls",
      "model_module_version": "1.4.0",
      "model_name": "SliderStyleModel",
      "state": {
       "description_width": ""
      }
     },
     "2134dc40e9d94deebd43336707c9d537": {
      "model_module": "bqplot",
      "model_module_version": "^0.4.5",
      "model_name": "AxisModel",
      "state": {
       "orientation": "vertical",
       "scale": "IPY_MODEL_a5b0a1abfbb34cc697d3d7bb1732991a",
       "side": "left",
       "tick_values": {
        "type": null,
        "values": null
       }
      }
     },
     "217dc0dea0004590b49586485973f141": {
      "model_module": "@jupyter-widgets/base",
      "model_module_version": "1.1.0",
      "model_name": "LayoutModel",
      "state": {}
     },
     "21ad3daa94eb43789e7c87ef9f91f856": {
      "model_module": "bqplot",
      "model_module_version": "^0.4.5",
      "model_name": "HistModel",
      "state": {
       "colors": [
        "#475A77"
       ],
       "count": {
        "type": "float",
        "values": [
         0.00011875399652872969,
         0,
         3.044974269967428e-06,
         0,
         0,
         0,
         0,
         0,
         0,
         3.044974269967428e-06
        ]
       },
       "display_legend": false,
       "midpoints": [
        4005.000000000221,
        12015.000000000196,
        20025.000000000175,
        28035.00000000015,
        36045.00000000013,
        44055.0000000001,
        52065.00000000007,
        60075.00000000006,
        68085.00000000003,
        76095
       ],
       "normalized": true,
       "sample": {
        "type": "float",
        "values": [
         80100,
         24001,
         2.3283064365386963e-10,
         3112.728759765625,
         2519.664794921875,
         1016.0343627929688,
         228.85360717773438,
         10.485886573791504,
         104.89647674560547,
         343.7881774902344,
         602.279052734375,
         780.8530883789062,
         838.6475219726562,
         745.5971069335938,
         533.9628295898438,
         274.46649169921875,
         68.06605529785156,
         6.039619445800781,
         115.18292999267578,
         345.0396728515625,
         598.8818969726562,
         777.572509765625,
         836.7930908203125,
         744.8504028320312,
         533.7498779296875,
         274.4312438964844,
         68.06642150878906,
         6.038338661193848,
         115.17864227294922,
         345.0361022949219,
         598.8817749023438,
         777.57421875,
         836.7939453125,
         744.8486938476562,
         533.7492065429688,
         274.4320068359375,
         68.06617736816406,
         6.038338661193848,
         115.17929077148438,
         345.0361022949219,
         598.8817749023438
        ]
       },
       "scales": {
        "count": "IPY_MODEL_c0c3ee0b3d374008b1477fa2ca30a2d2",
        "sample": "IPY_MODEL_65673b1634474ce2b0036cbbd3815103"
       },
       "selected": [],
       "stroke": "#475A77"
      }
     },
     "21bf2c98a4094f06aa2a798de46ad539": {
      "model_module": "@jupyter-widgets/output",
      "model_module_version": "1.0.0",
      "model_name": "OutputModel",
      "state": {
       "layout": "IPY_MODEL_292661aeea9e44e39dfc23b2dc843ef8",
       "outputs": [
        {
         "data": {
          "image/png": "iVBORw0KGgoAAAANSUhEUgAAAXoAAAD8CAYAAAB5Pm/hAAAABHNCSVQICAgIfAhkiAAAAAlwSFlzAAALEgAACxIB0t1+/AAAADl0RVh0U29mdHdhcmUAbWF0cGxvdGxpYiB2ZXJzaW9uIDMuMC4zLCBodHRwOi8vbWF0cGxvdGxpYi5vcmcvnQurowAAIABJREFUeJzt3Xl8W2eZ6PHfq8W2Fi/yFseJE2exs8tLnTZL23RJS+nApOwtbYGBSztQ7mUdhmUuBWY6DHQYhhlmoJ3LmrSUAoUWKIUuxN2y27GdfV/t2LHjTZZkW9J7/zhHjpM4thNLOkfS+/18/Il8dKTz5CR69J7nXY6QUqIoiqKkLovRASiKoijxpRK9oihKilOJXlEUJcWpRK8oipLiVKJXFEVJcSrRK4qipDiV6BVFUVKcSvSKoigpTiV6RVGUFGczOgCAwsJCWV5ebnQYiqIoSWXHjh2dUsqiifYzRaIvLy9n+/btRoehKIqSVIQQxyeznyrdKIqipDiV6BVFUVKcSvSKoigpTiV6RVGUFKcSvaIoSopTiV5RFCXFqUSvKIqS4kwxjl5RrpaUEfr7t9HTsxGLxYHdXkxGRpH+ZzE2WwEWi/pvbgZSRmhr+39kZs4gL+9mrFan0SGlDfUJUJJOJDJId/crdHb+lq6u3zE01DbO3gK7vWAk8V/uT7f7GqzWrIT9HdJRZ+dvOHDgQQAslizy8m4mP/9OioreSWZmqcHRpTaV6JWkMDzcTVfXH+jqepZz514gHPZhtbrJz7+DgoJ1FBS8FYChoQ6Ghzsu+6fP18TwcAehUPcF75+dXUdNzetYLJlG/PVSnpQRjh37Kg7HAioq/oNz5/5IV9cfOHTof3P8+D+yYsVR1cKPI5XoFdMKBo/T2fksnZ3P0tNTD4TJyCihuPheCgvX6Zf/F7bC7fYCYNGE7x2JDDE83MnQUAd9fW9w8OAnOHz476mo+Pf4/GXS3NmzzzAwsItFi54gP/928vNvZ/7879DV9QdaWt5GR8cvmD79b4wOM2VNmOiFEFnAq0Cmvv+vpJQPCyF+AqwBevVdPySl3CmEEMB3gTsBv769IR7BK6lFSonPt5POzmfp6noWn28nAE7nYmbN+jyFhevIzl6OEFMfQ2CxZJCZWUpmZinZ2dX4/Qc4ffq7eDy3UFj411N+f+U8KSMcP/41nM6FFBe/74Ln8vPvxOlcSGvrYyrRx9FkWvSDwC1SSp8Qwg68LoT4o/7c30kpf3XR/m8FKvSf64Dv638qyiUikWF6e1+ls/O3dHY+x+DgCUCQm7uauXMfpbBwHU5nRdzjmDfvW/T2vs6+fR+irm4nWVmz4n7MdHH27K/01vyTCGG94DkhBNOnP8jhw5+mv38n2dnVBkWZ2iZM9FJKCfj0X+36jxznJeuAn+mv2yyEyBNCTJdSjtdjpqSRUKiPc+deoLPzWc6de55QqAeLJQuP53bKyx+moOBtZGQUJzQmiyWTxYt/wY4dtezZ836qqzeq0ToxoNXmv4bTuYji4veOuU9JyQc4cuQLtLU9Rnb29xMcYXqY1P9koX0N7wDmA/8lpdwihPgY8IgQ4ivAy8AXpJSDwAzg5KiXn9K3qUSfxgYHW+nsfI6urmfp7n4FKYew2QooLLyLgoJ15OffhtXqMjRGp3M+lZWPsXfv+zl27GHmzn3E0HhSwdmzv8Tv38OiRT+/pDUfZbfnU1z8Ptrbn2Du3Eex2dwJjjL1TSrRSynDQLUQIg/4jRBiKfBF4AyQATwO/D3wdUCM9RYXbxBCPAA8ADBrlrpMTjVSSvz+PSOdqf39WwHIyprHjBmfoLDwLnJzV132w2+UadPuoafnFU6c+AZ5eTeRn3+b0SElLSnDHDv2dZzOxRQXv2fcfUtLH6S9/Wd0dPyc0tKPJijC9HFF16ZSyh4hxEbgDinlv+qbB4UQPwY+p/9+Cigb9bKZQOsY7/U42hcEdXV145WClCQhpaS/fxsdHU/T2flbgsHDAGRnL2fOnEf0evtitP5685o//7v09m5i7977qKtrIjOzxOiQklJHh9aaX7z4qQm/0HNyVuJyLaW19TGV6ONgwuELQogivSWPEMIBrAX2CSGm69sEcBewS3/Jc8AHhGYF0Kvq86ltYGAfR49+hS1bKmhouI7Tp/8Dh2M+FRXfZ+XKU1xzzVZmz/4SLtcS0yd5AKvVyZIlvyAc7mfv3vvQLmiVK3XmzA9xOCooKhq/NQ9ap2xp6d/i8+2gr0/dbS7WJtOinw78VK/TW4CnpZS/F0K8IoQoQivV7AT+Vt//ebShlYfQhleqMVMpKBg8RUfHU3R0PInP1wgI8vJuYfbsL1FY+E7s9jyjQ5wSl2sJFRX/yf79/4sTJ/6F2bO/bHRISSUcDtDT8xozZnx80sNhp027j8OHP09b22Pk5NTFOcL0MplRN81AzRjbb7nM/hJ4aOqhKWYzPHyOs2d/RXv7k/T2vgpIsrOXM2/edygufh+ZmdONDjGmSko+THf3Kxw9+hVyc28kL+8Go0NKGr29byDlIB7P2km/xmbLpbj4btrbf868ed/GZsuJY4TpRY0fU8YVDvvp6vod7e1Pcu7cH5FyGIejkvLyr1JcfE9CxrgbRQhBZeUP6O/fyt6993LddUfUkMtJ6u5+CSFs5ObeeEWvKy19kDNnfkRHx1OUlj4Qp+jSj/pfq1wiEhmmu/slOjqe5OzZ3xCJDJCRUcqMGf+HadPej9tdkxS19liw2bKZM+cR9ux5H/3928jNXWl0SEmhu/slcnJWXvFQyezs5WRkzKCn5y8q0ceQSvQKoE1s6evbRHv7k5w9+zTDw53YbHlMm3YPxcX3kpd3g+mGQsbMSy/BggVQVjbm0x7PrYCgu/tFlegnYXi4C5+vgfLyr134RCQCv/sd3HgjeDxjvlYIQW7uSnp7NyUg0vShbjyS5ny+Fo4c+SKbN8+lsfF6zpz5EXl5t7B06W9ZteoMCxb8Dx7PTamZ5KWEr38dbrsNli+HpqYxd7PbC3C7a+nufinBASan7u6/APLC+vzwMPzN38Bdd8H118Pp05d9fU7OSgYHjzM4qAbrxYpK9GkoEDjG8ePfYNu2ZWzf7uXEiUdxuRaxcOHPWLWqgyVLfkFh4brUXrI3EoFPfhIefhje+16w22HNGnjttTF3z8+/jb6+TYRC/QkONPl0d7+E1ZpNdvZybUMgAO96F/zsZ/DRj8LJk7B6NRw4MObrc3K0q6a+PtWqjxWV6NPE0NBZTp/+LxoaVrNlyxyOHv0SVmsOFRXfY9WqVrzeP1JScj82W7bRocbf8DDcfz/853/CZz4DP/85vPEGlJTA7bfD739/yUs8ntuQMqSPNlLG0939Inl5N2sd17298Ja3aOf0v/8bHn8cNm4Ev19r2TdcurBtdnYtQmTQ17c58cGnKJXoU1go1M+ZMxtobr6TN9+czsGDnyAU6mXOnH/muuuOUFv7BjNmPJTwBcQM5fdr5YMnn4RvfAP+9V/BYoFZs7TW/NKl2vPr11/wspycVVgsWZw796JBgSeHQOAIweARPJ7boL0dbroJNm+Gp56Cj31M26m2Fl5/HRwO7fmNGy94D4slk+zsWtWijyHVGZtiIpEhzp17gfb2J+nqeo5IJEBm5izKyj7HtGnvx+ValjYjZsb0T/8Ef/yj1rL86EVT7YuK4JVXtET/oQ/BqlUwbx4AVmsWubk3qjr9BLq7XwbQ6vMf+LhWnvn977UrpdEqK7WrqLe8Bd7xDmht1RK/LidnBa2tPyASGcJiyUjkXyElqRZ9CpAyQnf3Rvbvf4A33yxh1651dHe/REnJh6iufo0VK44yb96/4HZ70zvJRyJaS/2v/urSJB+VnQ0/+YnWUbthwwVPeTxr8ft3Mzh4ydJNiq67+yUyMmbgDBRqI2w+/vFLk3zUzJnwve9BTw8899wFT+XkrCQSCeLzjd1BrlwZleiTlLaAWAOHDn2OTZtm0dR0M+3tT5KffyfLlv2BVavaqKz8b/Lyro/JHZlSwsaNcOoU3Hff+PuVlWklhQ0btISv83i0lSxVq35sWoPjZTyetYinn9b6QiY612vWaAn/klKZ6pCNJZUBkozff5Bjx77O1q2L2LHjGk6f/i7Z2bUsWvRzVq9uZ/HiDRQU3InFYjc6VPPZsEFrsf/1JG4VeP/9cOgQbNkyssnt9mK3F6lEfxk+XxOhUJdWttmwAZYtg6qq8V9kscC998ILL8DZsyObs7LKyMiYoRJ9jKhEnwQGB9s4deq77NhxLVu3VnLs2MNkZEyjsvIxVq06w7JlzzFt2t2G37jD1Px++NWv4N3vvqAWfFnvehdkZV1QvhHCgsdzK93dLyGlWln7YtEvQE/vPNi0aeLWfNR990E4rHXYjpKbu1KNvIkRlehNKhTqpa3txzQ13camTTM5dOhTSDnM3LnfYsWKE9TU1FNa+gB2e4HRoSaH3/0O+vu1lvpk5OTAunVa8hkaGtns8axlaKgNv39PnAJNXt3dL+JyLSXzqT+DEPD+90/uhUuXQnX1JX0iOTkrCQaPMTh4Jg7RpheV6E1Eygidnc+xa9e7eOONaezf/2ECgSPMnv0lli/fTV1dI7Nm/R1ZWWNP1VfGsX69Vgtes2byr7n/fujqgj/9aWRTtE6vhlleKBwO0tv7Gp68W7VzffPN2vmerPvug61bYf/+kU2qTh87KtGbQCQySFvbD9m6dTG7dq2jt/d1SksfpLZ2M9ddd4g5c/4Rl2ux0WEmr44OrQZ8771aTXiybr9dG3I5qqMwK2sWDkelqtNfxOfbQSQSJK+9FA4fnvyVU9Q992j/NqNa9drieXaV6GNAJXoDhUK9nDjxLTZvnsP+/f8LiyWLRYueZOXK01RUfJecnOvSezhkrPziF1oN+EqTj90Od9+tDf3r7R3Z7PGspadnI5HI0DgvTi8+304Asn+zW+vbeOc7r+wNSkvh1lsvGOlktWbhdquJU7GgEr0BBgfbOHz4C2zaNIsjR/4ep3MRXu+fqKtrZNq0e9Sa57G2fr1WA16y5Mpfe999MDiodeTqPJ7biEQG6OvbMs4L04vPtxO7rZCMn/xOm3CWcxU3Dbn/fjh2TJtIpcvNXUl//3b1pTpFKtEnkN9/gP37P8rmzeWcPPko+flvobZ2G9XVL5Off7tqvcfD/v2wbduVt+ajli/XZnGOKink5d0EWOjuVnX6KJ9vJ+7gDMS57smPtrnYO94BTucF5/r8xKnmGEWanlSiT4C+vi3s2vUutm5dyJkz6ykp+RuuvXY/S5Y8re6NGW8bNmi133vuubrXC6Elro0b4cQJAOz2PHJyrlWJXheJhPD5WnC1+LU+jcvNhJ2I260l+6ef1q6iUB2ysaISfZxIKenqep7GxptoaFhBT88rzJr1RVauPM6CBT/A6ZxvdIipT0p44glYuxamT+F+ttEW6hNPjGzyeNbS17eVUKj3Mi9KH4HAAaQcxP3iUa1Pwz6FyXr33Qfd3fCHPwBq4lSsqEQfY5HIMGfObGD79ipaWv6KQOAQ8+Z9mxUrTjB37iNkZEwzOsT0sXcvHD0K73nP1N5nzhythPP88yObtGGWEf0mG+kt2hHr3hua+rleuxby8i4419rEKZXop0Il+hgJhwc4deq7bNkyn3377kfKMAsX/oQVK45QVvaZ9Fjn3Wzq67U/b7556u91003aOO9AANBWVxQik76+N8Z/XRrw+XYiwlacnVlw3XVTezObDW644fy/HZCdfR3B4DGGhjqnGGn6Uol+ioaGznL06MNs2jSLQ4c+RVbWLJYu/R3Ll7dQUvJBtcSqkerrYcYMmDt36u+1Zo02Q3azNiXfYsnA5VqMz9cy9fdOcj7fTlytGViuXQUZMfj/vmaNts5Qq7ZKqNu9DICBgV1Tf+80pRL9VQoEjnDgwCfYvHk2x49/ndzc66mpeYOamtcoLHybWjHSaFJqiX7NGq1Ddaquv17r1B3V0nS5ljEwkN6JXkqJr78Rd0vgymYdjyf6Pvq5drlUop8qlY2uUH9/I3v23MOWLRW0tT1OcfHdLF++h2XLniU3d5XR4SlRBw/CmTOxSz65udpY/IsS/dBQK8PD52JzjCQ0NHSG4VAn7kPE7lxXV2urjOrnOiNjOjZbftp/qU6FmpkzCVJKenpe4cSJb9Hd/Wes1mzKyj7DzJmfIjNzhtHhKWOJJuRYJZ/oe33/+9rQv8zMUSWFFvLyYnicJDLSEXvcPvX6fJTNpl1B6f+GQghcrqUq0U+BatGPQ8owHR2/ZMeO5TQ1rcXna2LOnG+wYsUJ5s17VCV5M6uvh2nTtMlOsbJmDQSDWqcs4HItBUjrOv1Ioi9Yri19ECs33QT79mn3nSVaJtulloe+SirRjyEcDnD69A/YsmUBe/a8l3C4j8rKx1ix4hizZ38Buz3P6BCV8cS6Ph91ww3a+42UFEqx2Txp3dL0dW8jqxVsK26N7RtHr8RefRXQvlTD4X4GB0/E9jhpQiX6UYaHuzl+/BE2by7n4MGPYbfns2TJr7j22r2Ulj6A1RrDFosSP0eOaLcMjGXZBiA/X7tr0saNQLSkkN4dsr5zW2Nbn4+qrQWXa+RcR8tk6Xz1NBUq0QPB4EkOHfosmzfP4ujRfyA7u5aqqr9QW7uFoqJ3IYTV6BCVKxGtz990U+zf+6ab4M03R25Gks4lhXB4gIA4jfuoBVaujO2b2+2wevWokTdamUyNvLk6aZ3oBwZ2s3fvh9iyZS6nTn2XgoJ11NXtxOv9Ix7PTWqRsWRVX6+tubJoUezfe80abdLU9u2A1tIMh/sJBo/H/lgm5/O1gAC3tVJbjCzW1qyB3buhsxObLZfMzLK0vnqairRM9D09r9PS8na2bVvK2bO/pLT041x33SEWL96A2z3BzYwV86uvhxtvjG19PurGG88fg9FjvNMvAfm6tGWa3bNjXJ+PuqROv0y16K9S2iR67TZ9z9LQsJqdO2+gt3cT5eVfZcWK41RUfBeHo9zoEJVYOH5c+4l1zTiqsFBb1/6SkkIaJvqjf8bWB5nXvT0+B1i+XLuR+6gvVb9/L5HIcHyOl8ImTPRCiCwhxFYhRJMQYrcQ4mv69jlCiC1CiINCiF8IITL07Zn674f058vj+1cYXyQyRFvbj9m2bSm7dt3F0FAr8+f/JytXHqe8/GEyMgqNDE+JtXiMn7/YmjXazTFCIWy2HDIzZ6dnou/fifsIiFWr43OAjAxYteqCL1UphwkEDsTneClsMi36QeAWKWUVUA3cIYRYAXwT+I6UsgLoBj6i7/8RoFtKOR/4jr5fwoVCfZw48a/6bfo+jBAZLFr0JNdee5CZMz+B1eoyIiwl3urrtdExS5fG7xhr1oDPBw0NgFanT7fRIFKGGXCewe0r0daRj5c1a6C5Gbq71Zo3UzBhopcan/6rXf+RwC1A9P5qPwXu0h+v039Hf/5WkcBezcHBMxw58kX9Nn1/h9O5AK/3BXWbvnRRX6+Nd7+Sm4BfqTHq9IHA/rS63V3gXAuRjAjunNr4HmjNGm1exGuv4XQuBKxp96UaC5P6NAghrEKInUAH8CJwGOiRUob0XU4B0WmiM4CTAPrzvUBBLIMei99/kP37H2Tz5nJOnPgm+fm3UVu7lerqV8jPf4saQZMOTp2Cw4fjW7YBKCmBBQtGxni7XMuQMoTfvy++xzURX5PWxnNXvDW+B7r2WsjMhI0bsVgycTor07JMNlWTat5KKcNAtRAiD/gNMNa4tehA4rEy6iWDjIUQDwAPAMyaNWtSwY6lr28bJ058k87OZxAig5KSD1FW9jl1B6d0lIj6fNSaNfDUUxAOXzDyxu32xv/YJuA78RfEDHCuvDu+B8rKghUrLrh66u/fHt9jpqArur6VUvYAG4EVQJ4QIvpFMRNo1R+fAsoA9OdzgUuW95NSPi6lrJNS1hUVFV1V8D5fCw0N19LZ+WvKyj7PihXH1G360tnrr0NODlQlYIjsmjXQ1wctLTidCxDCnlYlBd/wPpwdDix5CRjMsGYN7NwJPh8u11KCwSOEQr6JX6eMmMyomyK9JY8QwgGsBfYCfwHere/2QeBZ/fFz+u/oz78i4zRt0OlcQHGx1qLo798ChONxGCVZNDTANdeANQEzmZcvHzmmxWLH6VyYPiUFKRnI7cY1PDMxx1u+HCIRaGoauXry+3cn5tgpYjIt+unAX4QQzcA24EUp5e+Bvwc+I4Q4hFaD/6G+/w+BAn37Z4AvxD5sjcWijaRZsODH9PVtY9s2L52dz8XrcIqZhULa6IyamsQcb948bc10feRNOi2jGzq8i8Fiicu9ODEHjP6bNjSokTdXacIavZSyGbjk0yOlPAJcO8b2IDDFOwRPnhCC6dM/RG7uKvbsuZtdu9ZRWvoQ8+Y9itXqSFQYitH27dOWEK6N8yiQKItFu0FGYyOg1Y47On7O8HBPyq9u6t/1POSBc2acxs9frLQUiouhsZGsrIewWJxpVSaLhZSZGet0VlJbu4mZMz9Da+t/0dBwHQMDe4wOS0kUvWWdsBZ99Fg7d17UIZv6LU3/Ke2G6M4FtyfmgEJo57qhASEsuFxL0uI8x1LKJHoAiyWT+fO/zbJlzzM0dIYdO+pobX08LVcWTDuNjdp0+QULEnfM2lrw++HgwQvuNpXq/L7diJDAkZug0g1o53r3bhgcTPuloa9GSiX6qIKCt1JX10xu7vUcOPAgu3e/O63v65kWGhq00TaJ6IiNipaJGhrIzJyF1ZqT+glISgasp3D4crFY7Ik7bk2N1g+zaxcu11KGhzsYGupI3PGTXEomeoDMzBK83heYO/dRurqeY/v2anp6XjM6LCUeIhGthJKo+nzUwoXaZJ6GhvS5r2lbG/6SIVyUJ/a4o75U06lMFispm+gBhLAwa9bnqKl5EyEy2LnzJo4e/SqRSGjiFyvJ48gRbUx7ohO93Q5e7wUdsj5fS0qXCsONWwiUgtOT4OW858zR5kg0Nqb1iqFXK6UTfVROznJ9rZt7OX78azQ13UIwqO49mTKM6IiN0jsJkVK/r2kvQ0OtE78uSQX2vQxWcJYnYPbxaBbLyLnOyJiGzVbAwIAaSz9ZaZHoAWy2bBYt+hkLF67H52tk+/Yqzp79tdFhKbHQ2Ki1rpcsSfyxa2uhpweOH8fprAS0dZdSlb9jKwCuggRfPYF2rpubEeEwTucC/H61XPFkpU2ijyopuY9rrmnE4ahg9+53s3//3xIO+40OS5mKhgYtyWdmJv7Yo2rHDoeW6AOB1E30A4MHICJG/q4JVVOj3cZx/36czgUEAvsTH0OSSrtED+B0zqem5nXKyj5PW9tj7NixHJ+v2eiwlKshpdaiT3R9PmrZMm2kT0MDWVllCJGRujfG6OrCn9eLYyjfmMmIo75Unc4FDA2dIRTqS3wcSSgtEz1oyyfMm/dNvN4/EwqdY8eOazl9+r9SuiMtJZ0+DWfPGlOfB211xcWLobERIaw4HPNTt3Szcyf+WeDMqDDm+AsWaOe7sXHkikKVbyYnbRN9VH7+bdTVNeHx3MLBg59g1667GB7uMjosZbL0ES+GtejhfIcs4HBUpGyLPtKwDX8ZOKddsvJJYths2lwJvUUPqPLNJKV9ogfIyChm2bLfM2/edzh37o9s21ZFd/dGo8NSJqOhQZsin4iliS+nthbOnIG2NpzOSgKBw2i3cEgtwSOvI+0GdcRG1dRoLfrMOYAFv18l+slQiV4nhIWysk9RW7sFq9VFU9MtHDnyD+qO82bX0KBd0rsMvAdw9GqiUevkl3KIYPCkcfHEycA57erJ6Uzg0gcXq62Fvj4sx1vJyipXpZtJUon+ItnZNVxzzQ5KSv6GEyceYefONQQCx4wOS7kcIztio6JXE42NI0MsU6584/Pht2nzA7R7txok2hfT2KhG3lwBlejHYLO5Wbjwhyxe/BQDA7vZvr2Kjo5fGB2WcrHOTjh50riO2KicHKio0IdYah2VKTfEsqkJ/2zIjBRis2UbF8fSpVqtXq/T+/0HkDJiXDxJQiX6cRQXv4+6up24XIvZs+du9u37COHwgNFhKVFm6IiNGpm1OR2LxZV6JYWGBgZmg9NtwKS00bKytDkT+ryFSMTP4GDqzkSOFZXoJ+BwzKG6+lVmzfoyZ878mO3br6G/v9HosBQ4v/RBdbWxcYD2ZXPsGKKnB6ezIuVa9LKxAf9scHlMcK71L1XnyAQ1Vb6ZiEr0k2Cx2Jk795+oqnqZcLifhoYVnDz572rMvdEaG6G8HPLzjY7kog7ZypRr0Q8e3UIkC5wuAztio2pr4exZHH05AGrkzSSoRH8FPJ6bqatrIj//Dg4f/jQtLW9jaOis0WGlr4YG4+vzUaM6CR2OCoLBY0QiQ8bGFCuDgwwMasnU0BE3Ufq5ztx1JjXLZHGgEv0VysgoZOnS31JR8T26u19m+3Yv5869ZHRY6aevDw4eNEd9HqCwEMrK9E7CCiBMMHjU6KhiY9cu/DO1Dk+Xa5HBwaCNchIC0dCoz1tQLfqJqER/FYQQzJjxENdcsxWbzUNz8+0cPvwFNeY+kXp74e1vh9UJukH1ZFRXQ1PTqOn5KVKnb2piYDbYLQXY7QVGRwPZ2TB//si5VqWbialEPwVut5drrtnO9Okf5eTJb9LYuJpA4LDRYaWHsjJ47jm4+WajIznP64V9+3BYyoAUGkvf1IR/rgVn9lKjIznP64WmJpzOBXqZbNDoiExNJfopslqdLFjwGEuW/IpA4CDbt9fQ3v6E0WEpRqiqgnAY+8EObDZPyoy8kc1N+MsFLjN0xEZVVcHhwzgtswFJIHDI6IhMTSX6GCkqehd1dU243VXs3Xsfe/d+kFCo3+iwlETyegEQLS04HBWpUbqRkqETTYQcYXN0xEbp59pxWgBqFcuJqEQfQ1lZs6iq+guzZz9Me/sGmppuU0Mw08n8+dqEnuZmvZMwBZJPayv+3B7AJB2xUXqid+7R1qNXdfrx2YwOINVYLDbmzPkqHs+thMM+hBBGh6QkitWqTdFvasLhuJH29g2EwwFjbtIRK01N+LUuBxyOBcbGMlp5OWRnY2s8QMbiEjXyZgKqRR8neXk3UFDwVqPDUBKtqkoQqpLeAAAgAElEQVRP9NE1b5K8dtzcjL8MLBYXmZkzjI7mPCG0Vn1zMw6Hun/sRFSiV5RY8nqhsxNnQJutm/Qdss3NBCqycDorzXd1qid6p1MNsZyISvSKEkvRTsL92uJ3Sd/SbGrCP9tizM3AJ1JVBX19OINFhEJd6s5w41CJXlFiSU/0tubD2O3TkrtFHwwSObKPYG5g5NZ9pjIy8kZLY0n/pRpHKtErSizl58PMmakx8mbvXgLTIiCkORP9Um0Cl3OPD1Ajb8ajEr2ixNpIJ2GSj6XXO2IBc5ZusrNh7lyytp9ECJsaeTMOlegVJda8Xti7F2fGPIaH2wmF+oyO6Oo0NeGfo43Ajt4i0XSqqrA0tpCVNU+VbsYxYaIXQpQJIf4ihNgrhNgthPikvv2rQojTQoid+s+do17zRSHEISHEfiHEW+L5F1AU0/F6YXgYx7ksIIlH3jQ3E1iaS0bGdGy2HKOjGZvXCwcP4sycr0o345hMiz4EfFZKuQhYATwkhIjOhf6OlLJa/3keQH/ubmAJcAfw30IIaxxiVxRz0m8W7jikLbSVlOUbKbUWfbnVnGWbKK8XpMQ54CEQOISUYaMjMqUJE72Usk1K2aA/7gf2AuPNnFgHPCWlHJRSHgUOAdfGIlhFSQqVlZCRgWNnB5Ckq1i2t0NnJ/78AXN2xEZFv1RPW5BykGDwuMEBmdMV1eiFEOVADbBF3/QJIUSzEOJHQgiPvm0GcHLUy04x/heDoqQWmw2WLMHauIfMzFnJWbppamI4B0I2kyf6OXPA5cK5NzryJgm/VBNg0oleCOEGfg18SkrZB3wfmAdUA23At6O7jvHyS1b2EkI8IITYLoTYfvasuh2fkmKqqkbN2kzC5NPcjH+m9tDUpRuLBZYtw7m1DUjSq6cEmFSiF0LY0ZL8E1LKZwCklO1SyrCUMgL8D+fLM6eAslEvnwm0XvyeUsrHpZR1Usq6oqKiqfwdFMV8vF44cwYHMwkEDiTfKqbNzfirtIt0U7foAbxe7Jv2YrXmqg7Zy5jMqBsB/BDYK6X8t1Hbp4/a7R3ALv3xc8DdQohMIcQcoALYGruQFSUJRGdtdjoIhXqSb3p+UxMBbz5C2MjKmmN0NOOrqkJ09+C0latEfxmTWaZ4NXA/0CKE2Klv+xJwjxCiGq0scwx4EEBKuVsI8TSwB23EzkNSdYUr6Sa6XvrRYZivlRQyMgoNDmqShoZg7178c+aSlTUPi8Xkq5lHz/VAPj2o0s1YJvwXlFK+zth19+fHec0jwCNTiEtRkltREUyfjqOpC+ZrnYS5uauMjmpy9u2DUIhAfgCns8boaCa2bBkAjlYr7bNOEg4PYLW6DA7KXNTMWEWJF6+XrE1H9en5STTyprkZaQG/vd389XmA3FwoL8e53w8k6byFOFOJXlHixevF0rKHrMw5yTUapKmJ4Aw7kiFzj7gZzetVI2/GoRK9osSL1wtDQzjC05NriGVzM4HVs4AkGHET5fXieOMYkGSrWN5zDzzxRNwPoxK9osSLPmvT2e3Sp+dHDA5okpqb8VcXAEmU6KuqsAYkmWJa8rToe3rgqafg1Km4H0olekWJlwULwG7HcTxMJOJncPCS6STm09EBZ87gn2vHas3Fbk+SOS7RkTf+guRp0Tc3a3/qsceTSvSKEi8ZGbBoEc6WbiBJasd68gkUaneVMt19Yi9n3jxwOHC02fH79yfHBDWV6BUlRXi9ON48ASTJcsV68vFnJMmImyirFZYuxXnATzjcx/Bwh9ERTay5GQoKoLQ07odSiV5R4qmqisxd7ViEIzk6ZJuaCJdPY3D4dPKMuImqqsK57QyQJB2yzc1aaz4BV00q0StKPHm9CAmOyPSkKd0EbpgLJFFHbJTXi2N3P5AEiT4chpaWhJRtQCV6RYmv6Jo3vdnmn8gzPAx79uCv1pZqSMZEn3UWhLSb/0v1yBHw+1WiV5SUUFICxcU4T0qCwcNEIiGjI7q8AwdgaAj//AwAHI75Bgd0hbxeRAScgSQYeRPtiNWH4MabSvSKEm9eL47dvUgZIhg8ZnQ0l9fUBECgcJDMzFlYrU6DA7pCHg+UleFotydHordYCC2YlZDDqUSvKPHm9eLcFp2eb+LyTXMz2O34M87gdCZZR2yU14vzYIBg8AiRyLDR0VxeUxOysoJNjfM4fPjzcT+cSvSKEm9eL47DQ4DJx9I3NyMXL8IfOIDDkWT1+SivF+fOc/rV01Gjo7m85maGrqskHO4nM7Ns4v2nSCV6RYm3qirsvWCLuMw9xLKpieFrKwmH+5KvIzaqqgrHMW2pCdOe674+OHqUQN00IDGd3irRK0q8LVqEsFpx9OeYt3TT2QmtrfhrtSUPkjbRe7049aVjAgGT1ul3aTfj88/PAhJzT16V6BUl3jIzYeFCHKct5m1ltrQA4J+fCZj8huDjqajAPpSJfdBh3g5ZvdPbP20QiyWLrKz4d8iqRK8oieD14tznY3DwBOFw0OhoLhVd46Z4ECEyE5J84sJmgyVLcHRkmvdLtbkZ8vIIWNtwOCoQIv5pWCV6RUmEqiocu3sBbTy96TQ1QXExfnEKpzMxySduqqpwHgqat3SjL32gdXon5sopif81FSWJjKodm7Kl2dwMVVX4/fuTd8RNlNeL80CQoaEzhEJ9RkdzoUgEWlqIVC0hGDySsL4QlegVJRG8XhwjnYQmS/ShEOzenfDkEzdeL46T2kPTfakeOwb9/QRrpyNlSCV6RUkppaXYHAXYAw7zrXlz8CAEgwRrosknSTtio8w88ia6DHSlNutYlW4UJZUIoSWgNpv5WvTR5FMRHe6X5C36wkIccjpEhPla9M3NIAT+4kGAhH2pqkSvKIni9eI46DffsL/mZrDZCBQGgMQln3iyLK4iq8uO37/P6FAu1NwM8+cTCB/Fbi/Ebs9PyGFVoleURPF6cR4JMzzcwfBwt9HRnNfUBAsX4h86nNDkE1deL67Dw/gH9hgdyYWamrQRN/7ELjOhEr2iJEpVFS7troL4/XuNjWW0VBpxE1VVhfOYxO8/YJ6loX0+OHx45FwnstNbJXpFSZTFi3Ge1G4bZ5pE390NJ0+C10sgcCD5R9xEeb04j4FkyDyLm+3eDVIS8s5jeLg9oSUylegVJVEcDrJyKrGELAwMmCTR60sfhLzzGBpK4uWJL7ZgAa5WGwB+v0nKN9FO7wXRETeqRa8oKUl4q3GctpqnRb9zJzB6uF+KtOjtdpzORQDm+VLduRNycvDnafe1VaUbRUlVtbW4Dg3j799tdCSahgYoKSHgOgck8aqVY7AtWU5Gl8U8LfqGBqip0YfXWnA45ibs0CrRK0oi1dTgPAHBoROEwwGjo4HGRqip0Yd8Jjb5xF1NDa4jEfw9zUZHAuGwNuKmpga//wBZWXOwWDITdniV6BUlkWpqcB4HhDR+PH0wqHUQ1tbi9+9PePKJu9panCdgILgfKSPGxrJ/PwQCI+c60VdOKtErSiIVFuIc1O4sZHidvqVFa2nq5YRUKtsA2lj64xARQQYHTxkbS0MDALK6ikDgYMI7vSdM9EKIMiHEX4QQe4UQu4UQn9S35wshXhRCHNT/9OjbhRDiP4QQh4QQzUKI2nj/JRQlmThLl0PEBIm+sREAWVON338gdUbcRLndOKW2rv6A0ROnGhshK4vBudlEIv6Ed3pPpkUfAj4rpVwErAAeEkIsBr4AvCylrABe1n8HeCtQof88AHw/5lErShKzVC3HcRr8fS3GBtLQAHl5DE63G5J8EsFZVAeYYIhlQ4M2UWpQuxeB6Uo3Uso2KWWD/rgf2AvMANYBP9V3+ylwl/54HfAzqdkM5Akhpsc8ckVJVnqH7EB3k7Fx6B2xgaC2mmbKteiBjMUrsXeD/1yjcUFIef5c6wvama50M5oQohyoAbYA06SUbaB9GQDF+m4zgJOjXnZK36YoCmidhMchEDlh3PT84WFtFIjeOQipNbRyRLRDtqvBuBiOHoXe3pFzbbW6ycgoTWgIk070Qgg38GvgU1LK8W7bIsbYJsd4vweEENuFENvPnj072TAUJfmVluLqzkZawgSDR4yJYd8+GBwcGVppsbgSnnwSoroa1zHwR44i5SVpKDH0jtjouXY4KhFirDQZP5NK9EIIO1qSf0JK+Yy+uT1aktH/7NC3nwLKRr18JtB68XtKKR+XUtZJKeuKioquNn5FST5C4HQvBgzskNU7Yqmt1UfcJD75JER+Pk5fPiFbgKGhdmNiaGzUblq+dOnIuU60yYy6EcAPgb1Syn8b9dRzwAf1xx8Enh21/QP66JsVQG+0xKMoisY5czUAA0Z1yDY0gNMJlZWGjOtOJKfL4C/VhgZYsoSwHYLBY4Z0ek+mRb8auB+4RQixU/+5E/gX4DYhxEHgNv13gOeBI8Ah4H+Aj8c+bEVJbjbvCjLOgr91szEBNDZCVRVhhg1LPoniKl0JgP+cAXV6KUctfXAIkIZ8qdom2kFK+Tpj190Bbh1jfwk8NMW4FCW11dbi+g34sw1Y8yYS0RL9Bz5AMHgYLfmk3oibqIyla7D6HmXg1Osw77OJPXhbG3R0jJTIwJjRTWpmrKIYYc4cnGcy8FtPJ76T8PBh6O8ftcZNio640YkabeSNv8+AL9WLOmIhcTcEH00lekUxgsWCk9mE7cMMDp5O7LFHdcQODOwGBE7nwsTGkEjTp+PqcDBgOznxvrHW2KjdGL6qioGB3WRmlmGzZSc8DJXoFcUgzjwvAP7+XYk9cEMD2O2wZAkDAy1kZc3FanUlNoYEczKLYUeQ4eFziT1wQwNUVEB2NgMDLbhcyxJ7fJ1K9IpiENecmwDwH6tP7IEbG2HpUsjI0JPP0sQe3wCu3CoA/D07E3vgxkaorSUSGcbv32vYuVaJXlEMYq+6CVsf+Nu3Ju6g0VEgtbWEw0H8/oO43ca0MhPJOWcNAAMHX07cQbu64PhxvSP2IFIOqxa9oqQbsXAhzpOCgWAC16U/dQo6O/XOwX1AOC1a9Fne27EEwX9mS+IOGu0LqalhYECbL6Fa9IqSbmw2nP5C/FkdE+8bKxd0xEaTT+q36MWceThbrQwMJvBLdVSi9/laACsu16LEHX8UlegVxUAu+3yG3cMMD3Ym5oANDdooEK+XgYFdCJGBw1GRmGMbSQicAwn+Um1ogFmzoKCAgYFdOJ2Vht3BSyV6RTHQyHrph19JzAEbG2HhQnC5GBhowelciMViT8yxDeayz2fQM0Qo2J2YA+odsYDhnd4q0SuKgZyVtwEwcOjF+B9MSti+HWpqtGMO7EqLsk2Us3g5AP7df4j/wfr64MABqKkhHB4gGDxi6LlWiV5RDJRVdTvWAfB1JGDNmyNHoLUVVq9meLiHwcGTaTHiJsq9TLs3km9vAhL9669rX6yrV+uT0oztC1GJXlEMJDIycZ/LwycSsC59vT5ef80aBga0SVrpMOImKmv+DVgDAt+5BAxnra/XJqWtXGn4iBtQiV5RDOe2LmRguh95Ns4dhfX1UFgIixePSvTp06IXwoK7twhfxgmttR1P9fWwfDk4nQwM7MJiceBwzI3vMcehEr2iGMxVtoawE4Jv/Cq+B6qvhzVrQAgGBlqwWnPIzCyb+HUpxO1YysCsEHJPHBc48/m0vpCbbtJ/bcHlWoIQxqVblegVxWDuJesA8O2PY+34+HHtZ40+Q1QfBZKSd5Uah7t8LWEnBDb9On4HefNNCIcvOtfGXjmpRK8oBnPlVkNE4OvZEb+DjKrPSynTbsRNlGvOWgB8R/4cv4PU14PVCqtWMTTUwfBwh+HnWiV6RTGY1erAGSjEl90O3XEa411fD/n5sHQpQ0OthELdadURG+VyLdW+VAea4lenr6+Hujpwu03T6a0SvaKYgNtVhW8u8Npr8TlAfT3ccANYLCPJJ52GVkZZrQ6cw9MZmDYABw/G/gB+P2zdOqpsY45Ob5XoFcUE3LNuYrAEht98IfZvfvq0dlcpPflo664Y38o0ijv3GnzzOV/OiqXNm2F4+IL6vN1eSEbGtNgf6wqoRK8oJuDO02Zt+o7GYRndUfV50JJPRsZ07PaC2B8rCbhLb2CwGIY2/yn2b15fDxYLXH89EB1xY3ynt0r0imICbrd2Ywxf5CD09sb2zTduhNxcqNKOka4dsVFudzUAA6c2xr5Ov3GjtsRETg5SRvD7d5viXKtErygmkJExjQyZj2+e1KbPx1K0Pm+1ImUYv3+PKZKPUUa+VHO7tGUhYiUYhC1bRsbPB4PHCYd9pjjXKtErikm48moZiHXtuK1NW1xLL9sEAoeIRIJpW58HyMgoJsNSHPs6/ZYtMDh4QYkMzNEXohK9opiEO+caBsoFkdf/Ers3ffVV7c+LRoGk44ib0dx5dfgWWGOb6OvrtbX+b7gBGD3iZknsjnGVVKJXFJNwu6uQNon/bAP098fmTevrITt7ZGlibcSNwOk05k5HZuF2V+OfGSH85sbYvWl9vdYPkpcHaC36zMzZ2Gw5sTvGVVKJXlFMItpJ6Jsb0abRx0J9PaxeDTYboCUfh2M+VqszNu+fpNzuaqRV4hcntKUhpmpoCDZtGrlyAu1L1SxXTirRK4pJOBwVWEQWvvkiNiWFs2dhz54Lko8Z1l0xg5EO2VjV6bdtg0Bg5FxHIkMEAvtNc65VolcUk7BYbLjcy/DVZGvD9Kbqovr88HA3gcBBsrNrp/7eSc7hmIfF4sK3JDM25zr6ZaHX532+nUgZwu02x7lWiV5RTMTtrsI3axi5eZN2N6ipeOYZ8Hi0dVeAvr4tAOTkrJxqmElPCCtutxdfTQ787nfabNapeOYZuOYabb1/oK9vEwC5ueY41yrRK4qJuN3VhDICDBYATz559W/U3w+/+Q28973anY6IJh8L2dnLYxJrsnO7q/FNH0B2dsKfpjBLdu9e2LED7rtvZFNv7yYyM8vIzJwRg0inTiV6RTERl0uvHd9ZARs2XP0b/eY3Ws34/vtHNvX1bcLlWorNlj3VMFOC211NWPgJLsqb2rnesEFblviee0Y29fVtIidnRQyijA2V6BXFRNxuLwADb62EpiZoabm6N1q/HubMgVWrAJAyQl/fFlW2GWWkQ/a+lfDss1e39EQkoiX6226DadrCZYODrQwOnjDVuVaJXlFMxGbLIStrHr5KizYk8mpamq2t8PLLWilBX0zL799LONxnmpqxGWgjYiz4bizVli945pkrf5PXX4cTJy66ctoMmKsvZMJEL4T4kRCiQwixa9S2rwohTgshduo/d4567otCiENCiP1CiLfEK3BFSVVudxX9Q3vgjjvgiSe029JdiSef1BbruqhmDOZKPkazWp04nZX4cjugokK7CrpS69eD2w133TWyqa9vE0JkkJ1dE8Nop2YyLfqfAHeMsf07Uspq/ed5ACHEYuBuYIn+mv8WQlhjFayipIPc3FUEg4cJfuCt2lryVzrOe8MGuPZaqKwc2dTXtwmbrQCHoyLG0Sa3nJxV9Pa+hrzv/dowy5MnJ//iYBB++Ut45zvBeX4CWm/vJrKzr8FiyYx9wFdpwkQvpXwVODfJ91sHPCWlHJRSHgUOAddOIT5FSTsej3Zf057r7NryBVfS0mxp0Wr7o0oJcL5z0Oh10c3G47mNUKiH/vdUa1dBVzLS6fe/1+r6o851JDJEf/920105TaVG/wkhRLNe2vHo22YAo78ST+nbLiGEeEAIsV0Isf3s2bNTCENRUovLtQy7vYjugVfh3e+GX/9au0XdZGzYoNX23/e+kU3Dwz34/XtNNQrELDyeWwDodu7ROq7Xr5/8GvXr10NpKdx888gmn68JKQdNd66vNtF/H5gHVANtwLf17WM1F8Y8a1LKx6WUdVLKuqKioqsMQ1FSjxAWPJ5b6e5+CXn/fdqY+Oeem/iF4bBW07/jDhj1merv1yZKqY7YS2VkFONyVdHd/ZLWMt+9W7simkhnJzz/PLz//drQSl10olRKtOillO1SyrCUMgL8D+fLM6eAslG7zgSmOL1PUdKPx7OWoaEz+OuKYObMyY2+qa/XavoXlW20jlgL2dmqijoWj2ctvb1vEH7327TJZZMplT39NIRCY5bIMjNnkpU1M07RXp2rSvRCiOmjfn0HEB2R8xxwtxAiUwgxB6gAtk4tREVJP9E6fXfvK3DvvfDCC9DRMf6L1q+HnBx4+9sv2KwmSo3P41mLlEP0WvbAX/2VVqcPhcZ/0fr1sGwZeL0XbO7t3WS61jxMbnjlz4FNwAIhxCkhxEeAbwkhWoQQzcDNwKcBpJS7gaeBPcALwENSyiscG6YoSlbWbByOivMlhXAYPvvZyyeg+nr4xS+0mr7DMbJZTZSaWF7eDQiRcf5cnzkD//RPl6/Vr18Pmzdf0pofHGxjcPC4Kc+1baIdpJT3jLH5h+Ps/wjwyFSCUhRFa2m2t68nsroSy9e/Dl/5ilavf+opyMo6v+Ozz2qdr/PmwT/+4wXvoU2U6lX1+XFYrS5yc1fR3f0irPuGlsC/9jXo6YF/+zewjGoP//u/w6c/DbfcAh//+AXvY9b6PKiZsYpiWh7PWsJhH/39W+H//l/43ve0Ttk77jg/Xf/HP9bGcVdXa8sSl5Ze8B7nZ2maaxSI2Xg8a/H5djIUPgc/+Ql86lPw3e/CBz+orWwppfZv8OlPa+f7+efB5brgPfr6NptuolTUhC16RVGMkZd3MyDo7n6J3NzV8NBDkJ8PH/iANqRv3Tr46le1dVaeeUaboXmR3t5N2Gz5OByVlzynnOfxrOXo0X+gp+cViovfp7Xki4rgy1+G7m6tQ/yxx+CjH4Xvf/+CkTZRfX2byM6uNdVEqSiV6BXFpOx2D9nZdXR3v0R5+cPaxnvu0daYf+c7obER3vMerWacOXZyUROlJsftvgarNZfu7pe0RC8EfOlLUFAAH/uY1qL/whfgn/95ZP2g0aITpUpLP2ZA9BNTiV5RTMzjWcvJk48SCvWfHzVzxx1ameaNN+ATnxizdQnRiVJ7KC4eq5tNGc1iseHx3MK5cy8ipTz/xfjggzB7tnZbxos6X0fz+ZqIRIKmrM+DqtEriqlpQ/9C9Pa+euETdXXwyU9eNsmDmih1pTyetQwOHicQOHzhE3fcMW6SB3N3xIJK9Ipiajk5q7BYsrShf1eoq+t5hLCriVKTNDJ34SrPdVZWuekmSkWpRK8oJma1ZpGbe8MVJ59w2E97+88oKnq3mig1SQ5HBZmZZVd8rgOBI3R3/5mSkg/FJ7AYUIleUUzO41nLwMAuBgfPTPo1HR1PEwr1UFr6YBwjSy1CCDye2+jpeYUrmefZ1vY/gKCk5CPxC26KVKJXFJOLlhTOnfvjpF/T1vYYTudCcnNvjFdYKcnjWUso1E1f35ZJ7R+JDNHW9iMKCt5m2rINqESvKKbndlfjdC7i5Mlvo60jOD6fr4m+vs1Mn/6AGlZ5hQoK7sRqzeXkyUcntX9n57MMD3eY/spJJXpFMTkhLMye/RX8/t2cPfurCfdvbX0MITIpKflgAqJLLTZbLmVln6az87f09zdOuH9r6w/IzJxNfr6575qqEr2iJIHi4vfgdC7m2LGvjVs/DoV8tLdvoLj4vdjt+QmMMHXMmPFJrNZcjh372rj7+f0H6el5hdLSj2L2O6aqRK8oSUAIK+XlX8Hv3zNuq76j4ynC4X7TlxLMzG7Po6zsM3R1PTtuq76t7XGEsFFS8uEERnd1VKJXlCRRVDRxq7619Qe4XEvJyVmV4OhSy8yZn8Rmy+PYsa+O+Xw4HKSt7ccUFKwjM3P6mPuYiUr0ipIkhLBQXv4wfv9eOjp+ecnz/f078Pl2MH36g6oTdopstlxmzvwMXV3P0d/fcMnznZ3PEAp1Jc2Vk0r0ipJEiorejcu1lOPHL23Vt7Y+hsXiYNq0+wyKLrXMnPl/xmzVSylpbX2MrKy5eDy3GhPcFVKLmilKEtFG4DzMnj3vob39SbKyyjl37nm6up5nYKCZkpIPY7fnGR1mStBa9Z/l2LH/S2/vG4RC/fq5/gPB4BHmzv0mQiRHW1nIy90uK4Hq6urk9u3bjQ5DUZKClBG2b69mYKAFACFs5OZeT37+nZSW/q1a8iCGQqE+Nm8uJxTqBsBiceDx3EpBwdsoKfkIFouxbWUhxA4pZd1E+6kWvaIkGSEsVFY+Rnv7ejyeW/F41mKz5RodVkqy2XJYsOD/0dv7Gh7PW8jLW4PV6pj4hSajEr2iJKHc3JVq+eEEKSp6J0VF7zQ6jClJjgKToiiKctVUolcURUlxKtEriqKkOJXoFUVRUpxK9IqiKClOJXpFUZQUpxK9oihKilOJXlEUJcWZYgkEIcRZ4HicD1MIdMb5GLGmYk6cZIw7GWOG5IzbrDHPllIWTbSTKRJ9Igghtk9mTQgzUTEnTjLGnYwxQ3LGnYwxj6ZKN4qiKClOJXpFUZQUl06J/nGjA7gKKubESca4kzFmSM64kzHmEWlTo1cURUlX6dSiVxRFSUspkeiFED8SQnQIIXaN2pYvhHhRCHFQ/9OjbxdCiP8QQhwSQjQLIWpNFvejQoh9emy/EULkjXrui3rc+4UQbzFLzKOe+5wQQgohCvXfTXGuLxezEOJ/6+dytxDiW6O2G36e9TjG+v9RLYTYLITYKYTYLoS4Vt9ulnNdJoT4ixBir35eP6lvN+3ncZyYTf1ZvCJSyqT/AW4EaoFdo7Z9C/iC/vgLwDf1x3cCfwQEsALYYrK4bwds+uNvjop7MdAEZAJzgMOA1Qwx69vLgD+hzYcoNNO5vsx5vhl4CcjUfy8203keJ+4/A28ddX43muxcTwdq9cfZwAH9nJr28zhOzKb+LF7JT0q06KWUrwLnLtq8Dvip/vinwF2jtv9MajYDeUKI6YmJ9EJjxS2l/LOUMqT/uhmYqT9eBzwlpRyUUh4FDgHXJizY8/GNda4BvgN8Hhjd6WOKc0mpZ58AAAKcSURBVH2ZmD8G/IuUclDfp0PfborzrMc0VtwSyNEf5wKt+mOznOs2KWWD/rgf2AvMwMSfx8vFbPbP4pVIiUR/GdOklG2g/UMCxfr2GcDJUfud0reZ0YfRWjtg4riFEH8NnJZSNl30lGljBiqBG4QQW4QQ9UKI5fp2M8cM8CngUSHESeBfgS/q200XtxCiHKgBtpAkn8eLYh4tKT6Ll5PKif5yxBjbTDf0SAjxZSAEPBHdNMZuhscthHACXwa+MtbTY2wzPGadDfCglQv+DnhaCCEwd8ygXYl8WkpZBnwa+KG+3VRxCyHcwK+BT0kp+8bbdYxthsR9uZiT5bM4nlRO9O3RS0D9z+il+Sm0enLUTM5f/pqCEOKDwNuAe6VeFMS8cc9Dq1M2CSGOocXVIIQowbwxgxbbM3rJYCsQQVvPxMwxA3wQeEZ//EvOlwxME7cQwo6WMJ+QUkZjNfXn8TIxJ9tn8bJSOdE/h/ahQP/z2VHbP6D39q8AeqOXlGYghLgD+Hvgr6WU/lFPPQfcLYTIFELMASqArUbEOJqUskVKWSylLJdSlqN9CGqllGcw97n+LXALgBCiEshAW7TKlOd5lFZgjf74FuCg/tgU51q/KvohsFdK+W+jnjLt5/FyMSfbZ3FcRvcGx+IH+DnQBgyjJZqPAAXAy2gfhJeBfH1fAfwXWk95C1BnsrgPodX/duo/Pxi1/5f1uPejj7wwQ8wXPX+M86NuTHGuL3OeM4ANwC6gAbjFTOd5nLivB3agjfrYAlxjsnN9PVoZo3nU/+E7zfx5HCdmU38Wr+RHzYxVFEVJcalculEURVFQiV5RFCXlqUSvKIqS4lSiVxRFSXEq0SuKoqQ4legVRVFSnEr0iqIoKU4lekVRlBT3/wGVBDvfJ+ZsAAAAAABJRU5ErkJggg==\n",
          "text/plain": "<Figure size 432x288 with 1 Axes>"
         },
         "metadata": {
          "needs_background": "light"
         },
         "output_type": "display_data"
        }
       ]
      }
     },
     "21cd5613fdce43d08119eb6bab1d9bcd": {
      "model_module": "bqplot",
      "model_module_version": "^0.4.5",
      "model_name": "LinearScaleModel",
      "state": {
       "allow_padding": false,
       "max": 1,
       "min": 0,
       "stabilized": false
      }
     },
     "24071dc573af4574a0e258a077ae9ca4": {
      "model_module": "@jupyter-widgets/controls",
      "model_module_version": "1.4.0",
      "model_name": "SliderStyleModel",
      "state": {
       "description_width": ""
      }
     },
     "24535a5cdfa1486bae7078f85e6b4d55": {
      "model_module": "@jupyter-widgets/base",
      "model_module_version": "1.1.0",
      "model_name": "LayoutModel",
      "state": {}
     },
     "2507be3ebd7a44e48e44b3a95d37f4f2": {
      "model_module": "@jupyter-widgets/base",
      "model_module_version": "1.1.0",
      "model_name": "LayoutModel",
      "state": {}
     },
     "288f171ade3348ac864caef652dde6ed": {
      "model_module": "@jupyter-widgets/base",
      "model_module_version": "1.1.0",
      "model_name": "LayoutModel",
      "state": {}
     },
     "28a6d7e7e38c420ab3715e18d1e2e15a": {
      "model_module": "@jupyter-widgets/base",
      "model_module_version": "1.1.0",
      "model_name": "LayoutModel",
      "state": {
       "min_width": "125px"
      }
     },
     "2917071a57144f748fd6b3b45bba5262": {
      "model_module": "bqplot",
      "model_module_version": "^0.4.5",
      "model_name": "FigureModel",
      "state": {
       "_dom_classes": [],
       "axes": [
        "IPY_MODEL_532aa9f3500444dca9500a1d5a28757c",
        "IPY_MODEL_e201355b2b394eab94c11147fbe3e0a3"
       ],
       "layout": "IPY_MODEL_569bd6d8191a4c72b5993384a36e7b1a",
       "marks": [
        "IPY_MODEL_21ad3daa94eb43789e7c87ef9f91f856"
       ],
       "max_aspect_ratio": 6,
       "scale_x": "IPY_MODEL_c573755f8e4f4d26ad90d10dcdbaef1c",
       "scale_y": "IPY_MODEL_677329576e7943b8a123ff12f0bc0b33"
      }
     },
     "292661aeea9e44e39dfc23b2dc843ef8": {
      "model_module": "@jupyter-widgets/base",
      "model_module_version": "1.1.0",
      "model_name": "LayoutModel",
      "state": {}
     },
     "2a1b8de31c8448ccbdb00769c5508f0d": {
      "model_module": "@jupyter-widgets/controls",
      "model_module_version": "1.4.0",
      "model_name": "VBoxModel",
      "state": {
       "_dom_classes": [
        "widget-interact"
       ],
       "children": [
        "IPY_MODEL_ceafefbe031943e49fac61641ff43f62",
        "IPY_MODEL_e1a1c4b27ee148b489192467f303a81e",
        "IPY_MODEL_637dda4d744a48b79e0c9aa5de63d0bd"
       ],
       "layout": "IPY_MODEL_713d0d3102ec4204a65ff8da8543808a"
      }
     },
     "2aa68680b9594b89b53bf9bdb21c2896": {
      "model_module": "@jupyter-widgets/base",
      "model_module_version": "1.1.0",
      "model_name": "LayoutModel",
      "state": {}
     },
     "2b0ba286373e465599d8aa3e0233dfb6": {
      "model_module": "@jupyter-widgets/controls",
      "model_module_version": "1.4.0",
      "model_name": "IntSliderModel",
      "state": {
       "description": "t",
       "layout": "IPY_MODEL_8feec8437ade46f4b7dd6830ef8a76da",
       "max": 80,
       "min": 2,
       "style": "IPY_MODEL_67e18fbb87dd4e0fb3a3cd179e27a397",
       "value": 80
      }
     },
     "2b17b5fde6cf42039af51ce5432e9bf7": {
      "model_module": "@jupyter-widgets/controls",
      "model_module_version": "1.4.0",
      "model_name": "SliderStyleModel",
      "state": {
       "description_width": ""
      }
     },
     "2bf483bfe7aa4bcfa5a05dfa28d0035e": {
      "model_module": "bqplot",
      "model_module_version": "^0.4.5",
      "model_name": "FigureModel",
      "state": {
       "_dom_classes": [],
       "axes": [
        "IPY_MODEL_bcebee19c94046b1b44d7ab12bd4cab8",
        "IPY_MODEL_38e49a8545bc4356844b26c200a68973"
       ],
       "layout": "IPY_MODEL_8f4202c898e54ebba628626c97a1502d",
       "marks": [
        "IPY_MODEL_9cfe0e4c43ef48b0934bc6bc4aa3146d"
       ],
       "max_aspect_ratio": 6,
       "scale_x": "IPY_MODEL_7744b4fe21a640abb397eaa81a972037",
       "scale_y": "IPY_MODEL_e28bc82a0e494fe395092fc8e51cd7d7"
      }
     },
     "2c678e164e8c40a59a064ff0dcf586f0": {
      "model_module": "@jupyter-widgets/base",
      "model_module_version": "1.1.0",
      "model_name": "LayoutModel",
      "state": {}
     },
     "2d206c09b7b5405abdd35ce2401c4bac": {
      "model_module": "@jupyter-widgets/base",
      "model_module_version": "1.1.0",
      "model_name": "LayoutModel",
      "state": {}
     },
     "2d3cdc75381844f2a80e268128ec9fcc": {
      "model_module": "@jupyter-widgets/base",
      "model_module_version": "1.1.0",
      "model_name": "LayoutModel",
      "state": {}
     },
     "2eefc1c7120f45e5969371cc81f01d25": {
      "model_module": "@jupyter-widgets/controls",
      "model_module_version": "1.4.0",
      "model_name": "IntSliderModel",
      "state": {
       "description": "t",
       "layout": "IPY_MODEL_9b30a680aace4134a0cffe634a19da32",
       "max": 80,
       "min": 2,
       "style": "IPY_MODEL_8478d7634bc248f497014562773c81a8",
       "value": 80
      }
     },
     "2f58722c702c4b71b565d370fdc46c83": {
      "model_module": "@jupyter-widgets/base",
      "model_module_version": "1.1.0",
      "model_name": "LayoutModel",
      "state": {}
     },
     "3054c67f795f494e803ff6f712fea5d7": {
      "model_module": "@jupyter-widgets/base",
      "model_module_version": "1.1.0",
      "model_name": "LayoutModel",
      "state": {}
     },
     "30f5dee2b18c4151b25bc205150bdac7": {
      "model_module": "bqplot",
      "model_module_version": "^0.4.5",
      "model_name": "LinearScaleModel",
      "state": {
       "stabilized": false
      }
     },
     "3198bd39dfd14b29b7c1a3eb2f6c911b": {
      "model_module": "bqplot",
      "model_module_version": "^0.4.5",
      "model_name": "HistModel",
      "state": {
       "colors": [
        "#475A77"
       ],
       "count": {
        "type": "float",
        "values": [
         null,
         null,
         null,
         null,
         null,
         null,
         null,
         null,
         null,
         null
        ]
       },
       "display_legend": false,
       "midpoints": [
        0,
        0,
        0,
        0,
        0,
        0,
        0,
        0,
        0,
        0
       ],
       "normalized": true,
       "sample": {
        "type": "float",
        "values": [
         0,
         0,
         0,
         0,
         0,
         0,
         0,
         0,
         0,
         0
        ]
       },
       "scales": {
        "count": "IPY_MODEL_e72df24df0df43e3bdbe81576e237fe3",
        "sample": "IPY_MODEL_b19b95cb3daf4cd79da2792066349764"
       },
       "selected": [],
       "stroke": "#475A77"
      }
     },
     "32993c14a946422787cdf42f5ac9ca18": {
      "model_module": "bqplot",
      "model_module_version": "^0.4.5",
      "model_name": "LinearScaleModel",
      "state": {
       "stabilized": false
      }
     },
     "3392168e51504403a785c53db742b031": {
      "model_module": "bqplot",
      "model_module_version": "^0.4.5",
      "model_name": "LinearScaleModel",
      "state": {
       "allow_padding": false,
       "max": 1,
       "min": 0,
       "stabilized": false
      }
     },
     "33e1f96d29b74ab293e5e8ff28b8db4d": {
      "model_module": "@jupyter-widgets/controls",
      "model_module_version": "1.4.0",
      "model_name": "SliderStyleModel",
      "state": {
       "description_width": ""
      }
     },
     "344d8a37753b45c69f29e18f21c8561f": {
      "model_module": "@jupyter-widgets/controls",
      "model_module_version": "1.4.0",
      "model_name": "SliderStyleModel",
      "state": {
       "description_width": ""
      }
     },
     "3869ff2f92da4c0e81d10abf42fd0167": {
      "model_module": "@jupyter-widgets/controls",
      "model_module_version": "1.4.0",
      "model_name": "SliderStyleModel",
      "state": {
       "description_width": ""
      }
     },
     "38e49a8545bc4356844b26c200a68973": {
      "model_module": "bqplot",
      "model_module_version": "^0.4.5",
      "model_name": "AxisModel",
      "state": {
       "orientation": "vertical",
       "scale": "IPY_MODEL_cb2e54e803674fe7b9a437af679680b3",
       "side": "left",
       "tick_values": {
        "type": null,
        "values": null
       }
      }
     },
     "398f33a6a06041cab805ea7b07845dc8": {
      "model_module": "bqplot",
      "model_module_version": "^0.4.5",
      "model_name": "LinearScaleModel",
      "state": {
       "stabilized": false
      }
     },
     "3b35611dded54ef8a94adb18b751f601": {
      "model_module": "@jupyter-widgets/controls",
      "model_module_version": "1.4.0",
      "model_name": "SliderStyleModel",
      "state": {
       "description_width": ""
      }
     },
     "3c00389eacc34ba3941b177279b2b256": {
      "model_module": "@jupyter-widgets/base",
      "model_module_version": "1.1.0",
      "model_name": "LayoutModel",
      "state": {}
     },
     "3c14f351955e4bd1b28ccce1440e26ea": {
      "model_module": "bqplot",
      "model_module_version": "^0.4.5",
      "model_name": "AxisModel",
      "state": {
       "scale": "IPY_MODEL_a3c14f3491074632a772786705fae36e",
       "side": "bottom",
       "tick_values": {
        "type": null,
        "values": null
       }
      }
     },
     "3d3922872b6f4fd8b6e5470b7d2ff092": {
      "model_module": "bqplot",
      "model_module_version": "^0.4.5",
      "model_name": "LinearScaleModel",
      "state": {
       "allow_padding": false,
       "max": 1,
       "min": 0,
       "stabilized": false
      }
     },
     "3ea9a00d6c564af6906197b383869ea3": {
      "model_module": "bqplot",
      "model_module_version": "^0.4.5",
      "model_name": "LinearScaleModel",
      "state": {
       "stabilized": false
      }
     },
     "423dca9387554ff9be77da70fbdc9b93": {
      "model_module": "@jupyter-widgets/base",
      "model_module_version": "1.1.0",
      "model_name": "LayoutModel",
      "state": {}
     },
     "44fe09d1dd06466796658297ce2f709e": {
      "model_module": "@jupyter-widgets/controls",
      "model_module_version": "1.4.0",
      "model_name": "SliderStyleModel",
      "state": {
       "description_width": ""
      }
     },
     "456875b7f6dc4817868f57125632aa8b": {
      "model_module": "bqplot",
      "model_module_version": "^0.4.5",
      "model_name": "LinearScaleModel",
      "state": {
       "stabilized": false
      }
     },
     "45984db82dee45b6b0e4f9271b407201": {
      "model_module": "@jupyter-widgets/base",
      "model_module_version": "1.1.0",
      "model_name": "LayoutModel",
      "state": {}
     },
     "4635adeaa6c744cf940908b3c78366fd": {
      "model_module": "bqplot",
      "model_module_version": "^0.4.5",
      "model_name": "LinearScaleModel",
      "state": {
       "allow_padding": false,
       "max": 1,
       "min": 0,
       "stabilized": false
      }
     },
     "47620763a12247d1882acc861adb4f49": {
      "model_module": "@jupyter-widgets/base",
      "model_module_version": "1.1.0",
      "model_name": "LayoutModel",
      "state": {}
     },
     "499b462121094e64939f124c45b0bde7": {
      "model_module": "bqplot",
      "model_module_version": "^0.4.5",
      "model_name": "LinearScaleModel",
      "state": {
       "stabilized": false
      }
     },
     "49aa532b603341d9b9b2becf3d5743cc": {
      "model_module": "@jupyter-widgets/output",
      "model_module_version": "1.0.0",
      "model_name": "OutputModel",
      "state": {
       "layout": "IPY_MODEL_45984db82dee45b6b0e4f9271b407201",
       "outputs": [
        {
         "data": {
          "image/png": "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\n",
          "text/plain": "<Figure size 432x288 with 1 Axes>"
         },
         "metadata": {
          "needs_background": "light"
         },
         "output_type": "display_data"
        }
       ]
      }
     },
     "49e9afdb58c9485787e2802d22b9529b": {
      "model_module": "@jupyter-widgets/controls",
      "model_module_version": "1.4.0",
      "model_name": "IntSliderModel",
      "state": {
       "description": "t",
       "layout": "IPY_MODEL_3054c67f795f494e803ff6f712fea5d7",
       "max": 80,
       "min": 2,
       "style": "IPY_MODEL_126da3a1aef942c9abf31c24a1012636",
       "value": 41
      }
     },
     "4a82d9a44c0a4bbdb47394041f85986a": {
      "model_module": "@jupyter-widgets/base",
      "model_module_version": "1.1.0",
      "model_name": "LayoutModel",
      "state": {}
     },
     "4abffcca5b8c432183acb69ffd6f3edc": {
      "model_module": "@jupyter-widgets/base",
      "model_module_version": "1.1.0",
      "model_name": "LayoutModel",
      "state": {}
     },
     "4ce22459f11c4719a7b6933ebe3a74ea": {
      "model_module": "@jupyter-widgets/output",
      "model_module_version": "1.0.0",
      "model_name": "OutputModel",
      "state": {
       "layout": "IPY_MODEL_d67a1587861b4acda00c1beacc2ddf4d",
       "outputs": [
        {
         "data": {
          "image/png": "iVBORw0KGgoAAAANSUhEUgAAAXoAAAD8CAYAAAB5Pm/hAAAABHNCSVQICAgIfAhkiAAAAAlwSFlzAAALEgAACxIB0t1+/AAAADl0RVh0U29mdHdhcmUAbWF0cGxvdGxpYiB2ZXJzaW9uIDMuMC4zLCBodHRwOi8vbWF0cGxvdGxpYi5vcmcvnQurowAAIABJREFUeJzt3Xl83HWd+PHXe5JJMpOzTdOkbZo2bdM2Tdr0FmhVwAtBBUQprgIq/LquoLi6q6C7Huux7K6IxyorLAiCQnHFBRRRRFBbFuiZq2mb9E6bqzmaYybHzHx+f3y/qaFNm2tmvpPJ+/l45JGZ7/GZ93c6feczn+/nEGMMSiml4pfL6QCUUkpFliZ6pZSKc5rolVIqzmmiV0qpOKeJXiml4pwmeqWUinOjTvQikiAiu0Xk1/bzQhF5TURqRWSLiCTZ25Pt53X2/vmRCV0ppdRojKVGfwdQM+T5vwH3GmOKgHbgFnv7LUC7MWYRcK99nFJKKYeMKtGLSD5wFfDf9nMBLgf+xz7kEeAa+/HV9nPs/W+zj1dKKeWAxFEe913g80C6/Twb6DDGBOzn9cAc+/Ec4DiAMSYgIqft40+dr/AZM2aY+fPnjy1ypZSa4nbu3HnKGJMz0nEjJnoReQ/QbIzZKSKXDm4e5lAzin1Dy90MbAYoKChgx44dI4WilFJqCBE5OprjRtN0swF4n4gcAZ7AarL5LpAlIoN/KPKBk/bjemCuHUQikAm0nV2oMeZ+Y8xaY8zanJwR/yAppZQapxETvTHmLmNMvjFmPnAD8EdjzIeBl4AP2IfdDDxtP37Gfo69/49GZ05TSinHTKQf/ReAz4pIHVYb/IP29geBbHv7Z4E7JxaiUkqpiRjtzVgAjDEvAy/bjw8B64c5phf4YBhiU0opFQY6MlYppeKcJnqllIpzmuiVUirOaaJXSkVMINDJyZM/JhjscTqUKW1MN2OVUmq0fL79VFVdg8+3D59vP4sWfcfpkKYsrdErpcKutfU37Ny5noGBU0yb9i7q679Pd3eV02FNWZrolVJhY4zh6NFvUVn5XjyehaxZs5Nly35GYmImtbW3o2MnnaGJXikVFoFAN3v3Xs/hw19i5swPsWrVVlJSCnC7s1mw4FucPv0nmpufcDrMKUkTvVJqwvz+g+zefTEtLU+xcOG3KS5+jIQE75n9s2bdSlraag4e/AcCgS4HI52aNNErpSakvf1ldu5cR1/fCVaseJ65cz/H2UtQiCSwcOE99PefpL7+uw5FOnVprxul1LgZY9i//1bc7hmsWPE8Hs+C8xwX4sSJHwBCevrq6AapNNErpcavs/M1ensPsmTJT86b5AEOHvw8p049xcKF3yE7+6ooRqhAm26UUhPQ1PQYLlcKOTnvP+8xJ078iPr6e5g9+zby8z8TxejUIE30SqlxCYUGaG5+guzsq0lMzBj2mNbW31Bb+ymys9/DokXfPaftXkWHJnql1Li0tf2OQKCV3NyPDLu/q2s31dWbSEsro7j4cVwubSl2iiZ6pdS4NDU9RmJiNtOnv+ucfb29x6msfA9u93SWL/81iYlpDkQIwaCP/v4mR147luifWKXUmAUCnbS2Pk1e3sdxudzn7KusvIpgsItVq7aRnDzboSihuvqDtLU9R3r6WrKz30d+/mdITEx3LB6njFijF5EUEXldRMpFpFpEvmZvf1hEDovIHvtnpb1dROT7IlInIhUion2plIozLS1PEQr1ntNsEwoNUF19PT09eykp+R/S0pY7FCF0de2kre05srPfi0giR458mUOH7nIsHieNpkbfB1xujOkWETewVUR+a+/7R2PM/5x1/LuBIvvnTcB99m+lVJxobv4ZKSkLyMi46Mw2Ywy1tbfR3v47Fi9+gOnT3+lghHD06L+SkJBJcfFjJCZmsHfv39Dc/DMWLvw2CQkpjsYWbSPW6I2l237qtn8uNDPR1cBP7fNeBbJEZNbEQ1VKxYK+vpO0t79Ibu5H3tCL5vjxf6eh4QEKCu5i9uxbHYwQenr2cerUU8yZc/uZHkF5eR8jEOigtfVpR2NzwqhuxopIgojsAZqBF4wxr9m7vmk3z9wrIsn2tjnA8SGn19vblFJxoLn5ccCQm/vhIdue5NChO8nJ2URh4TecC852/Pi/43KlkJ9/x5lt06ZdTnJyAQ0NDzkYmTNGleiNMUFjzEogH1gvIqXAXcBSYB0wHfiCffhwHWXP+QYgIptFZIeI7GhpaRlX8Eqp6Ovs3E5KygK83sUAnD79CjU1N5GRsYGlSx9GxNnOfL29x2lqepRZs24lKSnnzHaRBPLybqa9/QV6e49foIT4M6Z/EWNMB/AycIUxpsFunukDfgKstw+rB+YOOS0fODlMWfcbY9YaY9bm5OScvVspFaNCIT8JCVbPFZ+vjsrK95GSMpfS0v+NibbvU6d+hTEB5sz59Dn78vI+ChgaGx+JelxOGk2vmxwRybIfe4C3A/sG293FaqS7BhhcPuYZ4Ca7981FwGljTENEoldKRZ2V6D0MDLRSWXklAMuXP0dS0gyHI7N0dLxMSkohXu+ic/Z5PAvIyrqUxsaHp9QiKKOp0c8CXhKRCmA7Vhv9r4GfiUglUAnMAAYb5p4DDgF1wAPAJ8MetVLKMaFQLyBUVV1Db+8xli9/Gq+3yOmwAGuWzI6OP5GVdel5j8nNvZHe3oP09EydpQ1H7F5pjKkAVg2z/fLzHG+A2yYemlIqaoyBr38ddu2CRx6BzMzzHhoM+uju3gnAsmVPkJm5IVpRjqinp5JAoM1K9KEQfOELUF8PDz4IXmshlMzMjQB0db3uaD//aNKRsUpNdcbA5z4H995rPX/HO+B3v4Np04Y9fDDJFxZ+i5kzN0UrylHp6HgZgKz0N8Ott8JPfmLtaGqCZ5+F1FQ8nkUkJGTS2bmdWbNucS7YKNK5bpSayoyBT3/aSvJ33AFPPw3l5fD2t0Nr6zmHD+2aWFBwZzQjHRWrfX4BKX/3FSvJf+Ur8Nhj8Kc/wbvfDV1diLjIyFhHV9frTocbNZrolZrKfvMb+M//hM9+1kr273ufleyrquBLX3rDoW1tf+DAgb8FIDf3ppibcvhM+/ypfHj0Uasp6qtfhQ9/GB5/HLZtg3/9VwDS09fT01NJMOh3Nugo0USv1FT2+OMwfTrcfTcMJu4rroDrroNf/AIGBgDo7q6iuvo6vN6liCSe6V4ZS7q7KwgE2sl6uQPmz3/jH6rrr4d3vtO6XmNIT1+HMQG6u/c4Fm80aaJXaqry++GZZ+D97wf3G2egZNMmaGuDF1+kr6+BysorSUhIZfny3yCSREKCx5mYL+BM+/zPq63EfvY3jk2b4MgR2L6djAxr2E9X1/boBukQTfRKTVXPPQfd3XDDDefuu+IKyMgg+MvHqKx8LwMDbSxf/muSk+cSCvlxuZwfGHW2jo6XSenPIaUhaCX1s11zDSQlwZYtJCfPJilpNp2dU6OdXhO9UlPVE0/AzJnw1reeuy85GXPt+9hbtIXu7t0sW/YE6emrMWYAMLhcsVWjN8Zw+vSfydqbCIsWwapzeoRDVha8612wZQuEQmRkrNcavVIqjnV3WzdiP/ABSBy+l3Xdh0/Tuj5AUe//Y8aM9wDWqFgg5mr0fX3HCATaSX+p0arNn+9G8aZNcOIEvPIK6enr8PsPMDDQEd1gHaCJXqmp6NlnrTb64Zo4gPr673HC/Sz5zyYz57HuM9utUbHEXI2+u7sSgLRDZvimqEHvex+kpMCWLaSnD7bT74hGiI7SRK/UVPTEEzB7NmzceM6uU6eepq7u75kx41oWdn3Y6m7pt2ryg90RXa7kc85zUk+PlehTk5ZAaen5D0xPh6uugl/8gvRUq3lnKvSn10Sv1FQzMAAvvADXXguuN6aAzs7t7N37IdLT11Jc/Bjy/g9azTx/+QsACQnWNALBoC/qYV9IT8cukpsg8coPjnzwdddBUxPuikN4PIunxA1ZTfRKTTW7d1s19LNuwvr9R6isfC9JSbksX/6sldQ3bLD+GGzbBoDbnQ0IAwPNDgR+fj2tO0g9xPA3ls/2lrdYv7dtIy1t1ZlvA/FME71SU42dtNnw18nIBgY6qKy8CmP67CmHc60d6elQVnbmHJEE3O4Z9PfHTqIPhfrxcYy0IwJvGsXy1HPmWAOqtm0jNbWE3t7DMfcNJdw00Ss11WzdCoWFVhs9VqKsrr4Ov7+WkpKnSE0tfuPxGzbAq69CIACA253DwEDsrArn8+3HuEKkBudZf5hGY8MG2LqVVG8xYPD59kc0RqdpoldqKjHGqp3btXljDAcO/C0dHX9kyZIHmDbtsnPP2bgRenqsyc6ApKSZMdV009O5G4DUWZeM/qSNG6GxEW+7tXB4T091JEKLGZrolZpKDh60puy1e9scPfpNGhsfZt68r5CXd/Pw5ww28WzdCoDbPTOmmm56Dv8RCYB3+VWjP8m+Js9r9Ygk4vPtjVB0sUETvVJTyZD2+aamn3HkyD+Tm3sj8+d/5fzn5OfDvHlnzo21Gn33qe14j4FrwyhuxA4qKYHMTFzbXsPjWUxPzxRP9CKSIiKvi0i5iFSLyNfs7YUi8pqI1IrIFhFJsrcn28/r7P3zI3sJSqlR27YNsrLomN3Cvn0fJzPzrSxZ8sDIUw7bbdoYg9s9k0Cgg1CoPzoxj6BHjpDanGrdZB0tlwsuucRqp09dpjV6oA+43BhTBqwErrAX/f434F5jTBHQDgwu1XIL0G6MWQTcax+nlIoFW7fiu2oFVXuvw+NZQGnpr0Y3+GnjRmhogMOHSUqaCcDAwKkIBzuywEAHfRk+UhPGsWbtxo2wdy9eKcTvP0gw2Bv+AGPEiIneWAbHQLvtHwNcDvyPvf0R4Br78dX2c+z9b5NYW6FAqamotZX+kzVUfKQKkUSWL/8NbvfwywWeY7Cdfts23O4cgJhop++p/T0AqXljuBE7yL6m1GMChPD7D4QxstgyqjZ6EUkQkT1AM/ACcBDoMMYE7EPqgcHvTXOA4wD2/tNAdjiDVkqNXfCVl6j6JvSndLN8+bN4PAtGf7Ldps3WrbjdgzV65xN9d81vAEhbcfXYT163DtxuvDusbybx3E4/qkRvjAkaY1YC+cB6oHi4w+zfw9XezdkbRGSziOwQkR0tLbHTJ1epeNTff4rKgc/RWQzFRQ+TkTGKgUVDJSTAxRfDK6+cabqJiRp9604SeiC59G1jP9nrhdWr8b64H3DFdTv9mHrdGGM6gJeBi4AsERmc3zQfOGk/rgfmAtj7M4G2Ycq63xiz1hizNicnZ3zRK6VG1N1dya5d6zidUc/SnxWQM+dD4ytozRqoqcEdsvqex8KgKZ/rON72DCQhYXwFrFmDa1clHs+iqV2jF5EcEcmyH3uAtwM1wEvAB+zDbgaeth8/Yz/H3v9HY8w5NXqlVOS1tDzFrl0XEwr1s+pr08kLXDr+wlasgGCQxAMnEXE733QTDOLL6sIbGkNvm7OtWAGdnaTK/Clfo58FvCQiFcB24AVjzK+BLwCfFZE6rDb4B+3jHwSy7e2fBe4Mf9hKqQsxJsSRI1+juvo6UlNLWFP4OzK2nrIS23iVlQEgFRUxMWgqUFtB/wyDN224luRRsq/J25aB318bM11Gw234pWWGMMZUAOesy2WMOYTVXn/29l5gFHOFKqUiIRDoZt++j3Lq1C/Jzb2JxYt/TMLL9kApO7GNy6JF4PFAeTlJpTmO1+j9Nb+HaeCdc9H4CyktBRFSjxjM0gB+fx2pqcvCF2SM0JGxSsURv/8Iu3dv4NSpX7Fw4T0sXfowCQkpZ+apmVCiT0iwEuOZGn1TeIIeJ9+JVwHwFF0+/kLS0mDhQrx7rOUE43XOG030SsWJjo4/sWvXOnp7j7JixXPMnfvZv454raiAWbNgoh0fysqgvJzk5Nn09dVPPOgJ8HXthRB4MksmVlBZGd6/HLbKjNNZLDXRKxUHTpz4L8rL305iYjZr1rzO9OnveuMB5eUTa58fVFYGra2k9GfT399AKNQ38TLHySf1pHSnWd9YJqKsjISawyS5Z+P314UnuBijiV6pSSwUGuDAgU9SW/t3TJv2DtaseQ2vd/EbDxoYgL17J9ZsM8guI6UhBEBv7/GJlzke7e34s30T63EzqKwMjMETyMXvr514eTFIE71Sk1R/fwvl5e/g5Mn7mDv38yxf/iyJiZnnHrhvH/T3hyfRL18OQPJBa1aUvr6jEy9zHExFOb58JtbjZpD9Tcfb7tUavVIqdnR3l7Nz5zq6ul6juPgxFi78N0TOM2ioosL6HY5En5UF8+aRsqcBgN7eIxMvcxz6av5MyAOe2WMc4TucefMgMxPPsSADA80EAp0TLzPGaKJXapJpafklu3ZdgjEDrFz5Z3JzP3zhE8rLISkJliwJTwBlZSS/Uge46O11pkbvq/8/ALx55/TwHjsRWLECT1U7QFzW6jXRKzVJGBPi8OGvUl39AdLSVrBmzQ4yMtaNfGJ5uTUpWeKIw2ZGZ8UKXDUHSE6a7Vyi77ZGsXpTl4anwBUr8Lxq3W/QRK+UckQg0E119Qc4evRr5OV9lLKyl0hOnjW6k8vLw9NsM6isDEIhUoIznEn0wSB+1wkSAm6Skkb5HoykrAxPrQ8gLm/IhulPvFIqUvz+w1RVXU1PTzULF36H/PzPjLwi1KCmJusn3IkeSO5IodPtQKKvrcU3K4g3WDD692EkZWUk9EJSaHpc1ug10SsVw9rbX6a6+gNAkBUrfsv06e8cWwENDVBQEN5Ev3AheL2kNARpyajHmOD5bwRHQmUlvrmQmRamZhuwmrZE8HSm48uKvxq9Nt0oFaNOnLiPiop3kJSUw+rVr489yQOsXAlHj8Jll4UvMJcLli0jpa4bYwL09Z0c+ZwwCtbsoS8PvLlrw1doaioUFuJpcMVljV4TvVIxJhTqZ//+T1Bb+0mmTXsXq1e/itc7jjVRI6mkhJQKa66baHex9J94DQBvRml4Cy4txbO/h4GBprjrYqmJXqkYYg2CejsNDT+moOBOli9/evhBUE4rLSVlr7WeULRvyPq6awDweBaPcOQYlZbiLbeWFfT7D4a3bIdpolcqRnR17WHnzrV0dW2nuPjnLFjwr9Ft+x6L0lKS7ckrozo6trcXv8sarOXxLApv2SUleI5bUzvEW88bvRmrVAxobv4F+/Z9lMTEaaxc+RcyMsLY/hwJJSUk9IM7kB7dGv3+/fhnG5KCWSQmpoW37NJSPCesh/HWTq+JXikHWStBfZWjR79ORsbFlJQ8RXJyntNhjSw/HzIySOlMiW6ir67GPxs8KQvDX/aSJSQMJJDU54m7RD+aNWPnishLIlIjItUicoe9/asickJE9tg/Vw455y4RqROR/SLyrvOXrtTUFQh0UV19HUePfp28vI+xcuVLkyPJgzVtQGkpKQ2h6Cb6qir8+eCZFuYbsQDJyVBUhKcleUo23QSAzxljdolIOrBTRF6w991rjPn20INFZBlwA1ACzAb+ICKLjTHBcAau1GTm9x+yB0HtZdGi7zJnzqfDN/gnWkpKSKnbRevybowxUYk/sH8P/e8ET2qY5u05W2kpniO/o23BFKvRG2MajDG77MddQA1woUmgrwaeMMb0GWMOA3UMs7asUlNVe/tL7Ny5jr6+E6xY8Tz5+XdMviQP1g3ZI72EQr1RW1aw95Q1E2fYb8QOKinBU9NFf38jgUBXZF7DAWPqdSMi87EWCn/N3nS7iFSIyEMiMs3eNgcYuhpBPcP8YRCRzSKyQ0R2tLS0jDlwpSYbYwwnTvyQ8vJ3kJSUaw+CeofTYY1faSkeqwMMvb2HIv96PT34sO6WejwRGldQWorHXiExnrpYjjrRi0ga8EvgM8aYTuA+YCGwEmgA7hk8dJjTzTkbjLnfGLPWGLM2Z6LrWCoV40Khfg4c+Ftqa28nO/vd9iCoCNVKo6WkZEgvlSgkxZoa/HaV0eOJwM1YOOua4qedflS9bkTEjZXkf2aMeQrAGNM0ZP8DwK/tp/XA3CGn5wPRHSOtVAzp72+muvo6Tp/eSkHBXRQWfj12+8ePxcyZpASyIdQWnV4q9o3YJFcOiYnpkXmNRYvwtLiBgbjqeTOaXjcCPAjUGGO+M2T70PlBrwWq7MfPADeISLKIFAJFwOvhC1mpycMaBLWOrq6dFBc/zoIF34qPJA8ggmvpclI6kqKX6OcKnrQwj4gdyu0mcX4xSd3JUyvRAxuAG4HLz+pK+e8iUikiFcBlwN8DGGOqgSeBvcDzwG3a40ZNRc3NT7J79yVAiFWrtpKbe4PTIYVfSQmeY4HoNN1UV+MvSMAT6Xl/7OabqDTdHD0KgUDEX2bEphtjzFaGb3d/7gLnfBP45gTiUmrSslaC+jLHjn2TjIxLKC19iqSkXKfDiozSUlIOBGnpORDxlwrWVtCfGYjcjdhBpaV4Dj1OW2mEE30oZE2PfMst8L3vRfSldK4bpcIoEOiiqur9HDv2TfLybmHlyj/Gb5KHM7XfQKidgYGOyL3O6dP47Vt9EetaOcieCqF/oJFAoDtyr3PsGPT0WMk+wjTRKxUmfv9Bdu26mNbWX7No0fdZsuQBXK5kp8OKrJISPHZXi97eCDbfVFcP6XEThaYbu4tlRK+pqurM60WaJnqlwqC9/UV27lxPf/9Jysp+R37+pybnIKixmj4dz4DVPTqiNy+rqvCdSfQRrtEXFuI5Zf2Bjug1VVdbvzXRKxXbjDHU1/+A8vJ3kZSUx5o125k27W1OhxVVnuzlQIT70ldX45+fiNudG7mulYNcLjyZxQD4fBFsp6+qsiaHy8qK3GvYNNErNU7WIKjN1NV9muzsK1m9+v8iN5AnhiUsKSOpFfwRTor+RZ7I1+ZtiUVluDsivKxgdTW+DfMJBv2Rew2bJnqlxqG/v4k9ey6noeG/KSj4EqWl/0tiYobTYTnDbtP2d1RH7jWqqvDnBaOW6CktxXM8hL9rb2TKDwYxe6vZceurHD78pci8xhA6H71SY9TVtYuqqmsYGDjFsmVbmDnzeqdDclZpKZ6noC1STTctLQQ7m+n3Er21c0tK8L4MbT0R+pZy8CD9af2EEqNwzwGt0Ss1Js3NW9i9eyMAq1Zt0yQPsGyZ1R3R1UYw6At/+fZiIxCFHjeDBrtYcopgsCf85VdX48+3HkbjmjTRKzUKxoQ4dOhL7N17A2lpq1mzZjvp6aucDis2pKeTMjADsObZD7s3dK2MUtNNfj6eNg8QoZvMVVVRvSZN9EqNIBDopKrqGo4d+xazZt0a/4OgxsGTZi0EEpGbl1VV+IuspBu1RC+Cx55dNCLXVF2NryQTETcpKQXhL/8smuiVugCfr84eBPUcixb9gMWL78flSnI6rJjjyVsDgL9nf/gLr6rCX5yB2z0zqje8PTNXA+D3RWB6h6oq/Iu8pKQsiMokd5rolTqPtrY/sGvXevr7Gykr+z35+bdPjUFQ4+BeupbE09DbtDu8BRtjNd3MTYhebd6WuHQ17jbwt1WGt+D+fti/P6q9iDTRK3UWaxDU96mouIKkpNn2IKjLnQ4rttlTIfhOh7mLZUMDtLfjm+6LeqIfnMfH11E18rFjUVuLCQTwp52OWi8iTfRKDREK9bF//63U1d1BdvZ77EFQC5wOK/YVF+M9Dr7Q0fCWW1VFMBn63R3R63EzqLQUbz34AofDW25VFf3TIeTq0xq9UtHW19fInj2X09j4EPPm/TOlpU9Ffrh9vPB48PZk05/SFd5Ftd/QtTLKNfqZM/Ge8jLg7iIQOB2+cqur8RdYqTdaf7w00SsFdHXtZNeudXR372HZsicpLPwXRPS/x1h4k6zpH/z+MN68rKjAvyzTKj9ag6UGieB1W9/mfL4w3mSuqMC/aiYQvT9e+klWU15T0+P2ICiXPQjqg06HNCl5c6yeN772ivAVOiQppqREfx4hT/ZKAHw9NeErtKICf2kWIm6SkyPftRJGt2bsXBF5SURqRKRaRO6wt08XkRdEpNb+Pc3eLiLyfRGpE5EKEVkd6YtQajyMCXLo0F3U1PwN6enr7EFQK50Oa9LyFF0KQfAd2xqeAgMBq5mjyIPbPQO3O/KzPJ7Ns/DN1jWdfC08BXZ2wuHD+AsSSUkpxOWKziw0o6nRB4DPGWOKgYuA20RkGXAn8KIxpgh40X4O8G6sBcGLgM3AfWGPWqkJCgQ6qay8mmPH7mbWrM2Ulf2BpKSZToc1qbnK1pLSCL728vAUuH8/9PXhnzkQ/RuxNlfZGqs30ald4Smwwvq2458W3V5EIyZ6Y0yDMWaX/bgLqAHmAFcDj9iHPQJcYz++GvipsbwKZInIrLBHrtQ4+Xy17Np1EW1tz1NU9EMWL/4vHQQVDvPn4z2ZgC94JDzllVt/MPzetujfiB1UUoK3HvwDYZraobwcA/gSG6P6x2tMbfQiMh9YBbwG5BpjGsD6YwAMVofmAMeHnFZvbzu7rM0iskNEdrS0tIw9cqXGoa3tBXsQVDNlZS8wZ84ndRBUuLhcePtm4k9tx5jQxMurqCCYmkhfqMmxGj0pKXh6puNLacWY4MTLq6igvzCTkImxGv0gEUkDfgl8xhjTeaFDh9lmztlgzP3GmLXGmLU5OTmjDUOpcTHGcPz4d6mouILk5Hx7ENRlTocVd7wpiwm5Q/T2hqE/fXk5/o1WrxfHavSA170Qkxiit/fYxAsrL8f/5kKr3Cj2IhpVohcRN1aS/5kx5il7c9Ngk4z9u9neXg/MHXJ6PtjLtyvlAGsQ1Mc5ePDvmTHjfaxa9QoeT6HTYcUl78y1APgO/3nihZWX419ndaJ3NNHPsGYp9bXsnFhBwSBUVuIvs2b6jKkavVjfax8Eaowx3xmy6xngZvvxzcDTQ7bfZPe+uQg4PdjEo1S0WYOgLqOx8WHmzfsyJSW/1EFQEeQtsqaK8B/9y8QKammBhgb8S9IAhxP9gksB8E/0j9fBg+Dz4V+QjEgiycnzJhzbaI2mb88G4EagUkT22Nu+CNwNPCkitwDHgMHOx88BVwJ1gA/4WFgjVmqUOjt3UFV1DYFAOyUl/0NOznVOhxT33KVvJvEl8HVPsOfNYO+U2UG7a+W0MEQ3Pu7lbyYjg4i7AAAajklEQVRxN/j6Jzhhm31Nvhl+UtwLota1EkaR6I0xWxm+3R3gnOXujTEGuG2CcSk1IU1NP2f//ltwu3NZvfoV0tLKnA5pSpD0dLwtyfiSJ9hGb/e46Uk9hTdpWRgiGz+ZMwfPc4n4Mia4AEl5OSQk4HOfJDU1utekI2NVXDEmyMGDX6Cm5sOkp69nzZrtmuSjzNufhy+tbWKFlJdjZuXhG6iNelI8hwhe/wx8nlMTK6e8nNCyxfh76/B6NdErNS6BwGkqK9/H8eP/zuzZn6Cs7AWSkrRHV7R5UorozwoSOD2BPhjl5fRfspRAoCPqSXE4XvdC+jMHCPR1jL+Q8nL8GwsxJqA1eqXGw+c7wK5dF9He/nuKin7E4sX36SAoh5zpeVP12/EVMDAAe/fiW28t15iaWhKu0MbNO8OaGsNf++L4CujogGPH6FlpTeOgNXqlxqit7ffs2vUm+vtbKCv7A3Pm/J3TIU1p3qK3A+A7Os5eKjU1MDBAz5Jkq7xYqNEvuBQAX91L4yvAvufgK3QBgte7JCxxjZYmejVpWYOgvkNFxbtJTp7LmjXbycp6q9NhTXmeRW9BBqDn1I7xFfDKKwD4ZgdITJwWEwuxe5ZfaV1T06vjK8C+pp4Z3aSkFJKQ4A1jdCOLXv8epcIoGOzlwIFP0NT0CDNmvJ+lSx8hMTHN6bAU4HK5Se3IpFvGuTLT1q2Ql0dPYj3ehGUxMUWFK9mLty2V7mDt+ArYuhWKi/EFDjpyc1lr9GrS6etrYM+eS2lqeoT5879KSckvNMnHmFRXET15fjg5jhuy27bBhg34fHud73EzRKqZT092J3SNcQWtUAheeYXQxovx+fY70hSliV5NKp2d29m5cy09PVWUlPyS+fO/oitBxaDUvIvpz4GBV54f24knTsCRI/S/dSUDA6dion1+UOqM9fTlwsBrY7whu3cvdHTQ+9YijOnXGr1SF9LU9DN2734zLlcSq1e/Qk7O+50OSZ1HWtEVAHTve25sJ27bBoBvndUtNpZq9GmLrWvqqXxmbCfa19SzIgNw5uayJnoV86xBUJ+npuYjZGRcxOrV20lLW+F0WOoCUjOticB6Tr0+thO3bQOvl57ZA0Bs9LgZlDrzIgB6mv5vbCdu2wa5ufjSrUFkXu/ScIc2Ir0Zq2LawEAHNTV/Q1vbb5k9+5MsWvRdXC6302GpESQl5eHu99KTVA/d3ZA2ynsoW7fCm96Er28/CQnpJCefs5SFY5KT55LQn0RPqM5a5jBxlOlz61bYsIEeXw3JyQWOTKqnNXoVs/46COoFFi/+LxYv/qEm+UlCREhNKKK70MDro6zVd3XBnj2wcSM9PXvxemOjx80gESGV+fTkB6CycnQnnTwJhw/Dxo2O3lzWRK9iUmvr8+zcuZ5AoJWysheZPftvnQ5JjVFq3sX0zAezdZQDp157zeqhEoM9bgalZa+newGYraOchtlunzeXXITPt8+xpihN9CqmWIOg7qGy8ipSUuaxevV2srLe4nRYahzSpq8j5AH/3lH2Utm2DUQYWLuE/v7GmGqfH5SadzHBNOjb84fRnbBtG3g89BZPIxTqdeyPl7bRq5hhDYLaTFPTo+TkfIClSx8mISHV6bDUOKWmLgegp20H3tG0aW/dCitW0JNw1D7f+TluznbmmhpfIcUYGKlpyb7n0N1XA4DX68w1aY1exYS+vpPs2fNWmpoeZf78f2HZsic1yU9yqaklYISeWb3w5xGabzo6rGMuv5zOzu0ApKevi0KUY5OaWgpAT0ardT/hQk6cgF274PLL6erajkgiaWkroxDluTTRK8d1dr5uD4KqpqTkKebP/+eYugmnxichwYsnZSHdixNgy5YLH/z009DfD5s20dX1OikphSQlzYhOoGPgdk8j2T2b7oUy8jX94hdgDGzaRGfn66SmriAhISU6gZ5lNGvGPiQizSJSNWTbV0XkhIjssX+uHLLvLhGpE5H9IvKuSAWu4kNj46Ps3v0WXK4UVq/+P3JyrnU6JBVGqell9JR44Ze/tKYfPp8tW2D+fFi/ns7O12OyNj8oNb2MnhVpVszGnP/ALVtg5UpM0SK6unY4ek2jqdE/DFwxzPZ7jTEr7Z/nAERkGXADUGKf8yMRSQhXsCp+WIOg/pF9+24iM/MSVq9+nbS05U6HpcIsLW0F/sxuAr5WePE8N2VbW+GFF+D66+kfaKGv7ygZGeujG+gYpKauwJfjI3jiyPm7jh45Aq++Cps24ffXEgyedvSaRkz0xpg/A6NdF+xq4AljTJ8x5jDWAuGx+y+mHDEw0EFl5Xs4fvzbzJ59GytW/C4mv6aricvIuATEcHq99/xNHU89ZQ1A2rSJrq7YbZ8flJl5CUaCdK1IPP81Pfmk9fv664fcc4jhRH8Bt4tIhd20M7hE+xzg+JBj6u1t5xCRzSKyQ0R2tLS0TCAMNZn4fPvZtetNtLf/gcWLf8zixf+pg6DiWGbmJYi46bhuAfzqV9DXd+5BW7ZAURGsWmUnRRdpaaujHutoZWa+BRA6rltoJfRQ6NyDtmyB9ethwQK6ul7H5UolNbU46rEOGm+ivw9YCKwEGoB77O3D3UEbthHLGHO/MWatMWZtTo6u6zkVtLb+1h4E1U5Z2R+ZPXuz0yGpCEtI8JKRcREdJf1w+jT8/vdvPKCpCV56CTZtAhG6ul4nNXVZTE877XZnkZa2ivbVLqtnjb2oyBm1tVZvm02bAOjq2k56+hqcbMUeV6I3xjQZY4LGmBDwAH9tnqkH5g45NB+YwArBKh4YYzh27D+orLwKj2eBvRLUm50OS0VJVtaldLnqCORnwfe+98abst/9rlUj3rQJY4x9Izb2W3uzsi6lM+UQwfRk+M53IBi0dhgD99j13g9+kFCon66u3Y43RY0r0YvIrCFPrwUGe+Q8A9wgIskiUggUAWOcvk7Fk2DQz759N3Ho0OfJyfkAq1ZtJSVlntNhqSjKyroMCNHxrb+xbsh+8INWE87Xvw533w033gilpfT2HiEQaHU8KY5GVtZlGNNH57/eaDVJfexj1n2Gf/gH+PGP4dOfhrlz6empwpg+x28ujzgyVkQeBy4FZohIPfAV4FIRWYnVLHME+FsAY0y1iDwJ7AUCwG3GmGBkQlexrq/vBFVV19LVtZ3Cwm9QUPBF7R8/BWVkXIxIMh0Xe5jxn/8Jt98Oy5dbTRw33QQPPQRAV9fr9vGxX6PPzNwIuOi4cjbTvvEN+Kd/snrZ1NbCpz5lfVPBGiMCzt6IhVEkemPMh4bZ/OAFjv8m8M2JBKUmv87O16iqupZgsIvS0v9lxoyrnQ5JOSQhIcVqp+94CW77Nrjd8IlPwC23WLXfBKvturNzOyLJZ6YZiGWD7fQdHS/Dl/5kXdMXvgCf/Sx8+9tnpkbo6tqO2z3D8W+xOjJWhV1j40/ZvfutuFweVq36P03yimnTLqO7ezcDA+2webN1E/aBB84keYCurtdIT181aXphTZt2GZ2drxIM+uHzn7eu6Z573jD/TWfna6Snr3f8m6wmehU2wWAvtbV3sG/fzWRmbmDNmtdJSyt1OiwVA6x2esPp0/acNzk5b0iIfX0nOH36FbKy3uZMgOOQlXUpxvTT2WmvODVz5hv29/TU4PNVM22a89ekiV6FRVfXbnbuXMuJE99nzpw7WLHiedzubKfDUjEiI+NNuFwptLe/NOz+xsafAiHy8j4a1bgmIjPzzYDLapIaRmPjTxBJJDf3w9ENbBia6NWEGBPk6NG72bXrTQQCbSxf/luKinS5P/VGLlcy06a9nebmx62mjiGMMTQ2/oTMzLfg9S5yKMKxS0zMIDNzI42NjxIKvXEen1AoQFPTo0yffhVJSbkORfhXmujVuPn9h9i9+60cPnwXM2Zcw7p1lWRnDzctklIwd+4/MDDQTGPjQ2/Y3tn5Cn5/LXl5H3MosvGbO/dz9PUdpbn5iTdsb2t7nv7+RmbNio1r0kSvxswYQ0PDg+zYUUZPTxXFxY+xbNkWbapRF5SZ+RYyMi7m2LH/eEMNuKHhIRIS0sjJ+YCD0Y1PdvZ7SE0t5dixu7HGj1oaGx/C7Z7J9OlXXuDs6NFEr8akv7+Zqqpr2b//VtLT17FuXQW5uR92vFeBin0iQkHBF+0a8OMABIM9tLQ8SU7O9TE97cH5iLgoKLgTn28vra3PAtDf30Jr67Pk5t4YM02YupSgGrVTp55h//7/RyBwmoULv0N+/h2IaF1BjV529lWkpi7n2LG7SUycTmPjwwSD3cya9XGnQxu3nJxNHD78zxw9+i2MCdLQ8N8YE4iZZhvQRK9GIRDo4uDBz9LQ8N+kppZRVvaidptU42LV6u+ipuZvqKp6LwkJ6cyZc7s1nfEk5XIlMnfu56mt/Tuqq68jMXEaBQV3xdSat5ro1QWdPv0KNTU30tt7mIKCO5k//6u4XMlOh6UmsZkzrycQaMfjWURW1qW4XElOhzRhs2Z9HGMGSE1dTmbmhphpshmkiV4NKxTq58iRr3Hs2N2kpBSwcuWfycra6HRYKg6IJDBnziedDiOsXK4k8vM/5XQY56WJXp2jp2cvNTUfobt7N3l5H2fRontJTMxwOiyl1DhpoldnGBOivv77HDp0J4mJGToZmVJxQhO9AqC39zj79n2Ujo4/kp39HpYs+e+YGNGnlJo4TfSKpqafc+DAJzEmwOLFDzBr1i3aL16pOKKJfgobGGjjwIFP0tKyhYyMiykufhSPZ6HTYSmlwkwT/RTV1vYC+/Z9lIGBZgoLv8ncuZ/H5dKPg1LxaMRhjSLykIg0i0jVkG3TReQFEam1f0+zt4uIfF9E6kSkQkRWRzJ4NXbBoI/a2k9TUfFOEhMzWb36NebN+6ImeaXi2GjGrz8MnD0l4Z3Ai8aYIuBF+znAu7EWBC8CNgP3hSdMFQ6dnTvYuXMNJ078gDlz7mDNmp2kp+vfYqXi3YiJ3hjzZ6DtrM1XA4/Yjx8Brhmy/afG8iqQJSKzwhWsGp9QKMCRI99g9+6LCQS6WLHiBYqKvktCgsfp0JRSUTDe7+u5xpgGAGNMg4gMrqE1Bzg+5Lh6e1vD2QWIyGasWj8FBQXjDEONxOerY9++G+nsfJWZMz9EUdEPcbunOR2WUiqKwj314HB98sxwBxpj7jfGrDXGrM3JyQlzGMoYw8mTP2bHjjJ8vn0UFz/OsmU/1ySv1BQ03hp9k4jMsmvzs4Bme3s9MHfIcfnAyYkEqMaur6+R/ftvoa3tOaZNeztLlvyElJR8p8NSSjlkvDX6Z4Cb7cc3A08P2X6T3fvmIuD0YBOPio6WlqfYvr2Ujo4/smjR91mx4nea5JWa4kas0YvI48ClwAwRqQe+AtwNPCkitwDHgA/ahz8HXAnUAT4gdmbej3OBQCd1dXfQ2PgwaWmrKS5+jNTUYqfDUkrFgBETvTHmQ+fZ9bZhjjXAbRMNSo1NR8efqam5ib6+48yb90/Mm/fPcTHHt1IqPHSUzCQWCvVx+PCXOX78P0hJWcCqVVvJzLzY6bCUUjFGE/0k1d1dSU3NR+jpqWDWrM0sXHjPpFxcWSkVeZroJxlrzvh7OXToiyQmZlFa+iwzZrzH6bCUUjFME/0k0tt7lJqamzl9+k/MmHENixffT1KSjkFQSl2YJvpJwBhDU9Oj1NZ+CjAsWfIT8vJu1jnjlVKjook+xvX3n+LAgU9w6tQvyczcyNKlP8XjKXQ6LKXUJKKJPoa1tv6W/fs/zsBAKwsW/Btz534OkQSnw1JKTTKa6GNQMNjDwYP/yMmT95GaWsqKFc+TllbmdFhKqUlKE32M6ex8jZqaG/H768jP/xyFhd8gISHF6bCUUpOYJvoYEQoNcPToNzh69JskJ8+mrOxFpk27zOmwlFJxQBN9DPD59lNTcyNdXdvJzb2RoqIfkJiY6XRYSqk4oYneQdac8T/i4MF/xOXysGzZk8yc+cGRT1RKqTHQRO+Qvr6T7Nv3cdrbf8e0ae9i6dKHSE6e7XRYSqk4pIneAc3Nv+DAgU8QCvkpKvoRs2d/Qgc/KaUiRhN9FA0MdFBX9ymamh4jPX0dxcWP4vUucTospVSc00QfJe3tL7Fv38309Z1k/vyvUlDwRVwut9NhKaWmgAklehE5AnQBQSBgjFkrItOBLcB84AhwvTGmfWJhTl7BYC+HD3+R+vp78XiKWL36FTIy1jsdllJqChnvmrFDXWaMWWmMWWs/vxN40RhTBLxoP5+Surr2sHPnWurr72X27E+ydu1uTfJKqagLR6I/29XAI/bjR4BrIvAaMc2YIMeO/Ru7dq0nEGhl+fLfsnjxD0lISHU6NKXUFDTRNnoD/F5EDPBjY8z9QK4xpgHAGNMgIjMnGuRk4vcfYt++mzl9eiszZlzHkiU/xu3OdjospdQUNtFEv8EYc9JO5i+IyL7Rnigim4HNAAUFBRMMw3nGGBobf0Jd3R2Ai6VLf0pu7ke026RSynETaroxxpy0fzcDvwLWA00iMgvA/t18nnPvN8asNcaszcmZ3Ksk9fc3U1V1Lfv330J6+lrWraskL+9GTfJKqZgw7kQvIqkikj74GHgnUAU8A9xsH3Yz8PREg4xlp049y/bty2lr+y0LF95DWdmLpKRM/m8oSqn4MZGmm1zgV3atNRH4uTHmeRHZDjwpIrcAx4C4nLwlEOjm4MHP0tDwAKmpZZSV/YG0tOVOh6WUUucYd6I3xhwCzlkNwxjTCrxtIkHFutOnX6Gm5kZ6ew8zd+4XKCz8Gi5XstNhKaXUsHRk7BiEQv0cOfI1jh27m5SUAlau/BNZWW92OiyllLogTfSj1NOzl5qaj9DdvZu8vI+xaNF3SUzMcDospZQakSb6ERgT4sSJH3Dw4BdITEynpOQpcnKudTospZQaNU30F9DbW8++fR+lo+NFsrPfw+LFD5CcnOd0WEopNSaa6M+jqelxams/SSg0wOLF9zNr1q3aL14pNSlpoj/LwEAbtbW30dz8BBkZF7F06aN4vYucDksppcZNE/0QbW0vsG/fxxgYaKKw8BvMnfsFXC59i5RSk5tmMSAY9HPo0J2cOPF9vN6lLF/+NOnpa5wOSymlwmLKJ/qurp3U1HwEn28fc+Z8mgUL7iYhweN0WEopFTZTNtGHQgGOHbubo0e/htudy4oVv2f69Hc4HZZSSoXdlEz0Pl8d+/bdSGfnq8yceQNFRT/C7Z7mdFhKKRURUyrRG2NoaHiAurq/x+VKorj45+TmfsjpsJRSKqKmTKLv62tk//5baWv7DVlZb2Pp0odJScl3OiyllIq4KZHoW1p+xYEDmwkGu1m06HvMmXM7IpFYLlcppWJPXCf6QKCTurrP0Nj4E9LSVlFc/BipqcucDksppaIqbhN9R8df2LfvJnp7j1FQ8CXmz/8yLleS02EppVTUxV2iD4X6OHz4yxw//h+kpBSyatVfyMy8xOmwlFLKMRFrqBaRK0Rkv4jUicidkXqdobq7K9m5cz3Hj/87s2bdytq15ZrklVJTXkRq9CKSAPwQeAdQD2wXkWeMMXsj8XrGhKivv5dDh75IYmIWpaXPMGPGeyPxUkopNelEqulmPVBnryuLiDwBXA2EPdH39h6154x/mezsq1my5AGSknLC/TJKKTVpRSrRzwGOD3leD7wp3C/S2vpb9u69AQixZMmD5OV9TOeMV0qps0Qq0Q+Xbc0bDhDZDGwGKCgoGNeLeDxFZGRczOLF9+HxFI6rDKWUineRuhlbD8wd8jwfODn0AGPM/caYtcaYtTk542tq8XoXUVb2vCZ5pZS6gEgl+u1AkYgUikgScAPwTIReSyml1AVEpOnGGBMQkduB3wEJwEPGmOpIvJZSSqkLi9iAKWPMc8BzkSpfKaXU6OjMXkopFec00SulVJzTRK+UUnFOE71SSsU5TfRKKRXnxBgz8lGRDkKkBTg6ztNnAKfCGM5kpu+FRd8Hi74Plnh+H+YZY0YccRoTiX4iRGSHMWat03HEAn0vLPo+WPR9sOj7oE03SikV9zTRK6VUnIuHRH+/0wHEEH0vLPo+WPR9sEz592HSt9ErpZS6sHio0SullLqASZ3onViAPFaIyBERqRSRPSKyw942XUReEJFa+/c0p+MMNxF5SESaRaRqyLZhr1ss37c/HxUistq5yMPvPO/FV0XkhP252CMiVw7Zd5f9XuwXkXc5E3V4ichcEXlJRGpEpFpE7rC3T8nPxPlM2kQ/ZAHydwPLgA+JyDJno4q6y4wxK4d0HbsTeNEYUwS8aD+PNw8DV5y17XzX/W6gyP7ZDNwXpRij5WHOfS8A7rU/FyvtWWSx/2/cAJTY5/zI/j802QWAzxljioGLgNvsa52qn4lhTdpEz5AFyI0x/cDgAuRT2dXAI/bjR4BrHIwlIowxfwbaztp8vuu+GvipsbwKZInIrOhEGnnneS/O52rgCWNMnzHmMFCH9X9oUjPGNBhjdtmPu4AarDWrp+Rn4nwmc6IfbgHyOQ7F4gQD/F5Edtrr7wLkGmMawPoPAMx0LLroOt91T9XPyO12s8RDQ5rv4v69EJH5wCrgNfQz8QaTOdGPuAB5nNtgjFmN9VX0NhF5i9MBxaCp+Bm5D1gIrAQagHvs7XH9XohIGvBL4DPGmM4LHTrMtrh5H85nMif6ERcgj2fGmJP272bgV1hfw5sGv4bav5udizCqznfdU+4zYoxpMsYEjTEh4AH+2jwTt++FiLixkvzPjDFP2Zv1MzHEZE70U3YBchFJFZH0wcfAO4EqrOu/2T7sZuBpZyKMuvNd9zPATXZPi4uA04Nf5+PVWe3N12J9LsB6L24QkWQRKcS6Gfl6tOMLNxER4EGgxhjznSG79DMxlDFm0v4AVwIHgIPAl5yOJ4rXvQAot3+qB68dyMbqYVBr/57udKwRuPbHsZokBrBqZ7ec77qxvqb/0P58VAJrnY4/Cu/Fo/a1VmAltVlDjv+S/V7sB97tdPxheg82YjW9VAB77J8rp+pn4nw/OjJWKaXi3GRuulFKKTUKmuiVUirOaaJXSqk4p4leKaXinCZ6pZSKc5rolVIqzmmiV0qpOKeJXiml4tz/ByE1Nvgkpg6PAAAAAElFTkSuQmCC\n",
          "text/plain": "<Figure size 432x288 with 1 Axes>"
         },
         "metadata": {
          "needs_background": "light"
         },
         "output_type": "display_data"
        }
       ]
      }
     },
     "4d23c085db1146ffb4227aa605fcb673": {
      "model_module": "bqplot",
      "model_module_version": "^0.4.5",
      "model_name": "FigureModel",
      "state": {
       "_dom_classes": [],
       "axes": [
        "IPY_MODEL_12232b98971e40ebb50db889428e82ea",
        "IPY_MODEL_2134dc40e9d94deebd43336707c9d537"
       ],
       "layout": "IPY_MODEL_838140e4864347279141eb0c4920b82a",
       "marks": [
        "IPY_MODEL_c7c9a31d6e774f6ab513c4a86dac27bf"
       ],
       "max_aspect_ratio": 6,
       "scale_x": "IPY_MODEL_f0a13dc1817c45f9a2877d89e9cb75df",
       "scale_y": "IPY_MODEL_3d3922872b6f4fd8b6e5470b7d2ff092"
      }
     },
     "4ea02c9e8bbb492089187a054f1cde68": {
      "model_module": "@jupyter-widgets/controls",
      "model_module_version": "1.4.0",
      "model_name": "IntSliderModel",
      "state": {
       "description": "flag",
       "layout": "IPY_MODEL_3c00389eacc34ba3941b177279b2b256",
       "max": 1,
       "style": "IPY_MODEL_df82012522344cc182a634025b0a0efc"
      }
     },
     "4f01493b106a40df98bb28667ea2e68f": {
      "model_module": "@jupyter-widgets/base",
      "model_module_version": "1.1.0",
      "model_name": "LayoutModel",
      "state": {
       "min_width": "125px"
      }
     },
     "4fa27e1c38754bf981522ab5e3d187c9": {
      "model_module": "@jupyter-widgets/base",
      "model_module_version": "1.1.0",
      "model_name": "LayoutModel",
      "state": {
       "min_width": "125px"
      }
     },
     "5006b728d0494949bc3104529d0c9556": {
      "model_module": "@jupyter-widgets/controls",
      "model_module_version": "1.4.0",
      "model_name": "IntSliderModel",
      "state": {
       "description": "t",
       "layout": "IPY_MODEL_288f171ade3348ac864caef652dde6ed",
       "max": 80,
       "min": 2,
       "style": "IPY_MODEL_9d305c379c094d2d947c85d293484fa9",
       "value": 41
      }
     },
     "5097ad974b434db8aee9134208807998": {
      "model_module": "@jupyter-widgets/controls",
      "model_module_version": "1.4.0",
      "model_name": "IntSliderModel",
      "state": {
       "description": "flag",
       "layout": "IPY_MODEL_86f04486638549eb9866fa7e882cbfe6",
       "max": 1,
       "style": "IPY_MODEL_ac284649919c47318ed1d542f7fcf41c"
      }
     },
     "5121978d047143ffbd34eef6df019cda": {
      "model_module": "@jupyter-widgets/output",
      "model_module_version": "1.0.0",
      "model_name": "OutputModel",
      "state": {
       "layout": "IPY_MODEL_2aa68680b9594b89b53bf9bdb21c2896",
       "outputs": [
        {
         "data": {
          "image/png": "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\n",
          "text/plain": "<Figure size 432x288 with 1 Axes>"
         },
         "metadata": {
          "needs_background": "light"
         },
         "output_type": "display_data"
        }
       ]
      }
     },
     "517b3cc660734fd5a1a458eeff466b21": {
      "model_module": "@jupyter-widgets/controls",
      "model_module_version": "1.4.0",
      "model_name": "VBoxModel",
      "state": {
       "_dom_classes": [
        "widget-interact"
       ],
       "children": [
        "IPY_MODEL_b6c71013a2004a58b8bf198797ef6005",
        "IPY_MODEL_4ea02c9e8bbb492089187a054f1cde68",
        "IPY_MODEL_49aa532b603341d9b9b2becf3d5743cc"
       ],
       "layout": "IPY_MODEL_8e42147d8dc942e1a7335f6a8f5abbf4"
      }
     },
     "51824893c4604ba8ad9816404c20ab22": {
      "model_module": "bqplot",
      "model_module_version": "^0.4.5",
      "model_name": "FigureModel",
      "state": {
       "_dom_classes": [],
       "axes": [
        "IPY_MODEL_0ec2296674854350912685846d114aa8",
        "IPY_MODEL_c2bf8572622c4e6c8cf73aba59246519"
       ],
       "layout": "IPY_MODEL_4f01493b106a40df98bb28667ea2e68f",
       "marks": [
        "IPY_MODEL_e2f316bf8eae4274904b6f61cdbd2ebe"
       ],
       "max_aspect_ratio": 6,
       "scale_x": "IPY_MODEL_b3e40e3662814b8c956b0bd3796aeb09",
       "scale_y": "IPY_MODEL_4635adeaa6c744cf940908b3c78366fd"
      }
     },
     "5293eb8f9fd045938de7e0e8cd7828ca": {
      "model_module": "@jupyter-widgets/controls",
      "model_module_version": "1.4.0",
      "model_name": "IntSliderModel",
      "state": {
       "description": "t",
       "layout": "IPY_MODEL_589f97f42dbd44638862ef29e48bf590",
       "max": 80,
       "min": 2,
       "style": "IPY_MODEL_b315766afe844848a0d2aec7c6c630e3",
       "value": 41
      }
     },
     "532aa9f3500444dca9500a1d5a28757c": {
      "model_module": "bqplot",
      "model_module_version": "^0.4.5",
      "model_name": "AxisModel",
      "state": {
       "scale": "IPY_MODEL_65673b1634474ce2b0036cbbd3815103",
       "side": "bottom",
       "tick_values": {
        "type": null,
        "values": null
       }
      }
     },
     "53f73da14dbd483f9f85ae696af51b79": {
      "model_module": "@jupyter-widgets/base",
      "model_module_version": "1.1.0",
      "model_name": "LayoutModel",
      "state": {
       "min_width": "125px"
      }
     },
     "550729626c8a4eb098cdb75311961ea4": {
      "model_module": "@jupyter-widgets/base",
      "model_module_version": "1.1.0",
      "model_name": "LayoutModel",
      "state": {}
     },
     "55b5c353329a4e39b7c2158448c45801": {
      "model_module": "bqplot",
      "model_module_version": "^0.4.5",
      "model_name": "LinearScaleModel",
      "state": {
       "stabilized": false
      }
     },
     "5689052229934135a07a615821e99191": {
      "model_module": "@jupyter-widgets/output",
      "model_module_version": "1.0.0",
      "model_name": "OutputModel",
      "state": {
       "layout": "IPY_MODEL_9776d44e11874896ba390634a366173c",
       "outputs": [
        {
         "data": {
          "image/png": "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\n",
          "text/plain": "<Figure size 432x288 with 1 Axes>"
         },
         "metadata": {
          "needs_background": "light"
         },
         "output_type": "display_data"
        }
       ]
      }
     },
     "569bd6d8191a4c72b5993384a36e7b1a": {
      "model_module": "@jupyter-widgets/base",
      "model_module_version": "1.1.0",
      "model_name": "LayoutModel",
      "state": {
       "min_width": "125px"
      }
     },
     "57145640712b416faee9da78c33297e6": {
      "model_module": "@jupyter-widgets/controls",
      "model_module_version": "1.4.0",
      "model_name": "IntSliderModel",
      "state": {
       "description": "flag",
       "layout": "IPY_MODEL_d255c4c580534ecab09a432925690b81",
       "max": 1,
       "style": "IPY_MODEL_1aebef714b0f4a4eba9c2b6ccb773d18"
      }
     },
     "5873f020495041749badd988e18678dd": {
      "model_module": "@jupyter-widgets/base",
      "model_module_version": "1.1.0",
      "model_name": "LayoutModel",
      "state": {}
     },
     "587d63f5dc2148dab276e988470716a9": {
      "model_module": "bqplot",
      "model_module_version": "^0.4.5",
      "model_name": "FigureModel",
      "state": {
       "_dom_classes": [],
       "axes": [
        "IPY_MODEL_b654e516ec804a22a73b911b49f52c61",
        "IPY_MODEL_10cb1cc71df8407daf9e0bbc7993d741"
       ],
       "layout": "IPY_MODEL_c2237ce4dd294e6cb6d1d135d518d788",
       "marks": [
        "IPY_MODEL_144cb616ae954bff917abcf515f7967b"
       ],
       "max_aspect_ratio": 6,
       "scale_x": "IPY_MODEL_87f14bf0696b46afbc70b7ae71e0065d",
       "scale_y": "IPY_MODEL_d35b7b37c330465bb04c62fb9fbdb58c"
      }
     },
     "589f97f42dbd44638862ef29e48bf590": {
      "model_module": "@jupyter-widgets/base",
      "model_module_version": "1.1.0",
      "model_name": "LayoutModel",
      "state": {}
     },
     "5a119ddda35f40eaaa381b73ae291951": {
      "model_module": "bqplot",
      "model_module_version": "^0.4.5",
      "model_name": "LinearScaleModel",
      "state": {
       "stabilized": false
      }
     },
     "5b0b24aa1445434eb95c85fd20ec1c29": {
      "model_module": "bqplot",
      "model_module_version": "^0.4.5",
      "model_name": "FigureModel",
      "state": {
       "_dom_classes": [],
       "axes": [
        "IPY_MODEL_e2b7af4f67f644d9ac850dccfd5158c6",
        "IPY_MODEL_e5cb988c54c0457db13b133ec14e8c58"
       ],
       "layout": "IPY_MODEL_28a6d7e7e38c420ab3715e18d1e2e15a",
       "marks": [
        "IPY_MODEL_cd94506271804706a000897744f9d0c4"
       ],
       "max_aspect_ratio": 6,
       "scale_x": "IPY_MODEL_d7dc4b95474c40728462d674be01c70d",
       "scale_y": "IPY_MODEL_12514de1afcb4b4f8e98e231b7acbdd1"
      }
     },
     "5bebdb8227ff474db9e81bc42b8fd26a": {
      "model_module": "bqplot",
      "model_module_version": "^0.4.5",
      "model_name": "AxisModel",
      "state": {
       "scale": "IPY_MODEL_32993c14a946422787cdf42f5ac9ca18",
       "side": "bottom",
       "tick_values": {
        "type": null,
        "values": null
       }
      }
     },
     "5daeba76c2c9480e8748c08c33c80a46": {
      "model_module": "@jupyter-widgets/base",
      "model_module_version": "1.1.0",
      "model_name": "LayoutModel",
      "state": {}
     },
     "5dfe8a4c0a9e4df3845a180a69eccf2e": {
      "model_module": "@jupyter-widgets/base",
      "model_module_version": "1.1.0",
      "model_name": "LayoutModel",
      "state": {}
     },
     "5e15907528c14ca0bc87ca3e7b2d37fc": {
      "model_module": "bqplot",
      "model_module_version": "^0.4.5",
      "model_name": "LinearScaleModel",
      "state": {
       "allow_padding": false,
       "max": 1,
       "min": 0,
       "stabilized": false
      }
     },
     "611759352ae34d6bb48223f646068f7d": {
      "model_module": "@jupyter-widgets/base",
      "model_module_version": "1.1.0",
      "model_name": "LayoutModel",
      "state": {}
     },
     "611edbd897544652ac5d5cfbdf1ae93d": {
      "model_module": "bqplot",
      "model_module_version": "^0.4.5",
      "model_name": "HistModel",
      "state": {
       "colors": [
        "#475A77"
       ],
       "count": {
        "type": "float",
        "values": [
         null,
         null,
         null,
         null,
         null,
         null,
         null,
         null,
         null,
         null
        ]
       },
       "display_legend": false,
       "midpoints": [
        0,
        0,
        0,
        0,
        0,
        0,
        0,
        0,
        0,
        0
       ],
       "normalized": true,
       "sample": {
        "type": "float",
        "values": [
         0,
         0,
         0,
         0,
         0,
         0,
         0,
         0,
         0,
         0
        ]
       },
       "scales": {
        "count": "IPY_MODEL_e4c3a22daff943f8bb1d1475ef3328b0",
        "sample": "IPY_MODEL_30f5dee2b18c4151b25bc205150bdac7"
       },
       "selected": [],
       "stroke": "#475A77"
      }
     },
     "615778217a634c67bcfdfa0510996941": {
      "model_module": "@jupyter-widgets/output",
      "model_module_version": "1.0.0",
      "model_name": "OutputModel",
      "state": {
       "layout": "IPY_MODEL_6685cc48b7d1402797fe6a4044b26473",
       "outputs": [
        {
         "data": {
          "image/png": "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\n",
          "text/plain": "<Figure size 432x288 with 1 Axes>"
         },
         "metadata": {
          "needs_background": "light"
         },
         "output_type": "display_data"
        }
       ]
      }
     },
     "62a06f2757324def9313344f8c469e85": {
      "model_module": "bqplot",
      "model_module_version": "^0.4.5",
      "model_name": "HistModel",
      "state": {
       "colors": [
        "#475A77"
       ],
       "count": {
        "type": "float",
        "values": [
         0.0012491834498046849,
         0.0008744284148632795,
         0.000249836689960937,
         0,
         0,
         0.0001249183449804685,
         0,
         0,
         0,
         6.245917249023425e-05
        ]
       },
       "display_legend": false,
       "midpoints": [
        201.2874074459076,
        591.7863995075227,
        982.2853915691377,
        1372.7843836307527,
        1763.2833756923676,
        2153.7823677539827,
        2544.281359815598,
        2934.7803518772125,
        3325.279343938828,
        3715.7783360004423
       ],
       "normalized": true,
       "sample": {
        "type": "float",
        "values": [
         1966.000244140625,
         3911.02783203125,
         2051.4208984375,
         983.2890625,
         551.925537109375,
         270.4345703125,
         67.04801940917969,
         6.615388870239258,
         115.81878662109375,
         345.41119384765625,
         599.0509643554688,
         777.6357421875,
         836.8104248046875,
         744.8502197265625,
         533.7470703125,
         274.430419921875,
         68.06526184082031,
         6.037911415100098,
         115.17916870117188,
         345.0361022949219,
         598.8817749023438,
         777.572509765625,
         836.7930908203125,
         744.8486938476562,
         533.7498779296875,
         274.4312438964844,
         68.06642150878906,
         6.038338661193848,
         115.17864227294922,
         345.0361022949219,
         598.8817749023438,
         777.57421875,
         836.7939453125,
         744.8486938476562,
         533.7488403320312,
         274.4320068359375,
         68.06617736816406,
         6.038338661193848,
         115.17929077148438,
         345.0361022949219,
         598.8817749023438
        ]
       },
       "scales": {
        "count": "IPY_MODEL_cacc8add5cf8484e813c444b41e696dd",
        "sample": "IPY_MODEL_ce55fdb7e72e4bd8a56e69b1c320e4da"
       },
       "selected": [],
       "stroke": "#475A77"
      }
     },
     "637dda4d744a48b79e0c9aa5de63d0bd": {
      "model_module": "@jupyter-widgets/output",
      "model_module_version": "1.0.0",
      "model_name": "OutputModel",
      "state": {
       "layout": "IPY_MODEL_5873f020495041749badd988e18678dd",
       "outputs": [
        {
         "data": {
          "image/png": "iVBORw0KGgoAAAANSUhEUgAAAXoAAAD8CAYAAAB5Pm/hAAAABHNCSVQICAgIfAhkiAAAAAlwSFlzAAALEgAACxIB0t1+/AAAADl0RVh0U29mdHdhcmUAbWF0cGxvdGxpYiB2ZXJzaW9uIDMuMC4zLCBodHRwOi8vbWF0cGxvdGxpYi5vcmcvnQurowAAIABJREFUeJzt3Xl83HWd+PHXe5JJMpOzTdOkbZo2bdM2Tdr0FmhVwAtBBUQprgIq/LquoLi6q6C7Huux7K6IxyorLAiCQnHFBRRRRFBbFuiZq2mb9E6bqzmaYybHzHx+f3y/qaFNm2tmvpPJ+/l45JGZ7/GZ93c6feczn+/nEGMMSiml4pfL6QCUUkpFliZ6pZSKc5rolVIqzmmiV0qpOKeJXiml4pwmeqWUinOjTvQikiAiu0Xk1/bzQhF5TURqRWSLiCTZ25Pt53X2/vmRCV0ppdRojKVGfwdQM+T5vwH3GmOKgHbgFnv7LUC7MWYRcK99nFJKKYeMKtGLSD5wFfDf9nMBLgf+xz7kEeAa+/HV9nPs/W+zj1dKKeWAxFEe913g80C6/Twb6DDGBOzn9cAc+/Ec4DiAMSYgIqft40+dr/AZM2aY+fPnjy1ypZSa4nbu3HnKGJMz0nEjJnoReQ/QbIzZKSKXDm4e5lAzin1Dy90MbAYoKChgx44dI4WilFJqCBE5OprjRtN0swF4n4gcAZ7AarL5LpAlIoN/KPKBk/bjemCuHUQikAm0nV2oMeZ+Y8xaY8zanJwR/yAppZQapxETvTHmLmNMvjFmPnAD8EdjzIeBl4AP2IfdDDxtP37Gfo69/49GZ05TSinHTKQf/ReAz4pIHVYb/IP29geBbHv7Z4E7JxaiUkqpiRjtzVgAjDEvAy/bjw8B64c5phf4YBhiU0opFQY6MlYppeKcJnqllIpzmuiVUirOaaJXSkVMINDJyZM/JhjscTqUKW1MN2OVUmq0fL79VFVdg8+3D59vP4sWfcfpkKYsrdErpcKutfU37Ny5noGBU0yb9i7q679Pd3eV02FNWZrolVJhY4zh6NFvUVn5XjyehaxZs5Nly35GYmImtbW3o2MnnaGJXikVFoFAN3v3Xs/hw19i5swPsWrVVlJSCnC7s1mw4FucPv0nmpufcDrMKUkTvVJqwvz+g+zefTEtLU+xcOG3KS5+jIQE75n9s2bdSlraag4e/AcCgS4HI52aNNErpSakvf1ldu5cR1/fCVaseJ65cz/H2UtQiCSwcOE99PefpL7+uw5FOnVprxul1LgZY9i//1bc7hmsWPE8Hs+C8xwX4sSJHwBCevrq6AapNNErpcavs/M1ensPsmTJT86b5AEOHvw8p049xcKF3yE7+6ooRqhAm26UUhPQ1PQYLlcKOTnvP+8xJ078iPr6e5g9+zby8z8TxejUIE30SqlxCYUGaG5+guzsq0lMzBj2mNbW31Bb+ymys9/DokXfPaftXkWHJnql1Li0tf2OQKCV3NyPDLu/q2s31dWbSEsro7j4cVwubSl2iiZ6pdS4NDU9RmJiNtOnv+ucfb29x6msfA9u93SWL/81iYlpDkQIwaCP/v4mR147luifWKXUmAUCnbS2Pk1e3sdxudzn7KusvIpgsItVq7aRnDzboSihuvqDtLU9R3r6WrKz30d+/mdITEx3LB6njFijF5EUEXldRMpFpFpEvmZvf1hEDovIHvtnpb1dROT7IlInIhUion2plIozLS1PEQr1ntNsEwoNUF19PT09eykp+R/S0pY7FCF0de2kre05srPfi0giR458mUOH7nIsHieNpkbfB1xujOkWETewVUR+a+/7R2PM/5x1/LuBIvvnTcB99m+lVJxobv4ZKSkLyMi46Mw2Ywy1tbfR3v47Fi9+gOnT3+lghHD06L+SkJBJcfFjJCZmsHfv39Dc/DMWLvw2CQkpjsYWbSPW6I2l237qtn8uNDPR1cBP7fNeBbJEZNbEQ1VKxYK+vpO0t79Ibu5H3tCL5vjxf6eh4QEKCu5i9uxbHYwQenr2cerUU8yZc/uZHkF5eR8jEOigtfVpR2NzwqhuxopIgojsAZqBF4wxr9m7vmk3z9wrIsn2tjnA8SGn19vblFJxoLn5ccCQm/vhIdue5NChO8nJ2URh4TecC852/Pi/43KlkJ9/x5lt06ZdTnJyAQ0NDzkYmTNGleiNMUFjzEogH1gvIqXAXcBSYB0wHfiCffhwHWXP+QYgIptFZIeI7GhpaRlX8Eqp6Ovs3E5KygK83sUAnD79CjU1N5GRsYGlSx9GxNnOfL29x2lqepRZs24lKSnnzHaRBPLybqa9/QV6e49foIT4M6Z/EWNMB/AycIUxpsFunukDfgKstw+rB+YOOS0fODlMWfcbY9YaY9bm5OScvVspFaNCIT8JCVbPFZ+vjsrK95GSMpfS0v+NibbvU6d+hTEB5sz59Dn78vI+ChgaGx+JelxOGk2vmxwRybIfe4C3A/sG293FaqS7BhhcPuYZ4Ca7981FwGljTENEoldKRZ2V6D0MDLRSWXklAMuXP0dS0gyHI7N0dLxMSkohXu+ic/Z5PAvIyrqUxsaHp9QiKKOp0c8CXhKRCmA7Vhv9r4GfiUglUAnMAAYb5p4DDgF1wAPAJ8MetVLKMaFQLyBUVV1Db+8xli9/Gq+3yOmwAGuWzI6OP5GVdel5j8nNvZHe3oP09EydpQ1H7F5pjKkAVg2z/fLzHG+A2yYemlIqaoyBr38ddu2CRx6BzMzzHhoM+uju3gnAsmVPkJm5IVpRjqinp5JAoM1K9KEQfOELUF8PDz4IXmshlMzMjQB0db3uaD//aNKRsUpNdcbA5z4H995rPX/HO+B3v4Np04Y9fDDJFxZ+i5kzN0UrylHp6HgZgKz0N8Ott8JPfmLtaGqCZ5+F1FQ8nkUkJGTS2bmdWbNucS7YKNK5bpSayoyBT3/aSvJ33AFPPw3l5fD2t0Nr6zmHD+2aWFBwZzQjHRWrfX4BKX/3FSvJf+Ur8Nhj8Kc/wbvfDV1diLjIyFhHV9frTocbNZrolZrKfvMb+M//hM9+1kr273ufleyrquBLX3rDoW1tf+DAgb8FIDf3ppibcvhM+/ypfHj0Uasp6qtfhQ9/GB5/HLZtg3/9VwDS09fT01NJMOh3Nugo0USv1FT2+OMwfTrcfTcMJu4rroDrroNf/AIGBgDo7q6iuvo6vN6liCSe6V4ZS7q7KwgE2sl6uQPmz3/jH6rrr4d3vtO6XmNIT1+HMQG6u/c4Fm80aaJXaqry++GZZ+D97wf3G2egZNMmaGuDF1+kr6+BysorSUhIZfny3yCSREKCx5mYL+BM+/zPq63EfvY3jk2b4MgR2L6djAxr2E9X1/boBukQTfRKTVXPPQfd3XDDDefuu+IKyMgg+MvHqKx8LwMDbSxf/muSk+cSCvlxuZwfGHW2jo6XSenPIaUhaCX1s11zDSQlwZYtJCfPJilpNp2dU6OdXhO9UlPVE0/AzJnw1reeuy85GXPt+9hbtIXu7t0sW/YE6emrMWYAMLhcsVWjN8Zw+vSfydqbCIsWwapzeoRDVha8612wZQuEQmRkrNcavVIqjnV3WzdiP/ABSBy+l3Xdh0/Tuj5AUe//Y8aM9wDWqFgg5mr0fX3HCATaSX+p0arNn+9G8aZNcOIEvPIK6enr8PsPMDDQEd1gHaCJXqmp6NlnrTb64Zo4gPr673HC/Sz5zyYz57HuM9utUbHEXI2+u7sSgLRDZvimqEHvex+kpMCWLaSnD7bT74hGiI7SRK/UVPTEEzB7NmzceM6uU6eepq7u75kx41oWdn3Y6m7pt2ryg90RXa7kc85zUk+PlehTk5ZAaen5D0xPh6uugl/8gvRUq3lnKvSn10Sv1FQzMAAvvADXXguuN6aAzs7t7N37IdLT11Jc/Bjy/g9azTx/+QsACQnWNALBoC/qYV9IT8cukpsg8coPjnzwdddBUxPuikN4PIunxA1ZTfRKTTW7d1s19LNuwvr9R6isfC9JSbksX/6sldQ3bLD+GGzbBoDbnQ0IAwPNDgR+fj2tO0g9xPA3ls/2lrdYv7dtIy1t1ZlvA/FME71SU42dtNnw18nIBgY6qKy8CmP67CmHc60d6elQVnbmHJEE3O4Z9PfHTqIPhfrxcYy0IwJvGsXy1HPmWAOqtm0jNbWE3t7DMfcNJdw00Ss11WzdCoWFVhs9VqKsrr4Ov7+WkpKnSE0tfuPxGzbAq69CIACA253DwEDsrArn8+3HuEKkBudZf5hGY8MG2LqVVG8xYPD59kc0RqdpoldqKjHGqp3btXljDAcO/C0dHX9kyZIHmDbtsnPP2bgRenqsyc6ApKSZMdV009O5G4DUWZeM/qSNG6GxEW+7tXB4T091JEKLGZrolZpKDh60puy1e9scPfpNGhsfZt68r5CXd/Pw5ww28WzdCoDbPTOmmm56Dv8RCYB3+VWjP8m+Js9r9Ygk4vPtjVB0sUETvVJTyZD2+aamn3HkyD+Tm3sj8+d/5fzn5OfDvHlnzo21Gn33qe14j4FrwyhuxA4qKYHMTFzbXsPjWUxPzxRP9CKSIiKvi0i5iFSLyNfs7YUi8pqI1IrIFhFJsrcn28/r7P3zI3sJSqlR27YNsrLomN3Cvn0fJzPzrSxZ8sDIUw7bbdoYg9s9k0Cgg1CoPzoxj6BHjpDanGrdZB0tlwsuucRqp09dpjV6oA+43BhTBqwErrAX/f434F5jTBHQDgwu1XIL0G6MWQTcax+nlIoFW7fiu2oFVXuvw+NZQGnpr0Y3+GnjRmhogMOHSUqaCcDAwKkIBzuywEAHfRk+UhPGsWbtxo2wdy9eKcTvP0gw2Bv+AGPEiIneWAbHQLvtHwNcDvyPvf0R4Br78dX2c+z9b5NYW6FAqamotZX+kzVUfKQKkUSWL/8NbvfwywWeY7Cdfts23O4cgJhop++p/T0AqXljuBE7yL6m1GMChPD7D4QxstgyqjZ6EUkQkT1AM/ACcBDoMMYE7EPqgcHvTXOA4wD2/tNAdjiDVkqNXfCVl6j6JvSndLN8+bN4PAtGf7Ldps3WrbjdgzV65xN9d81vAEhbcfXYT163DtxuvDusbybx3E4/qkRvjAkaY1YC+cB6oHi4w+zfw9XezdkbRGSziOwQkR0tLbHTJ1epeNTff4rKgc/RWQzFRQ+TkTGKgUVDJSTAxRfDK6+cabqJiRp9604SeiC59G1jP9nrhdWr8b64H3DFdTv9mHrdGGM6gJeBi4AsERmc3zQfOGk/rgfmAtj7M4G2Ycq63xiz1hizNicnZ3zRK6VG1N1dya5d6zidUc/SnxWQM+dD4ytozRqoqcEdsvqex8KgKZ/rON72DCQhYXwFrFmDa1clHs+iqV2jF5EcEcmyH3uAtwM1wEvAB+zDbgaeth8/Yz/H3v9HY8w5NXqlVOS1tDzFrl0XEwr1s+pr08kLXDr+wlasgGCQxAMnEXE733QTDOLL6sIbGkNvm7OtWAGdnaTK/Clfo58FvCQiFcB24AVjzK+BLwCfFZE6rDb4B+3jHwSy7e2fBe4Mf9hKqQsxJsSRI1+juvo6UlNLWFP4OzK2nrIS23iVlQEgFRUxMWgqUFtB/wyDN224luRRsq/J25aB318bM11Gw234pWWGMMZUAOesy2WMOYTVXn/29l5gFHOFKqUiIRDoZt++j3Lq1C/Jzb2JxYt/TMLL9kApO7GNy6JF4PFAeTlJpTmO1+j9Nb+HaeCdc9H4CyktBRFSjxjM0gB+fx2pqcvCF2SM0JGxSsURv/8Iu3dv4NSpX7Fw4T0sXfowCQkpZ+apmVCiT0iwEuOZGn1TeIIeJ9+JVwHwFF0+/kLS0mDhQrx7rOUE43XOG030SsWJjo4/sWvXOnp7j7JixXPMnfvZv454raiAWbNgoh0fysqgvJzk5Nn09dVPPOgJ8HXthRB4MksmVlBZGd6/HLbKjNNZLDXRKxUHTpz4L8rL305iYjZr1rzO9OnveuMB5eUTa58fVFYGra2k9GfT399AKNQ38TLHySf1pHSnWd9YJqKsjISawyS5Z+P314UnuBijiV6pSSwUGuDAgU9SW/t3TJv2DtaseQ2vd/EbDxoYgL17J9ZsM8guI6UhBEBv7/GJlzke7e34s30T63EzqKwMjMETyMXvr514eTFIE71Sk1R/fwvl5e/g5Mn7mDv38yxf/iyJiZnnHrhvH/T3hyfRL18OQPJBa1aUvr6jEy9zHExFOb58JtbjZpD9Tcfb7tUavVIqdnR3l7Nz5zq6ul6juPgxFi78N0TOM2ioosL6HY5En5UF8+aRsqcBgN7eIxMvcxz6av5MyAOe2WMc4TucefMgMxPPsSADA80EAp0TLzPGaKJXapJpafklu3ZdgjEDrFz5Z3JzP3zhE8rLISkJliwJTwBlZSS/Uge46O11pkbvq/8/ALx55/TwHjsRWLECT1U7QFzW6jXRKzVJGBPi8OGvUl39AdLSVrBmzQ4yMtaNfGJ5uTUpWeKIw2ZGZ8UKXDUHSE6a7Vyi77ZGsXpTl4anwBUr8Lxq3W/QRK+UckQg0E119Qc4evRr5OV9lLKyl0hOnjW6k8vLw9NsM6isDEIhUoIznEn0wSB+1wkSAm6Skkb5HoykrAxPrQ8gLm/IhulPvFIqUvz+w1RVXU1PTzULF36H/PzPjLwi1KCmJusn3IkeSO5IodPtQKKvrcU3K4g3WDD692EkZWUk9EJSaHpc1ug10SsVw9rbX6a6+gNAkBUrfsv06e8cWwENDVBQEN5Ev3AheL2kNARpyajHmOD5bwRHQmUlvrmQmRamZhuwmrZE8HSm48uKvxq9Nt0oFaNOnLiPiop3kJSUw+rVr489yQOsXAlHj8Jll4UvMJcLli0jpa4bYwL09Z0c+ZwwCtbsoS8PvLlrw1doaioUFuJpcMVljV4TvVIxJhTqZ//+T1Bb+0mmTXsXq1e/itc7jjVRI6mkhJQKa66baHex9J94DQBvRml4Cy4txbO/h4GBprjrYqmJXqkYYg2CejsNDT+moOBOli9/evhBUE4rLSVlr7WeULRvyPq6awDweBaPcOQYlZbiLbeWFfT7D4a3bIdpolcqRnR17WHnzrV0dW2nuPjnLFjwr9Ft+x6L0lKS7ckrozo6trcXv8sarOXxLApv2SUleI5bUzvEW88bvRmrVAxobv4F+/Z9lMTEaaxc+RcyMsLY/hwJJSUk9IM7kB7dGv3+/fhnG5KCWSQmpoW37NJSPCesh/HWTq+JXikHWStBfZWjR79ORsbFlJQ8RXJyntNhjSw/HzIySOlMiW6ir67GPxs8KQvDX/aSJSQMJJDU54m7RD+aNWPnishLIlIjItUicoe9/asickJE9tg/Vw455y4RqROR/SLyrvOXrtTUFQh0UV19HUePfp28vI+xcuVLkyPJgzVtQGkpKQ2h6Cb6qir8+eCZFuYbsQDJyVBUhKcleUo23QSAzxljdolIOrBTRF6w991rjPn20INFZBlwA1ACzAb+ICKLjTHBcAau1GTm9x+yB0HtZdGi7zJnzqfDN/gnWkpKSKnbRevybowxUYk/sH8P/e8ET2qY5u05W2kpniO/o23BFKvRG2MajDG77MddQA1woUmgrwaeMMb0GWMOA3UMs7asUlNVe/tL7Ny5jr6+E6xY8Tz5+XdMviQP1g3ZI72EQr1RW1aw95Q1E2fYb8QOKinBU9NFf38jgUBXZF7DAWPqdSMi87EWCn/N3nS7iFSIyEMiMs3eNgcYuhpBPcP8YRCRzSKyQ0R2tLS0jDlwpSYbYwwnTvyQ8vJ3kJSUaw+CeofTYY1faSkeqwMMvb2HIv96PT34sO6WejwRGldQWorHXiExnrpYjjrRi0ga8EvgM8aYTuA+YCGwEmgA7hk8dJjTzTkbjLnfGLPWGLM2Z6LrWCoV40Khfg4c+Ftqa28nO/vd9iCoCNVKo6WkZEgvlSgkxZoa/HaV0eOJwM1YOOua4qedflS9bkTEjZXkf2aMeQrAGNM0ZP8DwK/tp/XA3CGn5wPRHSOtVAzp72+muvo6Tp/eSkHBXRQWfj12+8ePxcyZpASyIdQWnV4q9o3YJFcOiYnpkXmNRYvwtLiBgbjqeTOaXjcCPAjUGGO+M2T70PlBrwWq7MfPADeISLKIFAJFwOvhC1mpycMaBLWOrq6dFBc/zoIF34qPJA8ggmvpclI6kqKX6OcKnrQwj4gdyu0mcX4xSd3JUyvRAxuAG4HLz+pK+e8iUikiFcBlwN8DGGOqgSeBvcDzwG3a40ZNRc3NT7J79yVAiFWrtpKbe4PTIYVfSQmeY4HoNN1UV+MvSMAT6Xl/7OabqDTdHD0KgUDEX2bEphtjzFaGb3d/7gLnfBP45gTiUmrSslaC+jLHjn2TjIxLKC19iqSkXKfDiozSUlIOBGnpORDxlwrWVtCfGYjcjdhBpaV4Dj1OW2mEE30oZE2PfMst8L3vRfSldK4bpcIoEOiiqur9HDv2TfLybmHlyj/Gb5KHM7XfQKidgYGOyL3O6dP47Vt9EetaOcieCqF/oJFAoDtyr3PsGPT0WMk+wjTRKxUmfv9Bdu26mNbWX7No0fdZsuQBXK5kp8OKrJISPHZXi97eCDbfVFcP6XEThaYbu4tlRK+pqurM60WaJnqlwqC9/UV27lxPf/9Jysp+R37+pybnIKixmj4dz4DVPTqiNy+rqvCdSfQRrtEXFuI5Zf2Bjug1VVdbvzXRKxXbjDHU1/+A8vJ3kZSUx5o125k27W1OhxVVnuzlQIT70ldX45+fiNudG7mulYNcLjyZxQD4fBFsp6+qsiaHy8qK3GvYNNErNU7WIKjN1NV9muzsK1m9+v8iN5AnhiUsKSOpFfwRTor+RZ7I1+ZtiUVluDsivKxgdTW+DfMJBv2Rew2bJnqlxqG/v4k9ey6noeG/KSj4EqWl/0tiYobTYTnDbtP2d1RH7jWqqvDnBaOW6CktxXM8hL9rb2TKDwYxe6vZceurHD78pci8xhA6H71SY9TVtYuqqmsYGDjFsmVbmDnzeqdDclZpKZ6noC1STTctLQQ7m+n3Er21c0tK8L4MbT0R+pZy8CD9af2EEqNwzwGt0Ss1Js3NW9i9eyMAq1Zt0yQPsGyZ1R3R1UYw6At/+fZiIxCFHjeDBrtYcopgsCf85VdX48+3HkbjmjTRKzUKxoQ4dOhL7N17A2lpq1mzZjvp6aucDis2pKeTMjADsObZD7s3dK2MUtNNfj6eNg8QoZvMVVVRvSZN9EqNIBDopKrqGo4d+xazZt0a/4OgxsGTZi0EEpGbl1VV+IuspBu1RC+Cx55dNCLXVF2NryQTETcpKQXhL/8smuiVugCfr84eBPUcixb9gMWL78flSnI6rJjjyVsDgL9nf/gLr6rCX5yB2z0zqje8PTNXA+D3RWB6h6oq/Iu8pKQsiMokd5rolTqPtrY/sGvXevr7Gykr+z35+bdPjUFQ4+BeupbE09DbtDu8BRtjNd3MTYhebd6WuHQ17jbwt1WGt+D+fti/P6q9iDTRK3UWaxDU96mouIKkpNn2IKjLnQ4rttlTIfhOh7mLZUMDtLfjm+6LeqIfnMfH11E18rFjUVuLCQTwp52OWi8iTfRKDREK9bF//63U1d1BdvZ77EFQC5wOK/YVF+M9Dr7Q0fCWW1VFMBn63R3R63EzqLQUbz34AofDW25VFf3TIeTq0xq9UtHW19fInj2X09j4EPPm/TOlpU9Ffrh9vPB48PZk05/SFd5Ftd/QtTLKNfqZM/Ge8jLg7iIQOB2+cqur8RdYqTdaf7w00SsFdHXtZNeudXR372HZsicpLPwXRPS/x1h4k6zpH/z+MN68rKjAvyzTKj9ag6UGieB1W9/mfL4w3mSuqMC/aiYQvT9e+klWU15T0+P2ICiXPQjqg06HNCl5c6yeN772ivAVOiQppqREfx4hT/ZKAHw9NeErtKICf2kWIm6SkyPftRJGt2bsXBF5SURqRKRaRO6wt08XkRdEpNb+Pc3eLiLyfRGpE5EKEVkd6YtQajyMCXLo0F3U1PwN6enr7EFQK50Oa9LyFF0KQfAd2xqeAgMBq5mjyIPbPQO3O/KzPJ7Ns/DN1jWdfC08BXZ2wuHD+AsSSUkpxOWKziw0o6nRB4DPGWOKgYuA20RkGXAn8KIxpgh40X4O8G6sBcGLgM3AfWGPWqkJCgQ6qay8mmPH7mbWrM2Ulf2BpKSZToc1qbnK1pLSCL728vAUuH8/9PXhnzkQ/RuxNlfZGqs30ald4Smwwvq2458W3V5EIyZ6Y0yDMWaX/bgLqAHmAFcDj9iHPQJcYz++GvipsbwKZInIrLBHrtQ4+Xy17Np1EW1tz1NU9EMWL/4vHQQVDvPn4z2ZgC94JDzllVt/MPzetujfiB1UUoK3HvwDYZraobwcA/gSG6P6x2tMbfQiMh9YBbwG5BpjGsD6YwAMVofmAMeHnFZvbzu7rM0iskNEdrS0tIw9cqXGoa3tBXsQVDNlZS8wZ84ndRBUuLhcePtm4k9tx5jQxMurqCCYmkhfqMmxGj0pKXh6puNLacWY4MTLq6igvzCTkImxGv0gEUkDfgl8xhjTeaFDh9lmztlgzP3GmLXGmLU5OTmjDUOpcTHGcPz4d6mouILk5Hx7ENRlTocVd7wpiwm5Q/T2hqE/fXk5/o1WrxfHavSA170Qkxiit/fYxAsrL8f/5kKr3Cj2IhpVohcRN1aS/5kx5il7c9Ngk4z9u9neXg/MHXJ6PtjLtyvlAGsQ1Mc5ePDvmTHjfaxa9QoeT6HTYcUl78y1APgO/3nihZWX419ndaJ3NNHPsGYp9bXsnFhBwSBUVuIvs2b6jKkavVjfax8Eaowx3xmy6xngZvvxzcDTQ7bfZPe+uQg4PdjEo1S0WYOgLqOx8WHmzfsyJSW/1EFQEeQtsqaK8B/9y8QKammBhgb8S9IAhxP9gksB8E/0j9fBg+Dz4V+QjEgiycnzJhzbaI2mb88G4EagUkT22Nu+CNwNPCkitwDHgMHOx88BVwJ1gA/4WFgjVmqUOjt3UFV1DYFAOyUl/0NOznVOhxT33KVvJvEl8HVPsOfNYO+U2UG7a+W0MEQ3Pu7lbyYjg4i7AAAajklEQVRxN/j6Jzhhm31Nvhl+UtwLota1EkaR6I0xWxm+3R3gnOXujTEGuG2CcSk1IU1NP2f//ltwu3NZvfoV0tLKnA5pSpD0dLwtyfiSJ9hGb/e46Uk9hTdpWRgiGz+ZMwfPc4n4Mia4AEl5OSQk4HOfJDU1utekI2NVXDEmyMGDX6Cm5sOkp69nzZrtmuSjzNufhy+tbWKFlJdjZuXhG6iNelI8hwhe/wx8nlMTK6e8nNCyxfh76/B6NdErNS6BwGkqK9/H8eP/zuzZn6Cs7AWSkrRHV7R5UorozwoSOD2BPhjl5fRfspRAoCPqSXE4XvdC+jMHCPR1jL+Q8nL8GwsxJqA1eqXGw+c7wK5dF9He/nuKin7E4sX36SAoh5zpeVP12/EVMDAAe/fiW28t15iaWhKu0MbNO8OaGsNf++L4CujogGPH6FlpTeOgNXqlxqit7ffs2vUm+vtbKCv7A3Pm/J3TIU1p3qK3A+A7Os5eKjU1MDBAz5Jkq7xYqNEvuBQAX91L4yvAvufgK3QBgte7JCxxjZYmejVpWYOgvkNFxbtJTp7LmjXbycp6q9NhTXmeRW9BBqDn1I7xFfDKKwD4ZgdITJwWEwuxe5ZfaV1T06vjK8C+pp4Z3aSkFJKQ4A1jdCOLXv8epcIoGOzlwIFP0NT0CDNmvJ+lSx8hMTHN6bAU4HK5Se3IpFvGuTLT1q2Ql0dPYj3ehGUxMUWFK9mLty2V7mDt+ArYuhWKi/EFDjpyc1lr9GrS6etrYM+eS2lqeoT5879KSckvNMnHmFRXET15fjg5jhuy27bBhg34fHud73EzRKqZT092J3SNcQWtUAheeYXQxovx+fY70hSliV5NKp2d29m5cy09PVWUlPyS+fO/oitBxaDUvIvpz4GBV54f24knTsCRI/S/dSUDA6dion1+UOqM9fTlwsBrY7whu3cvdHTQ+9YijOnXGr1SF9LU9DN2734zLlcSq1e/Qk7O+50OSZ1HWtEVAHTve25sJ27bBoBvndUtNpZq9GmLrWvqqXxmbCfa19SzIgNw5uayJnoV86xBUJ+npuYjZGRcxOrV20lLW+F0WOoCUjOticB6Tr0+thO3bQOvl57ZA0Bs9LgZlDrzIgB6mv5vbCdu2wa5ufjSrUFkXu/ScIc2Ir0Zq2LawEAHNTV/Q1vbb5k9+5MsWvRdXC6302GpESQl5eHu99KTVA/d3ZA2ynsoW7fCm96Er28/CQnpJCefs5SFY5KT55LQn0RPqM5a5jBxlOlz61bYsIEeXw3JyQWOTKqnNXoVs/46COoFFi/+LxYv/qEm+UlCREhNKKK70MDro6zVd3XBnj2wcSM9PXvxemOjx80gESGV+fTkB6CycnQnnTwJhw/Dxo2O3lzWRK9iUmvr8+zcuZ5AoJWysheZPftvnQ5JjVFq3sX0zAezdZQDp157zeqhEoM9bgalZa+newGYraOchtlunzeXXITPt8+xpihN9CqmWIOg7qGy8ipSUuaxevV2srLe4nRYahzSpq8j5AH/3lH2Utm2DUQYWLuE/v7GmGqfH5SadzHBNOjb84fRnbBtG3g89BZPIxTqdeyPl7bRq5hhDYLaTFPTo+TkfIClSx8mISHV6bDUOKWmLgegp20H3tG0aW/dCitW0JNw1D7f+TluznbmmhpfIcUYGKlpyb7n0N1XA4DX68w1aY1exYS+vpPs2fNWmpoeZf78f2HZsic1yU9yqaklYISeWb3w5xGabzo6rGMuv5zOzu0ApKevi0KUY5OaWgpAT0ardT/hQk6cgF274PLL6erajkgiaWkroxDluTTRK8d1dr5uD4KqpqTkKebP/+eYugmnxichwYsnZSHdixNgy5YLH/z009DfD5s20dX1OikphSQlzYhOoGPgdk8j2T2b7oUy8jX94hdgDGzaRGfn66SmriAhISU6gZ5lNGvGPiQizSJSNWTbV0XkhIjssX+uHLLvLhGpE5H9IvKuSAWu4kNj46Ps3v0WXK4UVq/+P3JyrnU6JBVGqell9JR44Ze/tKYfPp8tW2D+fFi/ns7O12OyNj8oNb2MnhVpVszGnP/ALVtg5UpM0SK6unY4ek2jqdE/DFwxzPZ7jTEr7Z/nAERkGXADUGKf8yMRSQhXsCp+WIOg/pF9+24iM/MSVq9+nbS05U6HpcIsLW0F/sxuAr5WePE8N2VbW+GFF+D66+kfaKGv7ygZGeujG+gYpKauwJfjI3jiyPm7jh45Aq++Cps24ffXEgyedvSaRkz0xpg/A6NdF+xq4AljTJ8x5jDWAuGx+y+mHDEw0EFl5Xs4fvzbzJ59GytW/C4mv6aricvIuATEcHq99/xNHU89ZQ1A2rSJrq7YbZ8flJl5CUaCdK1IPP81Pfmk9fv664fcc4jhRH8Bt4tIhd20M7hE+xzg+JBj6u1t5xCRzSKyQ0R2tLS0TCAMNZn4fPvZtetNtLf/gcWLf8zixf+pg6DiWGbmJYi46bhuAfzqV9DXd+5BW7ZAURGsWmUnRRdpaaujHutoZWa+BRA6rltoJfRQ6NyDtmyB9ethwQK6ul7H5UolNbU46rEOGm+ivw9YCKwEGoB77O3D3UEbthHLGHO/MWatMWZtTo6u6zkVtLb+1h4E1U5Z2R+ZPXuz0yGpCEtI8JKRcREdJf1w+jT8/vdvPKCpCV56CTZtAhG6ul4nNXVZTE877XZnkZa2ivbVLqtnjb2oyBm1tVZvm02bAOjq2k56+hqcbMUeV6I3xjQZY4LGmBDwAH9tnqkH5g45NB+YwArBKh4YYzh27D+orLwKj2eBvRLUm50OS0VJVtaldLnqCORnwfe+98abst/9rlUj3rQJY4x9Izb2W3uzsi6lM+UQwfRk+M53IBi0dhgD99j13g9+kFCon66u3Y43RY0r0YvIrCFPrwUGe+Q8A9wgIskiUggUAWOcvk7Fk2DQz759N3Ho0OfJyfkAq1ZtJSVlntNhqSjKyroMCNHxrb+xbsh+8INWE87Xvw533w033gilpfT2HiEQaHU8KY5GVtZlGNNH57/eaDVJfexj1n2Gf/gH+PGP4dOfhrlz6empwpg+x28ujzgyVkQeBy4FZohIPfAV4FIRWYnVLHME+FsAY0y1iDwJ7AUCwG3GmGBkQlexrq/vBFVV19LVtZ3Cwm9QUPBF7R8/BWVkXIxIMh0Xe5jxn/8Jt98Oy5dbTRw33QQPPQRAV9fr9vGxX6PPzNwIuOi4cjbTvvEN+Kd/snrZ1NbCpz5lfVPBGiMCzt6IhVEkemPMh4bZ/OAFjv8m8M2JBKUmv87O16iqupZgsIvS0v9lxoyrnQ5JOSQhIcVqp+94CW77Nrjd8IlPwC23WLXfBKvturNzOyLJZ6YZiGWD7fQdHS/Dl/5kXdMXvgCf/Sx8+9tnpkbo6tqO2z3D8W+xOjJWhV1j40/ZvfutuFweVq36P03yimnTLqO7ezcDA+2webN1E/aBB84keYCurtdIT181aXphTZt2GZ2drxIM+uHzn7eu6Z573jD/TWfna6Snr3f8m6wmehU2wWAvtbV3sG/fzWRmbmDNmtdJSyt1OiwVA6x2esPp0/acNzk5b0iIfX0nOH36FbKy3uZMgOOQlXUpxvTT2WmvODVz5hv29/TU4PNVM22a89ekiV6FRVfXbnbuXMuJE99nzpw7WLHiedzubKfDUjEiI+NNuFwptLe/NOz+xsafAiHy8j4a1bgmIjPzzYDLapIaRmPjTxBJJDf3w9ENbBia6NWEGBPk6NG72bXrTQQCbSxf/luKinS5P/VGLlcy06a9nebmx62mjiGMMTQ2/oTMzLfg9S5yKMKxS0zMIDNzI42NjxIKvXEen1AoQFPTo0yffhVJSbkORfhXmujVuPn9h9i9+60cPnwXM2Zcw7p1lWRnDzctklIwd+4/MDDQTGPjQ2/Y3tn5Cn5/LXl5H3MosvGbO/dz9PUdpbn5iTdsb2t7nv7+RmbNio1r0kSvxswYQ0PDg+zYUUZPTxXFxY+xbNkWbapRF5SZ+RYyMi7m2LH/eEMNuKHhIRIS0sjJ+YCD0Y1PdvZ7SE0t5dixu7HGj1oaGx/C7Z7J9OlXXuDs6NFEr8akv7+Zqqpr2b//VtLT17FuXQW5uR92vFeBin0iQkHBF+0a8OMABIM9tLQ8SU7O9TE97cH5iLgoKLgTn28vra3PAtDf30Jr67Pk5t4YM02YupSgGrVTp55h//7/RyBwmoULv0N+/h2IaF1BjV529lWkpi7n2LG7SUycTmPjwwSD3cya9XGnQxu3nJxNHD78zxw9+i2MCdLQ8N8YE4iZZhvQRK9GIRDo4uDBz9LQ8N+kppZRVvaidptU42LV6u+ipuZvqKp6LwkJ6cyZc7s1nfEk5XIlMnfu56mt/Tuqq68jMXEaBQV3xdSat5ro1QWdPv0KNTU30tt7mIKCO5k//6u4XMlOh6UmsZkzrycQaMfjWURW1qW4XElOhzRhs2Z9HGMGSE1dTmbmhphpshmkiV4NKxTq58iRr3Hs2N2kpBSwcuWfycra6HRYKg6IJDBnziedDiOsXK4k8vM/5XQY56WJXp2jp2cvNTUfobt7N3l5H2fRontJTMxwOiyl1DhpoldnGBOivv77HDp0J4mJGToZmVJxQhO9AqC39zj79n2Ujo4/kp39HpYs+e+YGNGnlJo4TfSKpqafc+DAJzEmwOLFDzBr1i3aL16pOKKJfgobGGjjwIFP0tKyhYyMiykufhSPZ6HTYSmlwkwT/RTV1vYC+/Z9lIGBZgoLv8ncuZ/H5dKPg1LxaMRhjSLykIg0i0jVkG3TReQFEam1f0+zt4uIfF9E6kSkQkRWRzJ4NXbBoI/a2k9TUfFOEhMzWb36NebN+6ImeaXi2GjGrz8MnD0l4Z3Ai8aYIuBF+znAu7EWBC8CNgP3hSdMFQ6dnTvYuXMNJ078gDlz7mDNmp2kp+vfYqXi3YiJ3hjzZ6DtrM1XA4/Yjx8Brhmy/afG8iqQJSKzwhWsGp9QKMCRI99g9+6LCQS6WLHiBYqKvktCgsfp0JRSUTDe7+u5xpgGAGNMg4gMrqE1Bzg+5Lh6e1vD2QWIyGasWj8FBQXjDEONxOerY9++G+nsfJWZMz9EUdEPcbunOR2WUiqKwj314HB98sxwBxpj7jfGrDXGrM3JyQlzGMoYw8mTP2bHjjJ8vn0UFz/OsmU/1ySv1BQ03hp9k4jMsmvzs4Bme3s9MHfIcfnAyYkEqMaur6+R/ftvoa3tOaZNeztLlvyElJR8p8NSSjlkvDX6Z4Cb7cc3A08P2X6T3fvmIuD0YBOPio6WlqfYvr2Ujo4/smjR91mx4nea5JWa4kas0YvI48ClwAwRqQe+AtwNPCkitwDHgA/ahz8HXAnUAT4gdmbej3OBQCd1dXfQ2PgwaWmrKS5+jNTUYqfDUkrFgBETvTHmQ+fZ9bZhjjXAbRMNSo1NR8efqam5ib6+48yb90/Mm/fPcTHHt1IqPHSUzCQWCvVx+PCXOX78P0hJWcCqVVvJzLzY6bCUUjFGE/0k1d1dSU3NR+jpqWDWrM0sXHjPpFxcWSkVeZroJxlrzvh7OXToiyQmZlFa+iwzZrzH6bCUUjFME/0k0tt7lJqamzl9+k/MmHENixffT1KSjkFQSl2YJvpJwBhDU9Oj1NZ+CjAsWfIT8vJu1jnjlVKjook+xvX3n+LAgU9w6tQvyczcyNKlP8XjKXQ6LKXUJKKJPoa1tv6W/fs/zsBAKwsW/Btz534OkQSnw1JKTTKa6GNQMNjDwYP/yMmT95GaWsqKFc+TllbmdFhKqUlKE32M6ex8jZqaG/H768jP/xyFhd8gISHF6bCUUpOYJvoYEQoNcPToNzh69JskJ8+mrOxFpk27zOmwlFJxQBN9DPD59lNTcyNdXdvJzb2RoqIfkJiY6XRYSqk4oYneQdac8T/i4MF/xOXysGzZk8yc+cGRT1RKqTHQRO+Qvr6T7Nv3cdrbf8e0ae9i6dKHSE6e7XRYSqk4pIneAc3Nv+DAgU8QCvkpKvoRs2d/Qgc/KaUiRhN9FA0MdFBX9ymamh4jPX0dxcWP4vUucTospVSc00QfJe3tL7Fv38309Z1k/vyvUlDwRVwut9NhKaWmgAklehE5AnQBQSBgjFkrItOBLcB84AhwvTGmfWJhTl7BYC+HD3+R+vp78XiKWL36FTIy1jsdllJqChnvmrFDXWaMWWmMWWs/vxN40RhTBLxoP5+Surr2sHPnWurr72X27E+ydu1uTfJKqagLR6I/29XAI/bjR4BrIvAaMc2YIMeO/Ru7dq0nEGhl+fLfsnjxD0lISHU6NKXUFDTRNnoD/F5EDPBjY8z9QK4xpgHAGNMgIjMnGuRk4vcfYt++mzl9eiszZlzHkiU/xu3OdjospdQUNtFEv8EYc9JO5i+IyL7Rnigim4HNAAUFBRMMw3nGGBobf0Jd3R2Ai6VLf0pu7ke026RSynETaroxxpy0fzcDvwLWA00iMgvA/t18nnPvN8asNcaszcmZ3Ksk9fc3U1V1Lfv330J6+lrWraskL+9GTfJKqZgw7kQvIqkikj74GHgnUAU8A9xsH3Yz8PREg4xlp049y/bty2lr+y0LF95DWdmLpKRM/m8oSqn4MZGmm1zgV3atNRH4uTHmeRHZDjwpIrcAx4C4nLwlEOjm4MHP0tDwAKmpZZSV/YG0tOVOh6WUUucYd6I3xhwCzlkNwxjTCrxtIkHFutOnX6Gm5kZ6ew8zd+4XKCz8Gi5XstNhKaXUsHRk7BiEQv0cOfI1jh27m5SUAlau/BNZWW92OiyllLogTfSj1NOzl5qaj9DdvZu8vI+xaNF3SUzMcDospZQakSb6ERgT4sSJH3Dw4BdITEynpOQpcnKudTospZQaNU30F9DbW8++fR+lo+NFsrPfw+LFD5CcnOd0WEopNSaa6M+jqelxams/SSg0wOLF9zNr1q3aL14pNSlpoj/LwEAbtbW30dz8BBkZF7F06aN4vYucDksppcZNE/0QbW0vsG/fxxgYaKKw8BvMnfsFXC59i5RSk5tmMSAY9HPo0J2cOPF9vN6lLF/+NOnpa5wOSymlwmLKJ/qurp3U1HwEn28fc+Z8mgUL7iYhweN0WEopFTZTNtGHQgGOHbubo0e/htudy4oVv2f69Hc4HZZSSoXdlEz0Pl8d+/bdSGfnq8yceQNFRT/C7Z7mdFhKKRURUyrRG2NoaHiAurq/x+VKorj45+TmfsjpsJRSKqKmTKLv62tk//5baWv7DVlZb2Pp0odJScl3OiyllIq4KZHoW1p+xYEDmwkGu1m06HvMmXM7IpFYLlcppWJPXCf6QKCTurrP0Nj4E9LSVlFc/BipqcucDksppaIqbhN9R8df2LfvJnp7j1FQ8CXmz/8yLleS02EppVTUxV2iD4X6OHz4yxw//h+kpBSyatVfyMy8xOmwlFLKMRFrqBaRK0Rkv4jUicidkXqdobq7K9m5cz3Hj/87s2bdytq15ZrklVJTXkRq9CKSAPwQeAdQD2wXkWeMMXsj8XrGhKivv5dDh75IYmIWpaXPMGPGeyPxUkopNelEqulmPVBnryuLiDwBXA2EPdH39h6154x/mezsq1my5AGSknLC/TJKKTVpRSrRzwGOD3leD7wp3C/S2vpb9u69AQixZMmD5OV9TOeMV0qps0Qq0Q+Xbc0bDhDZDGwGKCgoGNeLeDxFZGRczOLF9+HxFI6rDKWUineRuhlbD8wd8jwfODn0AGPM/caYtcaYtTk542tq8XoXUVb2vCZ5pZS6gEgl+u1AkYgUikgScAPwTIReSyml1AVEpOnGGBMQkduB3wEJwEPGmOpIvJZSSqkLi9iAKWPMc8BzkSpfKaXU6OjMXkopFec00SulVJzTRK+UUnFOE71SSsU5TfRKKRXnxBgz8lGRDkKkBTg6ztNnAKfCGM5kpu+FRd8Hi74Plnh+H+YZY0YccRoTiX4iRGSHMWat03HEAn0vLPo+WPR9sOj7oE03SikV9zTRK6VUnIuHRH+/0wHEEH0vLPo+WPR9sEz592HSt9ErpZS6sHio0SullLqASZ3onViAPFaIyBERqRSRPSKyw942XUReEJFa+/c0p+MMNxF5SESaRaRqyLZhr1ss37c/HxUistq5yMPvPO/FV0XkhP252CMiVw7Zd5f9XuwXkXc5E3V4ichcEXlJRGpEpFpE7rC3T8nPxPlM2kQ/ZAHydwPLgA+JyDJno4q6y4wxK4d0HbsTeNEYUwS8aD+PNw8DV5y17XzX/W6gyP7ZDNwXpRij5WHOfS8A7rU/FyvtWWSx/2/cAJTY5/zI/j802QWAzxljioGLgNvsa52qn4lhTdpEz5AFyI0x/cDgAuRT2dXAI/bjR4BrHIwlIowxfwbaztp8vuu+GvipsbwKZInIrOhEGnnneS/O52rgCWNMnzHmMFCH9X9oUjPGNBhjdtmPu4AarDWrp+Rn4nwmc6IfbgHyOQ7F4gQD/F5Edtrr7wLkGmMawPoPAMx0LLroOt91T9XPyO12s8RDQ5rv4v69EJH5wCrgNfQz8QaTOdGPuAB5nNtgjFmN9VX0NhF5i9MBxaCp+Bm5D1gIrAQagHvs7XH9XohIGvBL4DPGmM4LHTrMtrh5H85nMif6ERcgj2fGmJP272bgV1hfw5sGv4bav5udizCqznfdU+4zYoxpMsYEjTEh4AH+2jwTt++FiLixkvzPjDFP2Zv1MzHEZE70U3YBchFJFZH0wcfAO4EqrOu/2T7sZuBpZyKMuvNd9zPATXZPi4uA04Nf5+PVWe3N12J9LsB6L24QkWQRKcS6Gfl6tOMLNxER4EGgxhjznSG79DMxlDFm0v4AVwIHgIPAl5yOJ4rXvQAot3+qB68dyMbqYVBr/57udKwRuPbHsZokBrBqZ7ec77qxvqb/0P58VAJrnY4/Cu/Fo/a1VmAltVlDjv+S/V7sB97tdPxheg82YjW9VAB77J8rp+pn4nw/OjJWKaXi3GRuulFKKTUKmuiVUirOaaJXSqk4p4leKaXinCZ6pZSKc5rolVIqzmmiV0qpOKeJXiml4tz/ByE1Nvgkpg6PAAAAAElFTkSuQmCC\n",
          "text/plain": "<Figure size 432x288 with 1 Axes>"
         },
         "metadata": {
          "needs_background": "light"
         },
         "output_type": "display_data"
        }
       ]
      }
     },
     "65673b1634474ce2b0036cbbd3815103": {
      "model_module": "bqplot",
      "model_module_version": "^0.4.5",
      "model_name": "LinearScaleModel",
      "state": {
       "stabilized": false
      }
     },
     "657feee3247b48d4b7a89655aea275f5": {
      "model_module": "@jupyter-widgets/controls",
      "model_module_version": "1.4.0",
      "model_name": "SliderStyleModel",
      "state": {
       "description_width": ""
      }
     },
     "65cf0e6ead384255a83859ebf142b313": {
      "model_module": "bqplot",
      "model_module_version": "^0.4.5",
      "model_name": "FigureModel",
      "state": {
       "_dom_classes": [],
       "axes": [
        "IPY_MODEL_a2856e56fc4945479e6212fa2b929de6",
        "IPY_MODEL_1a73e610f21640eb8ab1d89c785863db"
       ],
       "layout": "IPY_MODEL_4fa27e1c38754bf981522ab5e3d187c9",
       "marks": [
        "IPY_MODEL_611edbd897544652ac5d5cfbdf1ae93d"
       ],
       "max_aspect_ratio": 6,
       "scale_x": "IPY_MODEL_f3db14a63b9d4c2a83cd4d775baf3694",
       "scale_y": "IPY_MODEL_dba4a44f83b44d669baef4a5e3e3222e"
      }
     },
     "6685cc48b7d1402797fe6a4044b26473": {
      "model_module": "@jupyter-widgets/base",
      "model_module_version": "1.1.0",
      "model_name": "LayoutModel",
      "state": {}
     },
     "677329576e7943b8a123ff12f0bc0b33": {
      "model_module": "bqplot",
      "model_module_version": "^0.4.5",
      "model_name": "LinearScaleModel",
      "state": {
       "allow_padding": false,
       "max": 1,
       "min": 0,
       "stabilized": false
      }
     },
     "6793682a2ddc4d05a8628fdce1452d96": {
      "model_module": "@jupyter-widgets/base",
      "model_module_version": "1.1.0",
      "model_name": "LayoutModel",
      "state": {}
     },
     "67e18fbb87dd4e0fb3a3cd179e27a397": {
      "model_module": "@jupyter-widgets/controls",
      "model_module_version": "1.4.0",
      "model_name": "SliderStyleModel",
      "state": {
       "description_width": ""
      }
     },
     "67ee364ad06940cab22a9c3929f5fa42": {
      "model_module": "@jupyter-widgets/base",
      "model_module_version": "1.1.0",
      "model_name": "LayoutModel",
      "state": {}
     },
     "6aa8faa4c0304760a78a96d1e88e7367": {
      "model_module": "@jupyter-widgets/controls",
      "model_module_version": "1.4.0",
      "model_name": "VBoxModel",
      "state": {
       "_dom_classes": [
        "widget-interact"
       ],
       "children": [
        "IPY_MODEL_c57dc301ce6444ee8126d29f280311a9",
        "IPY_MODEL_c02f8880b78d4fc8901e07d7f0354160",
        "IPY_MODEL_97c12cc1477f4fddbd6937d575ac800e"
       ],
       "layout": "IPY_MODEL_8413479d840647828e06122763777bab"
      }
     },
     "6ac31a0e6328465b842efa6b544129bc": {
      "model_module": "@jupyter-widgets/base",
      "model_module_version": "1.1.0",
      "model_name": "LayoutModel",
      "state": {}
     },
     "6bba28f3f90148ef8d7d142228b35bfa": {
      "model_module": "bqplot",
      "model_module_version": "^0.4.5",
      "model_name": "LinearScaleModel",
      "state": {
       "stabilized": false
      }
     },
     "6bc705a0a29b4bf3b44bc7e7e741fede": {
      "model_module": "bqplot",
      "model_module_version": "^0.4.5",
      "model_name": "LinearScaleModel",
      "state": {
       "stabilized": false
      }
     },
     "6bd5cf2e328c4e48bec043db152193f5": {
      "model_module": "@jupyter-widgets/base",
      "model_module_version": "1.1.0",
      "model_name": "LayoutModel",
      "state": {}
     },
     "6e0884f719024a919a9529aad7024b7e": {
      "model_module": "@jupyter-widgets/controls",
      "model_module_version": "1.4.0",
      "model_name": "VBoxModel",
      "state": {
       "children": [
        "IPY_MODEL_9bf2fec77acb4d3b95443e49211317c3",
        "IPY_MODEL_95fceb8424cb43d0b852148a1adfabcb"
       ],
       "layout": "IPY_MODEL_5dfe8a4c0a9e4df3845a180a69eccf2e"
      }
     },
     "6e6c565b3c46499aa0322f815c206c75": {
      "model_module": "@jupyter-widgets/output",
      "model_module_version": "1.0.0",
      "model_name": "OutputModel",
      "state": {
       "layout": "IPY_MODEL_e8d24c380cd04bad8b40d69a2873a8c5",
       "outputs": [
        {
         "data": {
          "image/png": "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\n",
          "text/plain": "<Figure size 432x288 with 1 Axes>"
         },
         "metadata": {
          "needs_background": "light"
         },
         "output_type": "display_data"
        }
       ]
      }
     },
     "713d0d3102ec4204a65ff8da8543808a": {
      "model_module": "@jupyter-widgets/base",
      "model_module_version": "1.1.0",
      "model_name": "LayoutModel",
      "state": {}
     },
     "714568bc82d741a399d9ff098ba81817": {
      "model_module": "@jupyter-widgets/output",
      "model_module_version": "1.0.0",
      "model_name": "OutputModel",
      "state": {
       "layout": "IPY_MODEL_17242d60dd5e4952b2aab2f19d1d5726",
       "outputs": [
        {
         "ename": "AttributeError",
         "evalue": "'KalmanFilter' object has no attribute 'correct'",
         "output_type": "error",
         "traceback": [
          "\u001b[1;31m---------------------------------------------------------------------------\u001b[0m",
          "\u001b[1;31mAttributeError\u001b[0m                            Traceback (most recent call last)",
          "\u001b[1;32m~\\Anaconda3\\lib\\site-packages\\ipywidgets\\widgets\\interaction.py\u001b[0m in \u001b[0;36mupdate\u001b[1;34m(self, *args)\u001b[0m\n\u001b[0;32m    249\u001b[0m                     \u001b[0mvalue\u001b[0m \u001b[1;33m=\u001b[0m \u001b[0mwidget\u001b[0m\u001b[1;33m.\u001b[0m\u001b[0mget_interact_value\u001b[0m\u001b[1;33m(\u001b[0m\u001b[1;33m)\u001b[0m\u001b[1;33m\u001b[0m\u001b[1;33m\u001b[0m\u001b[0m\n\u001b[0;32m    250\u001b[0m                     \u001b[0mself\u001b[0m\u001b[1;33m.\u001b[0m\u001b[0mkwargs\u001b[0m\u001b[1;33m[\u001b[0m\u001b[0mwidget\u001b[0m\u001b[1;33m.\u001b[0m\u001b[0m_kwarg\u001b[0m\u001b[1;33m]\u001b[0m \u001b[1;33m=\u001b[0m \u001b[0mvalue\u001b[0m\u001b[1;33m\u001b[0m\u001b[1;33m\u001b[0m\u001b[0m\n\u001b[1;32m--> 251\u001b[1;33m                 \u001b[0mself\u001b[0m\u001b[1;33m.\u001b[0m\u001b[0mresult\u001b[0m \u001b[1;33m=\u001b[0m \u001b[0mself\u001b[0m\u001b[1;33m.\u001b[0m\u001b[0mf\u001b[0m\u001b[1;33m(\u001b[0m\u001b[1;33m**\u001b[0m\u001b[0mself\u001b[0m\u001b[1;33m.\u001b[0m\u001b[0mkwargs\u001b[0m\u001b[1;33m)\u001b[0m\u001b[1;33m\u001b[0m\u001b[1;33m\u001b[0m\u001b[0m\n\u001b[0m\u001b[0;32m    252\u001b[0m                 \u001b[0mshow_inline_matplotlib_plots\u001b[0m\u001b[1;33m(\u001b[0m\u001b[1;33m)\u001b[0m\u001b[1;33m\u001b[0m\u001b[1;33m\u001b[0m\u001b[0m\n\u001b[0;32m    253\u001b[0m                 \u001b[1;32mif\u001b[0m \u001b[0mself\u001b[0m\u001b[1;33m.\u001b[0m\u001b[0mauto_display\u001b[0m \u001b[1;32mand\u001b[0m \u001b[0mself\u001b[0m\u001b[1;33m.\u001b[0m\u001b[0mresult\u001b[0m \u001b[1;32mis\u001b[0m \u001b[1;32mnot\u001b[0m \u001b[1;32mNone\u001b[0m\u001b[1;33m:\u001b[0m\u001b[1;33m\u001b[0m\u001b[1;33m\u001b[0m\u001b[0m\n",
          "\u001b[1;32m~\\Anaconda3\\lib\\site-packages\\nbinteract\\plotting.py\u001b[0m in \u001b[0;36mwrapped\u001b[1;34m(**interact_params)\u001b[0m\n\u001b[0;32m    223\u001b[0m \u001b[1;33m\u001b[0m\u001b[0m\n\u001b[0;32m    224\u001b[0m     \u001b[1;32mdef\u001b[0m \u001b[0mwrapped\u001b[0m\u001b[1;33m(\u001b[0m\u001b[1;33m**\u001b[0m\u001b[0minteract_params\u001b[0m\u001b[1;33m)\u001b[0m\u001b[1;33m:\u001b[0m\u001b[1;33m\u001b[0m\u001b[1;33m\u001b[0m\u001b[0m\n\u001b[1;32m--> 225\u001b[1;33m         \u001b[0mhist\u001b[0m\u001b[1;33m.\u001b[0m\u001b[0msample\u001b[0m \u001b[1;33m=\u001b[0m \u001b[0mutil\u001b[0m\u001b[1;33m.\u001b[0m\u001b[0mmaybe_call\u001b[0m\u001b[1;33m(\u001b[0m\u001b[0mhist_function\u001b[0m\u001b[1;33m,\u001b[0m \u001b[0minteract_params\u001b[0m\u001b[1;33m)\u001b[0m\u001b[1;33m\u001b[0m\u001b[1;33m\u001b[0m\u001b[0m\n\u001b[0m\u001b[0;32m    226\u001b[0m \u001b[1;33m\u001b[0m\u001b[0m\n\u001b[0;32m    227\u001b[0m     \u001b[0mcontrols\u001b[0m \u001b[1;33m=\u001b[0m \u001b[0mwidgets\u001b[0m\u001b[1;33m.\u001b[0m\u001b[0minteractive\u001b[0m\u001b[1;33m(\u001b[0m\u001b[0mwrapped\u001b[0m\u001b[1;33m,\u001b[0m \u001b[1;33m**\u001b[0m\u001b[0minteract_params\u001b[0m\u001b[1;33m)\u001b[0m\u001b[1;33m\u001b[0m\u001b[1;33m\u001b[0m\u001b[0m\n",
          "\u001b[1;32m~\\Anaconda3\\lib\\site-packages\\nbinteract\\util.py\u001b[0m in \u001b[0;36mmaybe_call\u001b[1;34m(maybe_fn, kwargs, prefix)\u001b[0m\n\u001b[0;32m     31\u001b[0m \u001b[1;33m\u001b[0m\u001b[0m\n\u001b[0;32m     32\u001b[0m     \u001b[0margs\u001b[0m \u001b[1;33m=\u001b[0m \u001b[0mget_fn_args\u001b[0m\u001b[1;33m(\u001b[0m\u001b[0mmaybe_fn\u001b[0m\u001b[1;33m,\u001b[0m \u001b[0mkwargs\u001b[0m\u001b[1;33m,\u001b[0m \u001b[0mprefix\u001b[0m\u001b[1;33m=\u001b[0m\u001b[0mprefix\u001b[0m\u001b[1;33m)\u001b[0m\u001b[1;33m\u001b[0m\u001b[1;33m\u001b[0m\u001b[0m\n\u001b[1;32m---> 33\u001b[1;33m     \u001b[1;32mreturn\u001b[0m \u001b[0mmaybe_fn\u001b[0m\u001b[1;33m(\u001b[0m\u001b[1;33m**\u001b[0m\u001b[0margs\u001b[0m\u001b[1;33m)\u001b[0m\u001b[1;33m\u001b[0m\u001b[1;33m\u001b[0m\u001b[0m\n\u001b[0m\u001b[0;32m     34\u001b[0m \u001b[1;33m\u001b[0m\u001b[0m\n\u001b[0;32m     35\u001b[0m \u001b[1;33m\u001b[0m\u001b[0m\n",
          "\u001b[1;32m<ipython-input-22-80af97d35328>\u001b[0m in \u001b[0;36mnorme\u001b[1;34m(t, flag)\u001b[0m\n\u001b[0;32m     56\u001b[0m \u001b[1;33m\u001b[0m\u001b[0m\n\u001b[0;32m     57\u001b[0m \u001b[1;33m\u001b[0m\u001b[0m\n\u001b[1;32m---> 58\u001b[1;33m     \u001b[0mpos\u001b[0m\u001b[1;33m,\u001b[0m\u001b[0mtraj\u001b[0m\u001b[1;33m=\u001b[0m\u001b[0mmain\u001b[0m\u001b[1;33m(\u001b[0m\u001b[1;33m)\u001b[0m\u001b[1;33m\u001b[0m\u001b[1;33m\u001b[0m\u001b[0m\n\u001b[0m\u001b[0;32m     59\u001b[0m \u001b[1;33m\u001b[0m\u001b[0m\n\u001b[0;32m     60\u001b[0m     \u001b[1;34m'''Returns 1000 points drawn at random fron N(mean, sd)'''\u001b[0m\u001b[1;33m\u001b[0m\u001b[1;33m\u001b[0m\u001b[0m\n",
          "\u001b[1;32m<ipython-input-22-80af97d35328>\u001b[0m in \u001b[0;36mmain\u001b[1;34m()\u001b[0m\n\u001b[0;32m     50\u001b[0m     \u001b[0msine\u001b[0m \u001b[1;33m=\u001b[0m \u001b[1;33m[\u001b[0m\u001b[1;33m[\u001b[0m\u001b[1;36m150\u001b[0m \u001b[1;33m+\u001b[0m \u001b[1;36m2\u001b[0m\u001b[1;33m*\u001b[0m\u001b[0mi\u001b[0m\u001b[1;33m,\u001b[0m \u001b[1;36m240\u001b[0m \u001b[1;33m+\u001b[0m \u001b[0mint\u001b[0m\u001b[1;33m(\u001b[0m\u001b[0mmath\u001b[0m\u001b[1;33m.\u001b[0m\u001b[0msin\u001b[0m\u001b[1;33m(\u001b[0m\u001b[0mi\u001b[0m\u001b[1;33m*\u001b[0m\u001b[1;33m(\u001b[0m\u001b[1;36m8\u001b[0m\u001b[1;33m*\u001b[0m\u001b[0mmath\u001b[0m\u001b[1;33m.\u001b[0m\u001b[0mpi\u001b[0m\u001b[1;33m)\u001b[0m\u001b[1;33m/\u001b[0m\u001b[1;36m80\u001b[0m\u001b[1;33m)\u001b[0m \u001b[1;33m*\u001b[0m \u001b[1;36m100\u001b[0m\u001b[1;33m)\u001b[0m \u001b[1;33m]\u001b[0m \u001b[1;32mfor\u001b[0m \u001b[0mi\u001b[0m \u001b[1;32min\u001b[0m \u001b[0mrange\u001b[0m\u001b[1;33m(\u001b[0m\u001b[1;36m80\u001b[0m\u001b[1;33m)\u001b[0m\u001b[1;33m]\u001b[0m\u001b[1;33m\u001b[0m\u001b[1;33m\u001b[0m\u001b[0m\n\u001b[0;32m     51\u001b[0m \u001b[1;33m\u001b[0m\u001b[0m\n\u001b[1;32m---> 52\u001b[1;33m     \u001b[0mpos\u001b[0m\u001b[1;33m=\u001b[0m\u001b[0mprocessImg\u001b[0m\u001b[1;33m.\u001b[0m\u001b[0mDetectObject\u001b[0m\u001b[1;33m(\u001b[0m\u001b[0msine\u001b[0m\u001b[1;33m,\u001b[0m \u001b[0msine_imgsize\u001b[0m\u001b[1;33m,\u001b[0m \u001b[1;32mFalse\u001b[0m\u001b[1;33m)\u001b[0m\u001b[1;33m\u001b[0m\u001b[1;33m\u001b[0m\u001b[0m\n\u001b[0m\u001b[0;32m     53\u001b[0m     \u001b[1;32mreturn\u001b[0m \u001b[0mpos\u001b[0m\u001b[1;33m,\u001b[0m\u001b[0msine\u001b[0m\u001b[1;33m\u001b[0m\u001b[1;33m\u001b[0m\u001b[0m\n\u001b[0;32m     54\u001b[0m \u001b[1;33m\u001b[0m\u001b[0m\n",
          "\u001b[1;32m<ipython-input-22-80af97d35328>\u001b[0m in \u001b[0;36mDetectObject\u001b[1;34m(self, traj, imgsize, plot)\u001b[0m\n\u001b[0;32m     36\u001b[0m             \u001b[1;33m[\u001b[0m\u001b[0mballX\u001b[0m\u001b[1;33m,\u001b[0m \u001b[0mballY\u001b[0m\u001b[1;33m]\u001b[0m \u001b[1;33m=\u001b[0m \u001b[0mtraj\u001b[0m\u001b[1;33m[\u001b[0m\u001b[0mi\u001b[0m\u001b[1;33m]\u001b[0m\u001b[1;33m\u001b[0m\u001b[1;33m\u001b[0m\u001b[0m\n\u001b[0;32m     37\u001b[0m \u001b[1;33m\u001b[0m\u001b[0m\n\u001b[1;32m---> 38\u001b[1;33m             \u001b[0mpredictedCoords\u001b[0m \u001b[1;33m=\u001b[0m \u001b[0mkfObj\u001b[0m\u001b[1;33m.\u001b[0m\u001b[0mEstimate\u001b[0m\u001b[1;33m(\u001b[0m\u001b[0mballX\u001b[0m\u001b[1;33m,\u001b[0m \u001b[0mballY\u001b[0m\u001b[1;33m)\u001b[0m\u001b[1;33m\u001b[0m\u001b[1;33m\u001b[0m\u001b[0m\n\u001b[0m\u001b[0;32m     39\u001b[0m             \u001b[0mpos\u001b[0m\u001b[1;33m.\u001b[0m\u001b[0mappend\u001b[0m\u001b[1;33m(\u001b[0m\u001b[1;33m[\u001b[0m\u001b[0mpredictedCoords\u001b[0m\u001b[1;33m[\u001b[0m\u001b[1;36m0\u001b[0m\u001b[1;33m]\u001b[0m\u001b[1;33m,\u001b[0m \u001b[0mpredictedCoords\u001b[0m\u001b[1;33m[\u001b[0m\u001b[1;36m1\u001b[0m\u001b[1;33m]\u001b[0m\u001b[1;33m]\u001b[0m\u001b[1;33m)\u001b[0m\u001b[1;33m\u001b[0m\u001b[1;33m\u001b[0m\u001b[0m\n\u001b[0;32m     40\u001b[0m \u001b[1;33m\u001b[0m\u001b[0m\n",
          "\u001b[1;32m<ipython-input-22-80af97d35328>\u001b[0m in \u001b[0;36mEstimate\u001b[1;34m(self, coordX, coordY)\u001b[0m\n\u001b[0;32m     10\u001b[0m         \u001b[1;34m''' This function estimates the position of the object'''\u001b[0m\u001b[1;33m\u001b[0m\u001b[1;33m\u001b[0m\u001b[0m\n\u001b[0;32m     11\u001b[0m         \u001b[0mmeasured\u001b[0m \u001b[1;33m=\u001b[0m \u001b[0mnp\u001b[0m\u001b[1;33m.\u001b[0m\u001b[0marray\u001b[0m\u001b[1;33m(\u001b[0m\u001b[1;33m[\u001b[0m\u001b[1;33m[\u001b[0m\u001b[0mnp\u001b[0m\u001b[1;33m.\u001b[0m\u001b[0mfloat32\u001b[0m\u001b[1;33m(\u001b[0m\u001b[0mcoordX\u001b[0m\u001b[1;33m)\u001b[0m\u001b[1;33m]\u001b[0m\u001b[1;33m,\u001b[0m \u001b[1;33m[\u001b[0m\u001b[0mnp\u001b[0m\u001b[1;33m.\u001b[0m\u001b[0mfloat32\u001b[0m\u001b[1;33m(\u001b[0m\u001b[0mcoordY\u001b[0m\u001b[1;33m)\u001b[0m\u001b[1;33m]\u001b[0m\u001b[1;33m]\u001b[0m\u001b[1;33m)\u001b[0m\u001b[1;33m\u001b[0m\u001b[1;33m\u001b[0m\u001b[0m\n\u001b[1;32m---> 12\u001b[1;33m         \u001b[0mself\u001b[0m\u001b[1;33m.\u001b[0m\u001b[0mkf\u001b[0m\u001b[1;33m.\u001b[0m\u001b[0mcorrect\u001b[0m\u001b[1;33m(\u001b[0m\u001b[0mmeasured\u001b[0m\u001b[1;33m)\u001b[0m\u001b[1;33m\u001b[0m\u001b[1;33m\u001b[0m\u001b[0m\n\u001b[0m\u001b[0;32m     13\u001b[0m         \u001b[0mpredicted\u001b[0m \u001b[1;33m=\u001b[0m \u001b[0mself\u001b[0m\u001b[1;33m.\u001b[0m\u001b[0mkf\u001b[0m\u001b[1;33m.\u001b[0m\u001b[0mpredict\u001b[0m\u001b[1;33m(\u001b[0m\u001b[1;33m)\u001b[0m\u001b[1;33m\u001b[0m\u001b[1;33m\u001b[0m\u001b[0m\n\u001b[0;32m     14\u001b[0m         \u001b[1;32mreturn\u001b[0m \u001b[0mpredicted\u001b[0m\u001b[1;33m\u001b[0m\u001b[1;33m\u001b[0m\u001b[0m\n",
          "\u001b[1;31mAttributeError\u001b[0m: 'KalmanFilter' object has no attribute 'correct'"
         ]
        }
       ]
      }
     },
     "718da33ad8544c47a65109596d54c939": {
      "model_module": "@jupyter-widgets/controls",
      "model_module_version": "1.4.0",
      "model_name": "IntSliderModel",
      "state": {
       "description": "t",
       "layout": "IPY_MODEL_2d206c09b7b5405abdd35ce2401c4bac",
       "max": 80,
       "min": 2,
       "style": "IPY_MODEL_9912580b79cb4507a9fd03ba5f2ea405",
       "value": 41
      }
     },
     "719cb3d131fe4c5e926c2ae09086de10": {
      "model_module": "@jupyter-widgets/controls",
      "model_module_version": "1.4.0",
      "model_name": "VBoxModel",
      "state": {
       "children": [
        "IPY_MODEL_06abfcdc1b204fc98c45904ed0cf0a34",
        "IPY_MODEL_65cf0e6ead384255a83859ebf142b313"
       ],
       "layout": "IPY_MODEL_ac789f807d004941b8754dc97ba50c5f"
      }
     },
     "724813934e09460b94b891389257017d": {
      "model_module": "@jupyter-widgets/controls",
      "model_module_version": "1.4.0",
      "model_name": "IntSliderModel",
      "state": {
       "description": "t",
       "layout": "IPY_MODEL_79614b979d8046c4a019dca35c37ae0d",
       "max": 80,
       "min": 1,
       "style": "IPY_MODEL_3b35611dded54ef8a94adb18b751f601",
       "value": 54
      }
     },
     "72857721710546c8b7755a8313e59bfc": {
      "model_module": "bqplot",
      "model_module_version": "^0.4.5",
      "model_name": "LinearScaleModel",
      "state": {
       "stabilized": false
      }
     },
     "72b88c78d4c447d88eadbd97623d634f": {
      "model_module": "bqplot",
      "model_module_version": "^0.4.5",
      "model_name": "LinearScaleModel",
      "state": {
       "stabilized": false
      }
     },
     "747b7ecbaafa41e6ad447c7d3fab3117": {
      "model_module": "bqplot",
      "model_module_version": "^0.4.5",
      "model_name": "AxisModel",
      "state": {
       "orientation": "vertical",
       "scale": "IPY_MODEL_6bba28f3f90148ef8d7d142228b35bfa",
       "side": "left",
       "tick_values": {
        "type": null,
        "values": null
       }
      }
     },
     "759cfad12aee43b88c61ffbb1da2e279": {
      "model_module": "bqplot",
      "model_module_version": "^0.4.5",
      "model_name": "FigureModel",
      "state": {
       "_dom_classes": [],
       "axes": [
        "IPY_MODEL_5bebdb8227ff474db9e81bc42b8fd26a",
        "IPY_MODEL_fa9e555cd36940479d735cd29e6e5521"
       ],
       "layout": "IPY_MODEL_791d7266d1044ad29c1b3bd173a2e76b",
       "marks": [
        "IPY_MODEL_dc3df2380eaa4e8bb4ae59eef3b9d805"
       ],
       "max_aspect_ratio": 6,
       "scale_x": "IPY_MODEL_958224fbe56d4b22af8b32977f1dc0bd",
       "scale_y": "IPY_MODEL_8ffdce78766c4725abd1c337772c7707"
      }
     },
     "76080cb36bf342f4b16b69d68c3c02bf": {
      "model_module": "bqplot",
      "model_module_version": "^0.4.5",
      "model_name": "AxisModel",
      "state": {
       "orientation": "vertical",
       "scale": "IPY_MODEL_e72df24df0df43e3bdbe81576e237fe3",
       "side": "left",
       "tick_values": {
        "type": null,
        "values": null
       }
      }
     },
     "763d29bede674f0393e0bc913a881bba": {
      "model_module": "@jupyter-widgets/base",
      "model_module_version": "1.1.0",
      "model_name": "LayoutModel",
      "state": {}
     },
     "763f0f0cd438442a839796f427e0f9a7": {
      "model_module": "bqplot",
      "model_module_version": "^0.4.5",
      "model_name": "FigureModel",
      "state": {
       "_dom_classes": [],
       "axes": [
        "IPY_MODEL_78fc78cf8ea445ce9cd4bd24e86943bc",
        "IPY_MODEL_a24ce65fd3994fc5a7238ec8dad5d56f"
       ],
       "layout": "IPY_MODEL_f3dbb65c19e94c67ae25e580eb883347",
       "marks": [
        "IPY_MODEL_62a06f2757324def9313344f8c469e85"
       ],
       "max_aspect_ratio": 6,
       "scale_x": "IPY_MODEL_afa1b23a6a354a51b8e13e206a41084a",
       "scale_y": "IPY_MODEL_147efb22b7c34f50b7200eb800c70758"
      }
     },
     "7744b4fe21a640abb397eaa81a972037": {
      "model_module": "bqplot",
      "model_module_version": "^0.4.5",
      "model_name": "LinearScaleModel",
      "state": {
       "allow_padding": false,
       "max": 1,
       "min": 0,
       "stabilized": false
      }
     },
     "780ab687ccad4ed2aef8b619a46e0ae1": {
      "model_module": "@jupyter-widgets/base",
      "model_module_version": "1.1.0",
      "model_name": "LayoutModel",
      "state": {}
     },
     "786a1919952740cf9908863b9ea30616": {
      "model_module": "bqplot",
      "model_module_version": "^0.4.5",
      "model_name": "LinearScaleModel",
      "state": {
       "stabilized": false
      }
     },
     "789fbaa8aef44127965f8c04fbcd1986": {
      "model_module": "bqplot",
      "model_module_version": "^0.4.5",
      "model_name": "LinearScaleModel",
      "state": {
       "allow_padding": false,
       "max": 1,
       "min": 0,
       "stabilized": false
      }
     },
     "78fc78cf8ea445ce9cd4bd24e86943bc": {
      "model_module": "bqplot",
      "model_module_version": "^0.4.5",
      "model_name": "AxisModel",
      "state": {
       "scale": "IPY_MODEL_ce55fdb7e72e4bd8a56e69b1c320e4da",
       "side": "bottom",
       "tick_values": {
        "type": null,
        "values": null
       }
      }
     },
     "7907e17c7326467eb4964a60dc08ba87": {
      "model_module": "bqplot",
      "model_module_version": "^0.4.5",
      "model_name": "LinearScaleModel",
      "state": {
       "stabilized": false
      }
     },
     "791d7266d1044ad29c1b3bd173a2e76b": {
      "model_module": "@jupyter-widgets/base",
      "model_module_version": "1.1.0",
      "model_name": "LayoutModel",
      "state": {
       "min_width": "125px"
      }
     },
     "7942622847b04e999ae5f98942f2a4c4": {
      "model_module": "@jupyter-widgets/output",
      "model_module_version": "1.0.0",
      "model_name": "OutputModel",
      "state": {
       "layout": "IPY_MODEL_de02116c3e464cbf99e8a331d4aa945d",
       "outputs": [
        {
         "data": {
          "image/png": "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\n",
          "text/plain": "<Figure size 432x288 with 1 Axes>"
         },
         "metadata": {
          "needs_background": "light"
         },
         "output_type": "display_data"
        }
       ]
      }
     },
     "79614b979d8046c4a019dca35c37ae0d": {
      "model_module": "@jupyter-widgets/base",
      "model_module_version": "1.1.0",
      "model_name": "LayoutModel",
      "state": {}
     },
     "7a4aafd3a0e343c5a49be58bbbcfe1e7": {
      "model_module": "bqplot",
      "model_module_version": "^0.4.5",
      "model_name": "AxisModel",
      "state": {
       "orientation": "vertical",
       "scale": "IPY_MODEL_55b5c353329a4e39b7c2158448c45801",
       "side": "left",
       "tick_values": {
        "type": null,
        "values": null
       }
      }
     },
     "7aee06c0bee14d919a2bb58157bf2697": {
      "model_module": "@jupyter-widgets/controls",
      "model_module_version": "1.4.0",
      "model_name": "VBoxModel",
      "state": {
       "children": [
        "IPY_MODEL_867db05f7feb464493796185a80f8ad0",
        "IPY_MODEL_fe432071323d495595b5291b333bc1ec"
       ],
       "layout": "IPY_MODEL_caffb5537c6a41db8774356348f876a5"
      }
     },
     "7ce6f257e1c94efd876b383f515216c9": {
      "model_module": "bqplot",
      "model_module_version": "^0.4.5",
      "model_name": "AxisModel",
      "state": {
       "scale": "IPY_MODEL_cca9ebac531d46b680fec317b4f7ff4a",
       "side": "bottom",
       "tick_values": {
        "type": null,
        "values": null
       }
      }
     },
     "7d6b7fc51a4140a08238b96f2caf2e5f": {
      "model_module": "bqplot",
      "model_module_version": "^0.4.5",
      "model_name": "AxisModel",
      "state": {
       "scale": "IPY_MODEL_72857721710546c8b7755a8313e59bfc",
       "side": "bottom",
       "tick_values": {
        "type": null,
        "values": null
       }
      }
     },
     "7da91498dd574acda77699a758e5d5be": {
      "model_module": "@jupyter-widgets/controls",
      "model_module_version": "1.4.0",
      "model_name": "VBoxModel",
      "state": {
       "children": [
        "IPY_MODEL_2a1b8de31c8448ccbdb00769c5508f0d",
        "IPY_MODEL_96ea125d986a440da88a92b09f70c75b"
       ],
       "layout": "IPY_MODEL_a7cd152935a54aa3aec2f5916ca5ad8f"
      }
     },
     "7fd88885c9a34812acad63dd9b007daa": {
      "model_module": "@jupyter-widgets/controls",
      "model_module_version": "1.4.0",
      "model_name": "IntSliderModel",
      "state": {
       "description": "t",
       "layout": "IPY_MODEL_bed2972362d44ff981df22b4c4000110",
       "max": 80,
       "min": 1,
       "style": "IPY_MODEL_d5e82f771a48401fbfa645a5c3878e30",
       "value": 80
      }
     },
     "8010a3d7ceeb42938648e377fe588788": {
      "model_module": "@jupyter-widgets/base",
      "model_module_version": "1.1.0",
      "model_name": "LayoutModel",
      "state": {
       "min_width": "125px"
      }
     },
     "8036eca409bb4d6c94f1f301dfa1b1d2": {
      "model_module": "bqplot",
      "model_module_version": "^0.4.5",
      "model_name": "AxisModel",
      "state": {
       "orientation": "vertical",
       "scale": "IPY_MODEL_456875b7f6dc4817868f57125632aa8b",
       "side": "left",
       "tick_values": {
        "type": null,
        "values": null
       }
      }
     },
     "80e466b111f8482db794fcf66af9c792": {
      "model_module": "@jupyter-widgets/base",
      "model_module_version": "1.1.0",
      "model_name": "LayoutModel",
      "state": {
       "min_width": "125px"
      }
     },
     "8220e64620994d35b76d8c1495af8113": {
      "model_module": "@jupyter-widgets/controls",
      "model_module_version": "1.4.0",
      "model_name": "IntSliderModel",
      "state": {
       "description": "flag",
       "layout": "IPY_MODEL_2507be3ebd7a44e48e44b3a95d37f4f2",
       "max": 1,
       "style": "IPY_MODEL_a2e769392d3249f08856d7e2bf54be9b"
      }
     },
     "82ae16de82f6479f8f236b82beeb643b": {
      "model_module": "@jupyter-widgets/base",
      "model_module_version": "1.1.0",
      "model_name": "LayoutModel",
      "state": {}
     },
     "834771404a06484385add87b5220a299": {
      "model_module": "@jupyter-widgets/controls",
      "model_module_version": "1.4.0",
      "model_name": "IntSliderModel",
      "state": {
       "description": "t",
       "layout": "IPY_MODEL_2d3cdc75381844f2a80e268128ec9fcc",
       "max": 80,
       "min": 2,
       "style": "IPY_MODEL_33e1f96d29b74ab293e5e8ff28b8db4d",
       "value": 41
      }
     },
     "8362c34cf2504d939be7be93bd8ac0d8": {
      "model_module": "bqplot",
      "model_module_version": "^0.4.5",
      "model_name": "LinearScaleModel",
      "state": {
       "allow_padding": false,
       "max": 1,
       "min": 0,
       "stabilized": false
      }
     },
     "838140e4864347279141eb0c4920b82a": {
      "model_module": "@jupyter-widgets/base",
      "model_module_version": "1.1.0",
      "model_name": "LayoutModel",
      "state": {
       "min_width": "125px"
      }
     },
     "8413479d840647828e06122763777bab": {
      "model_module": "@jupyter-widgets/base",
      "model_module_version": "1.1.0",
      "model_name": "LayoutModel",
      "state": {}
     },
     "8458f50db1fe4291b9f8102b5af96672": {
      "model_module": "@jupyter-widgets/controls",
      "model_module_version": "1.4.0",
      "model_name": "VBoxModel",
      "state": {
       "_dom_classes": [
        "widget-interact"
       ],
       "children": [
        "IPY_MODEL_7fd88885c9a34812acad63dd9b007daa",
        "IPY_MODEL_615778217a634c67bcfdfa0510996941"
       ],
       "layout": "IPY_MODEL_9ad41b2be1aa4e4b89f09f4070e476cb"
      }
     },
     "8461cfaa40894eb08c86324c3f5ce00e": {
      "model_module": "@jupyter-widgets/controls",
      "model_module_version": "1.4.0",
      "model_name": "IntSliderModel",
      "state": {
       "description": "t",
       "layout": "IPY_MODEL_bf0f6b7cc48347f69a846b94c6baf4dd",
       "max": 80,
       "min": 2,
       "style": "IPY_MODEL_44fe09d1dd06466796658297ce2f709e",
       "value": 41
      }
     },
     "8478d7634bc248f497014562773c81a8": {
      "model_module": "@jupyter-widgets/controls",
      "model_module_version": "1.4.0",
      "model_name": "SliderStyleModel",
      "state": {
       "description_width": ""
      }
     },
     "867db05f7feb464493796185a80f8ad0": {
      "model_module": "@jupyter-widgets/controls",
      "model_module_version": "1.4.0",
      "model_name": "VBoxModel",
      "state": {
       "_dom_classes": [
        "widget-interact"
       ],
       "children": [
        "IPY_MODEL_2b0ba286373e465599d8aa3e0233dfb6",
        "IPY_MODEL_5689052229934135a07a615821e99191"
       ],
       "layout": "IPY_MODEL_82ae16de82f6479f8f236b82beeb643b"
      }
     },
     "86e7cd6bdfa34ecbb55addd700fa2ee4": {
      "model_module": "@jupyter-widgets/controls",
      "model_module_version": "1.4.0",
      "model_name": "SliderStyleModel",
      "state": {
       "description_width": ""
      }
     },
     "86f04486638549eb9866fa7e882cbfe6": {
      "model_module": "@jupyter-widgets/base",
      "model_module_version": "1.1.0",
      "model_name": "LayoutModel",
      "state": {}
     },
     "87f14bf0696b46afbc70b7ae71e0065d": {
      "model_module": "bqplot",
      "model_module_version": "^0.4.5",
      "model_name": "LinearScaleModel",
      "state": {
       "allow_padding": false,
       "max": 1,
       "min": 0,
       "stabilized": false
      }
     },
     "88566ecd4a434887b298243f8ad73da2": {
      "model_module": "bqplot",
      "model_module_version": "^0.4.5",
      "model_name": "FigureModel",
      "state": {
       "_dom_classes": [],
       "axes": [
        "IPY_MODEL_3c14f351955e4bd1b28ccce1440e26ea",
        "IPY_MODEL_7a4aafd3a0e343c5a49be58bbbcfe1e7"
       ],
       "layout": "IPY_MODEL_53f73da14dbd483f9f85ae696af51b79",
       "marks": [
        "IPY_MODEL_9a40b381d7fc4f8d8e381d3870763054"
       ],
       "max_aspect_ratio": 6,
       "scale_x": "IPY_MODEL_21cd5613fdce43d08119eb6bab1d9bcd",
       "scale_y": "IPY_MODEL_5e15907528c14ca0bc87ca3e7b2d37fc"
      }
     },
     "88822f90f69c4b86b83afca29f15f146": {
      "model_module": "bqplot",
      "model_module_version": "^0.4.5",
      "model_name": "AxisModel",
      "state": {
       "scale": "IPY_MODEL_b19b95cb3daf4cd79da2792066349764",
       "side": "bottom",
       "tick_values": {
        "type": null,
        "values": null
       }
      }
     },
     "899ea0fdc5f1489ca22b2a493dd97294": {
      "model_module": "bqplot",
      "model_module_version": "^0.4.5",
      "model_name": "HistModel",
      "state": {
       "colors": [
        "#475A77"
       ],
       "count": {
        "type": "float",
        "values": [
         0.00011875399652872969,
         0,
         3.044974269967428e-06,
         0,
         0,
         0,
         0,
         0,
         0,
         3.044974269967428e-06
        ]
       },
       "display_legend": false,
       "midpoints": [
        4005.000000000221,
        12015.000000000196,
        20025.000000000175,
        28035.00000000015,
        36045.00000000013,
        44055.0000000001,
        52065.00000000007,
        60075.00000000006,
        68085.00000000003,
        76095
       ],
       "normalized": true,
       "sample": {
        "type": "float",
        "values": [
         80100,
         24001,
         2.3283064365386963e-10,
         3112.728759765625,
         2519.664794921875,
         1016.0343627929688,
         228.85360717773438,
         10.485886573791504,
         104.89647674560547,
         343.7881774902344,
         602.279052734375,
         780.8530883789062,
         838.6475219726562,
         745.5971069335938,
         533.9628295898438,
         274.46649169921875,
         68.06605529785156,
         6.039619445800781,
         115.18292999267578,
         345.0396728515625,
         598.8818969726562,
         777.572509765625,
         836.7930908203125,
         744.8504028320312,
         533.7498779296875,
         274.4312438964844,
         68.06642150878906,
         6.038338661193848,
         115.17864227294922,
         345.0361022949219,
         598.8817749023438,
         777.57421875,
         836.7939453125,
         744.8486938476562,
         533.7492065429688,
         274.4320068359375,
         68.06617736816406,
         6.038338661193848,
         115.17929077148438,
         345.0361022949219,
         598.8817749023438
        ]
       },
       "scales": {
        "count": "IPY_MODEL_72b88c78d4c447d88eadbd97623d634f",
        "sample": "IPY_MODEL_d94eaf720d524fd9b98420af9e438441"
       },
       "selected": [],
       "stroke": "#475A77"
      }
     },
     "8a3c4c447f0846fbacddacd512010045": {
      "model_module": "bqplot",
      "model_module_version": "^0.4.5",
      "model_name": "LinearScaleModel",
      "state": {
       "allow_padding": false,
       "max": 1,
       "min": 0,
       "stabilized": false
      }
     },
     "8af596c007cd44c0ab605abff643dbfb": {
      "model_module": "@jupyter-widgets/controls",
      "model_module_version": "1.4.0",
      "model_name": "IntSliderModel",
      "state": {
       "description": "t",
       "layout": "IPY_MODEL_b2358b926f8b4e4baab2b7d86f64c1fb",
       "max": 80,
       "min": 2,
       "style": "IPY_MODEL_344d8a37753b45c69f29e18f21c8561f",
       "value": 41
      }
     },
     "8c60e9333a2d451f9722ef7e154b9677": {
      "model_module": "@jupyter-widgets/base",
      "model_module_version": "1.1.0",
      "model_name": "LayoutModel",
      "state": {}
     },
     "8d4eb417c0664a2ab632bb1b2551272f": {
      "model_module": "@jupyter-widgets/base",
      "model_module_version": "1.1.0",
      "model_name": "LayoutModel",
      "state": {}
     },
     "8e42147d8dc942e1a7335f6a8f5abbf4": {
      "model_module": "@jupyter-widgets/base",
      "model_module_version": "1.1.0",
      "model_name": "LayoutModel",
      "state": {}
     },
     "8f4202c898e54ebba628626c97a1502d": {
      "model_module": "@jupyter-widgets/base",
      "model_module_version": "1.1.0",
      "model_name": "LayoutModel",
      "state": {
       "min_width": "125px"
      }
     },
     "8feec8437ade46f4b7dd6830ef8a76da": {
      "model_module": "@jupyter-widgets/base",
      "model_module_version": "1.1.0",
      "model_name": "LayoutModel",
      "state": {}
     },
     "8ffdce78766c4725abd1c337772c7707": {
      "model_module": "bqplot",
      "model_module_version": "^0.4.5",
      "model_name": "LinearScaleModel",
      "state": {
       "allow_padding": false,
       "max": 1,
       "min": 0,
       "stabilized": false
      }
     },
     "914337c3aba5400cb417495d6ea39e96": {
      "model_module": "@jupyter-widgets/controls",
      "model_module_version": "1.4.0",
      "model_name": "IntSliderModel",
      "state": {
       "description": "flag",
       "layout": "IPY_MODEL_db8533c6b01a4b6a8f5d7118b9e22ad8",
       "max": 1,
       "style": "IPY_MODEL_24071dc573af4574a0e258a077ae9ca4"
      }
     },
     "916d406fb77345898bba63e942b609cd": {
      "model_module": "@jupyter-widgets/base",
      "model_module_version": "1.1.0",
      "model_name": "LayoutModel",
      "state": {}
     },
     "91fdf27856414c88bf383c7c0db23731": {
      "model_module": "@jupyter-widgets/base",
      "model_module_version": "1.1.0",
      "model_name": "LayoutModel",
      "state": {}
     },
     "958224fbe56d4b22af8b32977f1dc0bd": {
      "model_module": "bqplot",
      "model_module_version": "^0.4.5",
      "model_name": "LinearScaleModel",
      "state": {
       "allow_padding": false,
       "max": 1,
       "min": 0,
       "stabilized": false
      }
     },
     "95fceb8424cb43d0b852148a1adfabcb": {
      "model_module": "bqplot",
      "model_module_version": "^0.4.5",
      "model_name": "FigureModel",
      "state": {
       "_dom_classes": [],
       "axes": [
        "IPY_MODEL_88822f90f69c4b86b83afca29f15f146",
        "IPY_MODEL_76080cb36bf342f4b16b69d68c3c02bf"
       ],
       "layout": "IPY_MODEL_ccdefe26706b43538cc1abd983d6ea86",
       "marks": [
        "IPY_MODEL_3198bd39dfd14b29b7c1a3eb2f6c911b"
       ],
       "max_aspect_ratio": 6,
       "scale_x": "IPY_MODEL_8362c34cf2504d939be7be93bd8ac0d8",
       "scale_y": "IPY_MODEL_f12849de3ef04bc09246addc5ad9153c"
      }
     },
     "96ea125d986a440da88a92b09f70c75b": {
      "model_module": "bqplot",
      "model_module_version": "^0.4.5",
      "model_name": "FigureModel",
      "state": {
       "_dom_classes": [],
       "axes": [
        "IPY_MODEL_18338bc430e74687abd40fbad06fecd0",
        "IPY_MODEL_c49803d1082a45e29145e78cb37d6078"
       ],
       "layout": "IPY_MODEL_0bc2b6109f7a4266ab342f015791d889",
       "marks": [
        "IPY_MODEL_bf025a632271449eb6689db2e8963569"
       ],
       "max_aspect_ratio": 6,
       "scale_x": "IPY_MODEL_efb963de00f4404c8e473c67893ae9a9",
       "scale_y": "IPY_MODEL_1d1e2bf784cc468a8943a0da9c2ca02b"
      }
     },
     "9776d44e11874896ba390634a366173c": {
      "model_module": "@jupyter-widgets/base",
      "model_module_version": "1.1.0",
      "model_name": "LayoutModel",
      "state": {}
     },
     "97c12cc1477f4fddbd6937d575ac800e": {
      "model_module": "@jupyter-widgets/output",
      "model_module_version": "1.0.0",
      "model_name": "OutputModel",
      "state": {
       "layout": "IPY_MODEL_6793682a2ddc4d05a8628fdce1452d96",
       "outputs": [
        {
         "data": {
          "image/png": "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\n",
          "text/plain": "<Figure size 432x288 with 1 Axes>"
         },
         "metadata": {
          "needs_background": "light"
         },
         "output_type": "display_data"
        }
       ]
      }
     },
     "98e9ea73f2fe4586a30fc939c47d570d": {
      "model_module": "@jupyter-widgets/output",
      "model_module_version": "1.0.0",
      "model_name": "OutputModel",
      "state": {
       "layout": "IPY_MODEL_2f58722c702c4b71b565d370fdc46c83",
       "outputs": [
        {
         "data": {
          "image/png": "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\n",
          "text/plain": "<Figure size 432x288 with 1 Axes>"
         },
         "metadata": {
          "needs_background": "light"
         },
         "output_type": "display_data"
        }
       ]
      }
     },
     "9912580b79cb4507a9fd03ba5f2ea405": {
      "model_module": "@jupyter-widgets/controls",
      "model_module_version": "1.4.0",
      "model_name": "SliderStyleModel",
      "state": {
       "description_width": ""
      }
     },
     "9a40b381d7fc4f8d8e381d3870763054": {
      "model_module": "bqplot",
      "model_module_version": "^0.4.5",
      "model_name": "HistModel",
      "state": {
       "colors": [
        "#475A77"
       ],
       "count": {
        "type": "float",
        "values": [
         0.001280413036049802,
         0.0009282994511361065,
         0.0002560826072099604,
         0,
         0,
         6.40206518024901e-05,
         0,
         0,
         0,
         3.201032590124505e-05
        ]
       },
       "display_legend": false,
       "midpoints": [
        201.2874074459076,
        591.7863995075227,
        982.2853915691377,
        1372.7843836307527,
        1763.2833756923676,
        2153.7823677539827,
        2544.281359815598,
        2934.7803518772125,
        3325.279343938828,
        3715.7783360004423
       ],
       "normalized": true,
       "sample": {
        "type": "float",
        "values": [
         1966.000244140625,
         3911.02783203125,
         2051.4208984375,
         983.2890625,
         551.925537109375,
         270.4345703125,
         67.04801940917969,
         6.615388870239258,
         115.81878662109375,
         345.41119384765625,
         599.0509643554688,
         777.6357421875,
         836.8104248046875,
         744.8502197265625,
         533.7470703125,
         274.430419921875,
         68.06526184082031,
         6.037911415100098,
         115.17916870117188,
         345.0361022949219,
         598.8817749023438,
         777.572509765625,
         836.7930908203125,
         744.8486938476562,
         533.7498779296875,
         274.4312438964844,
         68.06642150878906,
         6.038338661193848,
         115.17864227294922,
         345.0361022949219,
         598.8817749023438,
         777.57421875,
         836.7939453125,
         744.8486938476562,
         533.7488403320312,
         274.4320068359375,
         68.06617736816406,
         6.038338661193848,
         115.17929077148438,
         345.0361022949219,
         598.8817749023438,
         777.572509765625,
         836.7930908203125,
         744.8486938476562,
         533.7498779296875,
         274.4312438964844,
         68.06642150878906,
         6.038338661193848,
         115.17864227294922,
         345.0361022949219,
         598.8817749023438,
         777.57421875,
         836.7939453125,
         744.8486938476562,
         533.7488403320312,
         274.4320068359375,
         68.06617736816406,
         6.038338661193848,
         115.17929077148438,
         345.0361022949219,
         598.8817749023438,
         777.572509765625,
         836.7930908203125,
         744.8486938476562,
         533.7498779296875,
         274.4312438964844,
         68.06642150878906,
         6.038338661193848,
         115.17864227294922,
         345.0361022949219,
         598.8817749023438,
         777.57421875,
         836.7939453125,
         744.8486938476562,
         533.7488403320312,
         274.4320068359375,
         68.06617736816406,
         6.038338661193848,
         115.17929077148438,
         345.0361022949219
        ]
       },
       "scales": {
        "count": "IPY_MODEL_55b5c353329a4e39b7c2158448c45801",
        "sample": "IPY_MODEL_a3c14f3491074632a772786705fae36e"
       },
       "selected": [],
       "stroke": "#475A77"
      }
     },
     "9ad41b2be1aa4e4b89f09f4070e476cb": {
      "model_module": "@jupyter-widgets/base",
      "model_module_version": "1.1.0",
      "model_name": "LayoutModel",
      "state": {}
     },
     "9b0bb2d5182744cba6c3a7c12ea07902": {
      "model_module": "@jupyter-widgets/controls",
      "model_module_version": "1.4.0",
      "model_name": "VBoxModel",
      "state": {
       "children": [
        "IPY_MODEL_067ad148d97e4475bc61dfc78c6db8e8",
        "IPY_MODEL_763f0f0cd438442a839796f427e0f9a7"
       ],
       "layout": "IPY_MODEL_6ac31a0e6328465b842efa6b544129bc"
      }
     },
     "9b30a680aace4134a0cffe634a19da32": {
      "model_module": "@jupyter-widgets/base",
      "model_module_version": "1.1.0",
      "model_name": "LayoutModel",
      "state": {}
     },
     "9b4bf6c5bb954fcba0050a4822acd2ce": {
      "model_module": "bqplot",
      "model_module_version": "^0.4.5",
      "model_name": "HistModel",
      "state": {
       "colors": [
        "#475A77"
       ],
       "count": {
        "type": "float",
        "values": [
         0.001185567625972039,
         0.0009484541007776311,
         0.0002845362302332893,
         0,
         0,
         9.48454100777631e-05,
         0,
         0,
         0,
         4.742270503888155e-05
        ]
       },
       "display_legend": false,
       "midpoints": [
        201.2874074459076,
        591.7863995075227,
        982.2853915691377,
        1372.7843836307527,
        1763.2833756923676,
        2153.7823677539827,
        2544.281359815598,
        2934.7803518772125,
        3325.279343938828,
        3715.7783360004423
       ],
       "normalized": true,
       "sample": {
        "type": "float",
        "values": [
         1966.000244140625,
         3911.02783203125,
         2051.4208984375,
         983.2890625,
         551.925537109375,
         270.4345703125,
         67.04801940917969,
         6.615388870239258,
         115.81878662109375,
         345.41119384765625,
         599.0509643554688,
         777.6357421875,
         836.8104248046875,
         744.8502197265625,
         533.7470703125,
         274.430419921875,
         68.06526184082031,
         6.037911415100098,
         115.17916870117188,
         345.0361022949219,
         598.8817749023438,
         777.572509765625,
         836.7930908203125,
         744.8486938476562,
         533.7498779296875,
         274.4312438964844,
         68.06642150878906,
         6.038338661193848,
         115.17864227294922,
         345.0361022949219,
         598.8817749023438,
         777.57421875,
         836.7939453125,
         744.8486938476562,
         533.7488403320312,
         274.4320068359375,
         68.06617736816406,
         6.038338661193848,
         115.17929077148438,
         345.0361022949219,
         598.8817749023438,
         777.572509765625,
         836.7930908203125,
         744.8486938476562,
         533.7498779296875,
         274.4312438964844,
         68.06642150878906,
         6.038338661193848,
         115.17864227294922,
         345.0361022949219,
         598.8817749023438,
         777.57421875,
         836.7939453125,
         744.8486938476562
        ]
       },
       "scales": {
        "count": "IPY_MODEL_456875b7f6dc4817868f57125632aa8b",
        "sample": "IPY_MODEL_72857721710546c8b7755a8313e59bfc"
       },
       "selected": [],
       "stroke": "#475A77"
      }
     },
     "9bf2fec77acb4d3b95443e49211317c3": {
      "model_module": "@jupyter-widgets/controls",
      "model_module_version": "1.4.0",
      "model_name": "VBoxModel",
      "state": {
       "_dom_classes": [
        "widget-interact"
       ],
       "children": [
        "IPY_MODEL_e94f23ddd6474fe79194c4a9cc6b312c",
        "IPY_MODEL_b051972ecf2c4bcdbaef2322aec8730f",
        "IPY_MODEL_02b08be3696a42378a5b6beb5eae8ea7"
       ],
       "layout": "IPY_MODEL_423dca9387554ff9be77da70fbdc9b93"
      }
     },
     "9c4652be8d2149ed825e75528ff96802": {
      "model_module": "@jupyter-widgets/base",
      "model_module_version": "1.1.0",
      "model_name": "LayoutModel",
      "state": {
       "min_width": "125px"
      }
     },
     "9c4fc8d5079c44d4b46b2e7144ab349c": {
      "model_module": "bqplot",
      "model_module_version": "^0.4.5",
      "model_name": "LinearScaleModel",
      "state": {
       "stabilized": false
      }
     },
     "9caa922702894c79b98d5e44d86678f3": {
      "model_module": "@jupyter-widgets/base",
      "model_module_version": "1.1.0",
      "model_name": "LayoutModel",
      "state": {}
     },
     "9ccc5f8c0fee4619aef9ecb8503ae870": {
      "model_module": "@jupyter-widgets/controls",
      "model_module_version": "1.4.0",
      "model_name": "SliderStyleModel",
      "state": {
       "description_width": ""
      }
     },
     "9cfe0e4c43ef48b0934bc6bc4aa3146d": {
      "model_module": "bqplot",
      "model_module_version": "^0.4.5",
      "model_name": "HistModel",
      "state": {
       "colors": [
        "#475A77"
       ],
       "count": {
        "type": "float",
        "values": [
         0.001280413036049802,
         0.0009282994511361065,
         0.0002560826072099604,
         0,
         0,
         6.40206518024901e-05,
         0,
         0,
         0,
         3.201032590124505e-05
        ]
       },
       "display_legend": false,
       "midpoints": [
        201.2874074459076,
        591.7863995075227,
        982.2853915691377,
        1372.7843836307527,
        1763.2833756923676,
        2153.7823677539827,
        2544.281359815598,
        2934.7803518772125,
        3325.279343938828,
        3715.7783360004423
       ],
       "normalized": true,
       "sample": {
        "type": "float",
        "values": [
         1966.000244140625,
         3911.02783203125,
         2051.4208984375,
         983.2890625,
         551.925537109375,
         270.4345703125,
         67.04801940917969,
         6.615388870239258,
         115.81878662109375,
         345.41119384765625,
         599.0509643554688,
         777.6357421875,
         836.8104248046875,
         744.8502197265625,
         533.7470703125,
         274.430419921875,
         68.06526184082031,
         6.037911415100098,
         115.17916870117188,
         345.0361022949219,
         598.8817749023438,
         777.572509765625,
         836.7930908203125,
         744.8486938476562,
         533.7498779296875,
         274.4312438964844,
         68.06642150878906,
         6.038338661193848,
         115.17864227294922,
         345.0361022949219,
         598.8817749023438,
         777.57421875,
         836.7939453125,
         744.8486938476562,
         533.7488403320312,
         274.4320068359375,
         68.06617736816406,
         6.038338661193848,
         115.17929077148438,
         345.0361022949219,
         598.8817749023438,
         777.572509765625,
         836.7930908203125,
         744.8486938476562,
         533.7498779296875,
         274.4312438964844,
         68.06642150878906,
         6.038338661193848,
         115.17864227294922,
         345.0361022949219,
         598.8817749023438,
         777.57421875,
         836.7939453125,
         744.8486938476562,
         533.7488403320312,
         274.4320068359375,
         68.06617736816406,
         6.038338661193848,
         115.17929077148438,
         345.0361022949219,
         598.8817749023438,
         777.572509765625,
         836.7930908203125,
         744.8486938476562,
         533.7498779296875,
         274.4312438964844,
         68.06642150878906,
         6.038338661193848,
         115.17864227294922,
         345.0361022949219,
         598.8817749023438,
         777.57421875,
         836.7939453125,
         744.8486938476562,
         533.7488403320312,
         274.4320068359375,
         68.06617736816406,
         6.038338661193848,
         115.17929077148438,
         345.0361022949219
        ]
       },
       "scales": {
        "count": "IPY_MODEL_cb2e54e803674fe7b9a437af679680b3",
        "sample": "IPY_MODEL_1c21db0996b84da48fff423c8543724c"
       },
       "selected": [],
       "stroke": "#475A77"
      }
     },
     "9d305c379c094d2d947c85d293484fa9": {
      "model_module": "@jupyter-widgets/controls",
      "model_module_version": "1.4.0",
      "model_name": "SliderStyleModel",
      "state": {
       "description_width": ""
      }
     },
     "a09ea8cbef304c5e91df4a50b878704a": {
      "model_module": "@jupyter-widgets/controls",
      "model_module_version": "1.4.0",
      "model_name": "VBoxModel",
      "state": {
       "_dom_classes": [
        "widget-interact"
       ],
       "children": [
        "IPY_MODEL_49e9afdb58c9485787e2802d22b9529b",
        "IPY_MODEL_08a7c03ebe2d46479d49606618d6214e"
       ],
       "layout": "IPY_MODEL_f34308cdc2d34468b7686bf9304215aa"
      }
     },
     "a24ce65fd3994fc5a7238ec8dad5d56f": {
      "model_module": "bqplot",
      "model_module_version": "^0.4.5",
      "model_name": "AxisModel",
      "state": {
       "orientation": "vertical",
       "scale": "IPY_MODEL_cacc8add5cf8484e813c444b41e696dd",
       "side": "left",
       "tick_values": {
        "type": null,
        "values": null
       }
      }
     },
     "a2856e56fc4945479e6212fa2b929de6": {
      "model_module": "bqplot",
      "model_module_version": "^0.4.5",
      "model_name": "AxisModel",
      "state": {
       "scale": "IPY_MODEL_30f5dee2b18c4151b25bc205150bdac7",
       "side": "bottom",
       "tick_values": {
        "type": null,
        "values": null
       }
      }
     },
     "a2e769392d3249f08856d7e2bf54be9b": {
      "model_module": "@jupyter-widgets/controls",
      "model_module_version": "1.4.0",
      "model_name": "SliderStyleModel",
      "state": {
       "description_width": ""
      }
     },
     "a3c14f3491074632a772786705fae36e": {
      "model_module": "bqplot",
      "model_module_version": "^0.4.5",
      "model_name": "LinearScaleModel",
      "state": {
       "stabilized": false
      }
     },
     "a46587353af14504907d80f246158869": {
      "model_module": "bqplot",
      "model_module_version": "^0.4.5",
      "model_name": "LinearScaleModel",
      "state": {
       "stabilized": false
      }
     },
     "a58398d580a24313875eef6399e096c3": {
      "model_module": "bqplot",
      "model_module_version": "^0.4.5",
      "model_name": "AxisModel",
      "state": {
       "scale": "IPY_MODEL_6bc705a0a29b4bf3b44bc7e7e741fede",
       "side": "bottom",
       "tick_values": {
        "type": null,
        "values": null
       }
      }
     },
     "a5b0a1abfbb34cc697d3d7bb1732991a": {
      "model_module": "bqplot",
      "model_module_version": "^0.4.5",
      "model_name": "LinearScaleModel",
      "state": {
       "stabilized": false
      }
     },
     "a72f2a11b68b4850a8b2282ee272fd15": {
      "model_module": "bqplot",
      "model_module_version": "^0.4.5",
      "model_name": "FigureModel",
      "state": {
       "_dom_classes": [],
       "axes": [
        "IPY_MODEL_cb67df6bf1a9406181c8d9b36aa6977e",
        "IPY_MODEL_081170d647904c8aaab844966a1b5490"
       ],
       "layout": "IPY_MODEL_8010a3d7ceeb42938648e377fe588788",
       "marks": [
        "IPY_MODEL_899ea0fdc5f1489ca22b2a493dd97294"
       ],
       "max_aspect_ratio": 6,
       "scale_x": "IPY_MODEL_fb355e99e4ad4dc8ad416c88da6e1ade",
       "scale_y": "IPY_MODEL_d0647a332ce040c88c4e27c329dadec7"
      }
     },
     "a7cd152935a54aa3aec2f5916ca5ad8f": {
      "model_module": "@jupyter-widgets/base",
      "model_module_version": "1.1.0",
      "model_name": "LayoutModel",
      "state": {}
     },
     "ac284649919c47318ed1d542f7fcf41c": {
      "model_module": "@jupyter-widgets/controls",
      "model_module_version": "1.4.0",
      "model_name": "SliderStyleModel",
      "state": {
       "description_width": ""
      }
     },
     "ac789f807d004941b8754dc97ba50c5f": {
      "model_module": "@jupyter-widgets/base",
      "model_module_version": "1.1.0",
      "model_name": "LayoutModel",
      "state": {}
     },
     "afa1b23a6a354a51b8e13e206a41084a": {
      "model_module": "bqplot",
      "model_module_version": "^0.4.5",
      "model_name": "LinearScaleModel",
      "state": {
       "allow_padding": false,
       "max": 1,
       "min": 0,
       "stabilized": false
      }
     },
     "b051972ecf2c4bcdbaef2322aec8730f": {
      "model_module": "@jupyter-widgets/controls",
      "model_module_version": "1.4.0",
      "model_name": "IntSliderModel",
      "state": {
       "description": "flag",
       "layout": "IPY_MODEL_67ee364ad06940cab22a9c3929f5fa42",
       "max": 1,
       "style": "IPY_MODEL_2b17b5fde6cf42039af51ce5432e9bf7"
      }
     },
     "b19b95cb3daf4cd79da2792066349764": {
      "model_module": "bqplot",
      "model_module_version": "^0.4.5",
      "model_name": "LinearScaleModel",
      "state": {
       "stabilized": false
      }
     },
     "b223234b3a71415a962a8b08b26c5d53": {
      "model_module": "@jupyter-widgets/controls",
      "model_module_version": "1.4.0",
      "model_name": "IntSliderModel",
      "state": {
       "description": "flag",
       "layout": "IPY_MODEL_bd998af66bbc43639b897d9b9dc1d11c",
       "max": 1,
       "style": "IPY_MODEL_d0b9ac18c0ac4498beb031194f763b80"
      }
     },
     "b2358b926f8b4e4baab2b7d86f64c1fb": {
      "model_module": "@jupyter-widgets/base",
      "model_module_version": "1.1.0",
      "model_name": "LayoutModel",
      "state": {}
     },
     "b315766afe844848a0d2aec7c6c630e3": {
      "model_module": "@jupyter-widgets/controls",
      "model_module_version": "1.4.0",
      "model_name": "SliderStyleModel",
      "state": {
       "description_width": ""
      }
     },
     "b3850eaf941e441da1047e23c4eb8251": {
      "model_module": "bqplot",
      "model_module_version": "^0.4.5",
      "model_name": "HistModel",
      "state": {
       "colors": [
        "#475A77"
       ],
       "count": {
        "type": "float",
        "values": [
         0.001280413036049802,
         0.0009282994511361065,
         0.0002560826072099604,
         0,
         0,
         6.40206518024901e-05,
         0,
         0,
         0,
         3.201032590124505e-05
        ]
       },
       "display_legend": false,
       "midpoints": [
        201.2874074459076,
        591.7863995075227,
        982.2853915691377,
        1372.7843836307527,
        1763.2833756923676,
        2153.7823677539827,
        2544.281359815598,
        2934.7803518772125,
        3325.279343938828,
        3715.7783360004423
       ],
       "normalized": true,
       "sample": {
        "type": "float",
        "values": [
         1966.000244140625,
         3911.02783203125,
         2051.4208984375,
         983.2890625,
         551.925537109375,
         270.4345703125,
         67.04801940917969,
         6.615388870239258,
         115.81878662109375,
         345.41119384765625,
         599.0509643554688,
         777.6357421875,
         836.8104248046875,
         744.8502197265625,
         533.7470703125,
         274.430419921875,
         68.06526184082031,
         6.037911415100098,
         115.17916870117188,
         345.0361022949219,
         598.8817749023438,
         777.572509765625,
         836.7930908203125,
         744.8486938476562,
         533.7498779296875,
         274.4312438964844,
         68.06642150878906,
         6.038338661193848,
         115.17864227294922,
         345.0361022949219,
         598.8817749023438,
         777.57421875,
         836.7939453125,
         744.8486938476562,
         533.7488403320312,
         274.4320068359375,
         68.06617736816406,
         6.038338661193848,
         115.17929077148438,
         345.0361022949219,
         598.8817749023438,
         777.572509765625,
         836.7930908203125,
         744.8486938476562,
         533.7498779296875,
         274.4312438964844,
         68.06642150878906,
         6.038338661193848,
         115.17864227294922,
         345.0361022949219,
         598.8817749023438,
         777.57421875,
         836.7939453125,
         744.8486938476562,
         533.7488403320312,
         274.4320068359375,
         68.06617736816406,
         6.038338661193848,
         115.17929077148438,
         345.0361022949219,
         598.8817749023438,
         777.572509765625,
         836.7930908203125,
         744.8486938476562,
         533.7498779296875,
         274.4312438964844,
         68.06642150878906,
         6.038338661193848,
         115.17864227294922,
         345.0361022949219,
         598.8817749023438,
         777.57421875,
         836.7939453125,
         744.8486938476562,
         533.7488403320312,
         274.4320068359375,
         68.06617736816406,
         6.038338661193848,
         115.17929077148438,
         345.0361022949219
        ]
       },
       "scales": {
        "count": "IPY_MODEL_499b462121094e64939f124c45b0bde7",
        "sample": "IPY_MODEL_6bc705a0a29b4bf3b44bc7e7e741fede"
       },
       "selected": [],
       "stroke": "#475A77"
      }
     },
     "b3e40e3662814b8c956b0bd3796aeb09": {
      "model_module": "bqplot",
      "model_module_version": "^0.4.5",
      "model_name": "LinearScaleModel",
      "state": {
       "allow_padding": false,
       "max": 1,
       "min": 0,
       "stabilized": false
      }
     },
     "b4dcedcf78614ba89aa406dd4e4d2560": {
      "model_module": "@jupyter-widgets/controls",
      "model_module_version": "1.4.0",
      "model_name": "VBoxModel",
      "state": {
       "children": [
        "IPY_MODEL_c68c20764d284bbdbd7c34da136270fd",
        "IPY_MODEL_ef46088c15674addbe439c487c064176"
       ],
       "layout": "IPY_MODEL_47620763a12247d1882acc861adb4f49"
      }
     },
     "b654e516ec804a22a73b911b49f52c61": {
      "model_module": "bqplot",
      "model_module_version": "^0.4.5",
      "model_name": "AxisModel",
      "state": {
       "scale": "IPY_MODEL_7907e17c7326467eb4964a60dc08ba87",
       "side": "bottom",
       "tick_values": {
        "type": null,
        "values": null
       }
      }
     },
     "b6c71013a2004a58b8bf198797ef6005": {
      "model_module": "@jupyter-widgets/controls",
      "model_module_version": "1.4.0",
      "model_name": "IntSliderModel",
      "state": {
       "description": "t",
       "layout": "IPY_MODEL_8c60e9333a2d451f9722ef7e154b9677",
       "max": 80,
       "min": 2,
       "style": "IPY_MODEL_15ff29347d2b4ea580db19f210664a79",
       "value": 41
      }
     },
     "b8a16ec894b0437f8e64df7af78c5906": {
      "model_module": "@jupyter-widgets/controls",
      "model_module_version": "1.4.0",
      "model_name": "IntSliderModel",
      "state": {
       "description": "t",
       "layout": "IPY_MODEL_780ab687ccad4ed2aef8b619a46e0ae1",
       "max": 80,
       "min": 2,
       "style": "IPY_MODEL_203085b827fd40e7a73d7e127b83ff1d",
       "value": 20
      }
     },
     "bb25f26ec4fc4cb9ac668d8eb94d8cbf": {
      "model_module": "@jupyter-widgets/controls",
      "model_module_version": "1.4.0",
      "model_name": "VBoxModel",
      "state": {
       "children": [
        "IPY_MODEL_0ad19a09b2ef42b0a03e2d7c8e9e52e9",
        "IPY_MODEL_2917071a57144f748fd6b3b45bba5262"
       ],
       "layout": "IPY_MODEL_763d29bede674f0393e0bc913a881bba"
      }
     },
     "bc3bbd758f31409db10c5f978f538c82": {
      "model_module": "bqplot",
      "model_module_version": "^0.4.5",
      "model_name": "LinearScaleModel",
      "state": {
       "allow_padding": false,
       "max": 1,
       "min": 0,
       "stabilized": false
      }
     },
     "bc3ed9e7ba62407f9fd8f47929659c70": {
      "model_module": "bqplot",
      "model_module_version": "^0.4.5",
      "model_name": "AxisModel",
      "state": {
       "orientation": "vertical",
       "scale": "IPY_MODEL_499b462121094e64939f124c45b0bde7",
       "side": "left",
       "tick_values": {
        "type": null,
        "values": null
       }
      }
     },
     "bc85d0c132fd420184046565448dddfb": {
      "model_module": "@jupyter-widgets/controls",
      "model_module_version": "1.4.0",
      "model_name": "VBoxModel",
      "state": {
       "_dom_classes": [
        "widget-interact"
       ],
       "children": [
        "IPY_MODEL_718da33ad8544c47a65109596d54c939",
        "IPY_MODEL_cce7ea4e2d584294a9b4479cc3d470ac",
        "IPY_MODEL_4ce22459f11c4719a7b6933ebe3a74ea"
       ],
       "layout": "IPY_MODEL_f80362b791e947029e44719787b219ac"
      }
     },
     "bcebee19c94046b1b44d7ab12bd4cab8": {
      "model_module": "bqplot",
      "model_module_version": "^0.4.5",
      "model_name": "AxisModel",
      "state": {
       "scale": "IPY_MODEL_1c21db0996b84da48fff423c8543724c",
       "side": "bottom",
       "tick_values": {
        "type": null,
        "values": null
       }
      }
     },
     "bd751e9d14f5442187504241667bacc5": {
      "model_module": "@jupyter-widgets/controls",
      "model_module_version": "1.4.0",
      "model_name": "VBoxModel",
      "state": {
       "children": [
        "IPY_MODEL_bc85d0c132fd420184046565448dddfb",
        "IPY_MODEL_a72f2a11b68b4850a8b2282ee272fd15"
       ],
       "layout": "IPY_MODEL_4abffcca5b8c432183acb69ffd6f3edc"
      }
     },
     "bd998af66bbc43639b897d9b9dc1d11c": {
      "model_module": "@jupyter-widgets/base",
      "model_module_version": "1.1.0",
      "model_name": "LayoutModel",
      "state": {}
     },
     "bdc087af39394cb1a3f004f18ef752f7": {
      "model_module": "@jupyter-widgets/output",
      "model_module_version": "1.0.0",
      "model_name": "OutputModel",
      "state": {
       "layout": "IPY_MODEL_4a82d9a44c0a4bbdb47394041f85986a",
       "outputs": [
        {
         "data": {
          "image/png": "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\n",
          "text/plain": "<Figure size 432x288 with 1 Axes>"
         },
         "metadata": {
          "needs_background": "light"
         },
         "output_type": "display_data"
        }
       ]
      }
     },
     "bed2972362d44ff981df22b4c4000110": {
      "model_module": "@jupyter-widgets/base",
      "model_module_version": "1.1.0",
      "model_name": "LayoutModel",
      "state": {}
     },
     "beecaa1e70784ad2a01e070589812798": {
      "model_module": "@jupyter-widgets/base",
      "model_module_version": "1.1.0",
      "model_name": "LayoutModel",
      "state": {}
     },
     "bf025a632271449eb6689db2e8963569": {
      "model_module": "bqplot",
      "model_module_version": "^0.4.5",
      "model_name": "HistModel",
      "state": {
       "colors": [
        "#475A77"
       ],
       "count": {
        "type": "float",
        "values": [
         0.00011875399652872969,
         0,
         3.044974269967428e-06,
         0,
         0,
         0,
         0,
         0,
         0,
         3.044974269967428e-06
        ]
       },
       "display_legend": false,
       "midpoints": [
        4005.000000000221,
        12015.000000000196,
        20025.000000000175,
        28035.00000000015,
        36045.00000000013,
        44055.0000000001,
        52065.00000000007,
        60075.00000000006,
        68085.00000000003,
        76095
       ],
       "normalized": true,
       "sample": {
        "type": "float",
        "values": [
         80100,
         24001,
         2.3283064365386963e-10,
         3112.728759765625,
         2519.664794921875,
         1016.0343627929688,
         228.85360717773438,
         10.485886573791504,
         104.89647674560547,
         343.7881774902344,
         602.279052734375,
         780.8530883789062,
         838.6475219726562,
         745.5971069335938,
         533.9628295898438,
         274.46649169921875,
         68.06605529785156,
         6.039619445800781,
         115.18292999267578,
         345.0396728515625,
         598.8818969726562,
         777.572509765625,
         836.7930908203125,
         744.8504028320312,
         533.7498779296875,
         274.4312438964844,
         68.06642150878906,
         6.038338661193848,
         115.17864227294922,
         345.0361022949219,
         598.8817749023438,
         777.57421875,
         836.7939453125,
         744.8486938476562,
         533.7492065429688,
         274.4320068359375,
         68.06617736816406,
         6.038338661193848,
         115.17929077148438,
         345.0361022949219,
         598.8817749023438
        ]
       },
       "scales": {
        "count": "IPY_MODEL_5a119ddda35f40eaaa381b73ae291951",
        "sample": "IPY_MODEL_d8db5c57a06e4770bbb8ae10487da88a"
       },
       "selected": [],
       "stroke": "#475A77"
      }
     },
     "bf0f6b7cc48347f69a846b94c6baf4dd": {
      "model_module": "@jupyter-widgets/base",
      "model_module_version": "1.1.0",
      "model_name": "LayoutModel",
      "state": {}
     },
     "c02f8880b78d4fc8901e07d7f0354160": {
      "model_module": "@jupyter-widgets/controls",
      "model_module_version": "1.4.0",
      "model_name": "IntSliderModel",
      "state": {
       "description": "flag",
       "layout": "IPY_MODEL_0f679277a3654dec9a3895d9b31556ac",
       "max": 1,
       "style": "IPY_MODEL_3869ff2f92da4c0e81d10abf42fd0167"
      }
     },
     "c0c3ee0b3d374008b1477fa2ca30a2d2": {
      "model_module": "bqplot",
      "model_module_version": "^0.4.5",
      "model_name": "LinearScaleModel",
      "state": {
       "stabilized": false
      }
     },
     "c2237ce4dd294e6cb6d1d135d518d788": {
      "model_module": "@jupyter-widgets/base",
      "model_module_version": "1.1.0",
      "model_name": "LayoutModel",
      "state": {
       "min_width": "125px"
      }
     },
     "c2bf8572622c4e6c8cf73aba59246519": {
      "model_module": "bqplot",
      "model_module_version": "^0.4.5",
      "model_name": "AxisModel",
      "state": {
       "orientation": "vertical",
       "scale": "IPY_MODEL_3ea9a00d6c564af6906197b383869ea3",
       "side": "left",
       "tick_values": {
        "type": null,
        "values": null
       }
      }
     },
     "c463834cc3a9443faeccd4535225c611": {
      "model_module": "@jupyter-widgets/controls",
      "model_module_version": "1.4.0",
      "model_name": "VBoxModel",
      "state": {
       "children": [
        "IPY_MODEL_cef846599fa44f8e8688106f2fb3416f",
        "IPY_MODEL_2bf483bfe7aa4bcfa5a05dfa28d0035e"
       ],
       "layout": "IPY_MODEL_916d406fb77345898bba63e942b609cd"
      }
     },
     "c49803d1082a45e29145e78cb37d6078": {
      "model_module": "bqplot",
      "model_module_version": "^0.4.5",
      "model_name": "AxisModel",
      "state": {
       "orientation": "vertical",
       "scale": "IPY_MODEL_5a119ddda35f40eaaa381b73ae291951",
       "side": "left",
       "tick_values": {
        "type": null,
        "values": null
       }
      }
     },
     "c573755f8e4f4d26ad90d10dcdbaef1c": {
      "model_module": "bqplot",
      "model_module_version": "^0.4.5",
      "model_name": "LinearScaleModel",
      "state": {
       "allow_padding": false,
       "max": 1,
       "min": 0,
       "stabilized": false
      }
     },
     "c57580d21b08478bbc85a48af04c6703": {
      "model_module": "@jupyter-widgets/controls",
      "model_module_version": "1.4.0",
      "model_name": "VBoxModel",
      "state": {
       "children": [
        "IPY_MODEL_a09ea8cbef304c5e91df4a50b878704a",
        "IPY_MODEL_587d63f5dc2148dab276e988470716a9"
       ],
       "layout": "IPY_MODEL_116c5921f5b749d09e6452369304e731"
      }
     },
     "c57dc301ce6444ee8126d29f280311a9": {
      "model_module": "@jupyter-widgets/controls",
      "model_module_version": "1.4.0",
      "model_name": "IntSliderModel",
      "state": {
       "description": "t",
       "layout": "IPY_MODEL_2c678e164e8c40a59a064ff0dcf586f0",
       "max": 80,
       "min": 2,
       "style": "IPY_MODEL_9ccc5f8c0fee4619aef9ecb8503ae870",
       "value": 80
      }
     },
     "c68c20764d284bbdbd7c34da136270fd": {
      "model_module": "@jupyter-widgets/controls",
      "model_module_version": "1.4.0",
      "model_name": "VBoxModel",
      "state": {
       "_dom_classes": [
        "widget-interact"
       ],
       "children": [
        "IPY_MODEL_724813934e09460b94b891389257017d",
        "IPY_MODEL_5121978d047143ffbd34eef6df019cda"
       ],
       "layout": "IPY_MODEL_8d4eb417c0664a2ab632bb1b2551272f"
      }
     },
     "c7c9a31d6e774f6ab513c4a86dac27bf": {
      "model_module": "bqplot",
      "model_module_version": "^0.4.5",
      "model_name": "HistModel",
      "state": {
       "colors": [
        "#475A77"
       ],
       "count": {
        "type": "float",
        "values": [
         0.0012491834498046849,
         0.0008744284148632795,
         0.000249836689960937,
         0,
         0,
         0.0001249183449804685,
         0,
         0,
         0,
         6.245917249023425e-05
        ]
       },
       "display_legend": false,
       "midpoints": [
        201.2874074459076,
        591.7863995075227,
        982.2853915691377,
        1372.7843836307527,
        1763.2833756923676,
        2153.7823677539827,
        2544.281359815598,
        2934.7803518772125,
        3325.279343938828,
        3715.7783360004423
       ],
       "normalized": true,
       "sample": {
        "type": "float",
        "values": [
         1966.000244140625,
         3911.02783203125,
         2051.4208984375,
         983.2890625,
         551.925537109375,
         270.4345703125,
         67.04801940917969,
         6.615388870239258,
         115.81878662109375,
         345.41119384765625,
         599.0509643554688,
         777.6357421875,
         836.8104248046875,
         744.8502197265625,
         533.7470703125,
         274.430419921875,
         68.06526184082031,
         6.037911415100098,
         115.17916870117188,
         345.0361022949219,
         598.8817749023438,
         777.572509765625,
         836.7930908203125,
         744.8486938476562,
         533.7498779296875,
         274.4312438964844,
         68.06642150878906,
         6.038338661193848,
         115.17864227294922,
         345.0361022949219,
         598.8817749023438,
         777.57421875,
         836.7939453125,
         744.8486938476562,
         533.7488403320312,
         274.4320068359375,
         68.06617736816406,
         6.038338661193848,
         115.17929077148438,
         345.0361022949219,
         598.8817749023438
        ]
       },
       "scales": {
        "count": "IPY_MODEL_a5b0a1abfbb34cc697d3d7bb1732991a",
        "sample": "IPY_MODEL_ef63452e07cc4cc9823e4dc29c7128c1"
       },
       "selected": [],
       "stroke": "#475A77"
      }
     },
     "c8a5ce9aaa4d41539d9d6933ca8c8a11": {
      "model_module": "@jupyter-widgets/base",
      "model_module_version": "1.1.0",
      "model_name": "LayoutModel",
      "state": {}
     },
     "caa670875368478f9238dd0c2736d1a6": {
      "model_module": "@jupyter-widgets/base",
      "model_module_version": "1.1.0",
      "model_name": "LayoutModel",
      "state": {}
     },
     "cacc8add5cf8484e813c444b41e696dd": {
      "model_module": "bqplot",
      "model_module_version": "^0.4.5",
      "model_name": "LinearScaleModel",
      "state": {
       "stabilized": false
      }
     },
     "caffb5537c6a41db8774356348f876a5": {
      "model_module": "@jupyter-widgets/base",
      "model_module_version": "1.1.0",
      "model_name": "LayoutModel",
      "state": {}
     },
     "cb26dbdb24e04d28a5865cd3d09336df": {
      "model_module": "@jupyter-widgets/base",
      "model_module_version": "1.1.0",
      "model_name": "LayoutModel",
      "state": {
       "min_width": "125px"
      }
     },
     "cb2e54e803674fe7b9a437af679680b3": {
      "model_module": "bqplot",
      "model_module_version": "^0.4.5",
      "model_name": "LinearScaleModel",
      "state": {
       "stabilized": false
      }
     },
     "cb67df6bf1a9406181c8d9b36aa6977e": {
      "model_module": "bqplot",
      "model_module_version": "^0.4.5",
      "model_name": "AxisModel",
      "state": {
       "scale": "IPY_MODEL_d94eaf720d524fd9b98420af9e438441",
       "side": "bottom",
       "tick_values": {
        "type": null,
        "values": null
       }
      }
     },
     "cca9ebac531d46b680fec317b4f7ff4a": {
      "model_module": "bqplot",
      "model_module_version": "^0.4.5",
      "model_name": "LinearScaleModel",
      "state": {
       "stabilized": false
      }
     },
     "ccdefe26706b43538cc1abd983d6ea86": {
      "model_module": "@jupyter-widgets/base",
      "model_module_version": "1.1.0",
      "model_name": "LayoutModel",
      "state": {
       "min_width": "125px"
      }
     },
     "cce7ea4e2d584294a9b4479cc3d470ac": {
      "model_module": "@jupyter-widgets/controls",
      "model_module_version": "1.4.0",
      "model_name": "IntSliderModel",
      "state": {
       "description": "flag",
       "layout": "IPY_MODEL_0c7d86069ef84d3ca8d020a5a606ab58",
       "max": 1,
       "style": "IPY_MODEL_ec9744d3c11c40e48df2bd96e566a5b5"
      }
     },
     "cd94506271804706a000897744f9d0c4": {
      "model_module": "bqplot",
      "model_module_version": "^0.4.5",
      "model_name": "HistModel",
      "state": {
       "colors": [
        "#475A77"
       ],
       "count": {
        "type": "float",
        "values": [
         0.001280413036049802,
         0.0009282994511361065,
         0.0002560826072099604,
         0,
         0,
         6.40206518024901e-05,
         0,
         0,
         0,
         3.201032590124505e-05
        ]
       },
       "display_legend": false,
       "midpoints": [
        201.2874074459076,
        591.7863995075227,
        982.2853915691377,
        1372.7843836307527,
        1763.2833756923676,
        2153.7823677539827,
        2544.281359815598,
        2934.7803518772125,
        3325.279343938828,
        3715.7783360004423
       ],
       "normalized": true,
       "sample": {
        "type": "float",
        "values": [
         1966.000244140625,
         3911.02783203125,
         2051.4208984375,
         983.2890625,
         551.925537109375,
         270.4345703125,
         67.04801940917969,
         6.615388870239258,
         115.81878662109375,
         345.41119384765625,
         599.0509643554688,
         777.6357421875,
         836.8104248046875,
         744.8502197265625,
         533.7470703125,
         274.430419921875,
         68.06526184082031,
         6.037911415100098,
         115.17916870117188,
         345.0361022949219,
         598.8817749023438,
         777.572509765625,
         836.7930908203125,
         744.8486938476562,
         533.7498779296875,
         274.4312438964844,
         68.06642150878906,
         6.038338661193848,
         115.17864227294922,
         345.0361022949219,
         598.8817749023438,
         777.57421875,
         836.7939453125,
         744.8486938476562,
         533.7488403320312,
         274.4320068359375,
         68.06617736816406,
         6.038338661193848,
         115.17929077148438,
         345.0361022949219,
         598.8817749023438,
         777.572509765625,
         836.7930908203125,
         744.8486938476562,
         533.7498779296875,
         274.4312438964844,
         68.06642150878906,
         6.038338661193848,
         115.17864227294922,
         345.0361022949219,
         598.8817749023438,
         777.57421875,
         836.7939453125,
         744.8486938476562,
         533.7488403320312,
         274.4320068359375,
         68.06617736816406,
         6.038338661193848,
         115.17929077148438,
         345.0361022949219,
         598.8817749023438,
         777.572509765625,
         836.7930908203125,
         744.8486938476562,
         533.7498779296875,
         274.4312438964844,
         68.06642150878906,
         6.038338661193848,
         115.17864227294922,
         345.0361022949219,
         598.8817749023438,
         777.57421875,
         836.7939453125,
         744.8486938476562,
         533.7488403320312,
         274.4320068359375,
         68.06617736816406,
         6.038338661193848,
         115.17929077148438,
         345.0361022949219
        ]
       },
       "scales": {
        "count": "IPY_MODEL_9c4fc8d5079c44d4b46b2e7144ab349c",
        "sample": "IPY_MODEL_19bcb1fc2d9d421e901d48f5a715e315"
       },
       "selected": [],
       "stroke": "#475A77"
      }
     },
     "ce55fdb7e72e4bd8a56e69b1c320e4da": {
      "model_module": "bqplot",
      "model_module_version": "^0.4.5",
      "model_name": "LinearScaleModel",
      "state": {
       "stabilized": false
      }
     },
     "ceafefbe031943e49fac61641ff43f62": {
      "model_module": "@jupyter-widgets/controls",
      "model_module_version": "1.4.0",
      "model_name": "IntSliderModel",
      "state": {
       "description": "t",
       "layout": "IPY_MODEL_217dc0dea0004590b49586485973f141",
       "max": 80,
       "min": 2,
       "style": "IPY_MODEL_657feee3247b48d4b7a89655aea275f5",
       "value": 41
      }
     },
     "cef846599fa44f8e8688106f2fb3416f": {
      "model_module": "@jupyter-widgets/controls",
      "model_module_version": "1.4.0",
      "model_name": "VBoxModel",
      "state": {
       "_dom_classes": [
        "widget-interact"
       ],
       "children": [
        "IPY_MODEL_2eefc1c7120f45e5969371cc81f01d25",
        "IPY_MODEL_e3b02444ebc7421393a0602490caf2db"
       ],
       "layout": "IPY_MODEL_6bd5cf2e328c4e48bec043db152193f5"
      }
     },
     "d030059ac7f24f668c79d44d84d0b045": {
      "model_module": "bqplot",
      "model_module_version": "^0.4.5",
      "model_name": "LinearScaleModel",
      "state": {
       "allow_padding": false,
       "max": 1,
       "min": 0,
       "stabilized": false
      }
     },
     "d0647a332ce040c88c4e27c329dadec7": {
      "model_module": "bqplot",
      "model_module_version": "^0.4.5",
      "model_name": "LinearScaleModel",
      "state": {
       "allow_padding": false,
       "max": 1,
       "min": 0,
       "stabilized": false
      }
     },
     "d0b9ac18c0ac4498beb031194f763b80": {
      "model_module": "@jupyter-widgets/controls",
      "model_module_version": "1.4.0",
      "model_name": "SliderStyleModel",
      "state": {
       "description_width": ""
      }
     },
     "d255c4c580534ecab09a432925690b81": {
      "model_module": "@jupyter-widgets/base",
      "model_module_version": "1.1.0",
      "model_name": "LayoutModel",
      "state": {}
     },
     "d2f66585ef844f9187bc2b778dc9e505": {
      "model_module": "@jupyter-widgets/base",
      "model_module_version": "1.1.0",
      "model_name": "LayoutModel",
      "state": {}
     },
     "d35b7b37c330465bb04c62fb9fbdb58c": {
      "model_module": "bqplot",
      "model_module_version": "^0.4.5",
      "model_name": "LinearScaleModel",
      "state": {
       "allow_padding": false,
       "max": 1,
       "min": 0,
       "stabilized": false
      }
     },
     "d5b6ec10950b459fb646ba6ad104a225": {
      "model_module": "@jupyter-widgets/controls",
      "model_module_version": "1.4.0",
      "model_name": "VBoxModel",
      "state": {
       "_dom_classes": [
        "widget-interact"
       ],
       "children": [
        "IPY_MODEL_8af596c007cd44c0ab605abff643dbfb",
        "IPY_MODEL_b223234b3a71415a962a8b08b26c5d53",
        "IPY_MODEL_7942622847b04e999ae5f98942f2a4c4"
       ],
       "layout": "IPY_MODEL_10c6f3e4286445e69400b8508253eea6"
      }
     },
     "d5e82f771a48401fbfa645a5c3878e30": {
      "model_module": "@jupyter-widgets/controls",
      "model_module_version": "1.4.0",
      "model_name": "SliderStyleModel",
      "state": {
       "description_width": ""
      }
     },
     "d67a1587861b4acda00c1beacc2ddf4d": {
      "model_module": "@jupyter-widgets/base",
      "model_module_version": "1.1.0",
      "model_name": "LayoutModel",
      "state": {}
     },
     "d7dc4b95474c40728462d674be01c70d": {
      "model_module": "bqplot",
      "model_module_version": "^0.4.5",
      "model_name": "LinearScaleModel",
      "state": {
       "allow_padding": false,
       "max": 1,
       "min": 0,
       "stabilized": false
      }
     },
     "d8db5c57a06e4770bbb8ae10487da88a": {
      "model_module": "bqplot",
      "model_module_version": "^0.4.5",
      "model_name": "LinearScaleModel",
      "state": {
       "stabilized": false
      }
     },
     "d94eaf720d524fd9b98420af9e438441": {
      "model_module": "bqplot",
      "model_module_version": "^0.4.5",
      "model_name": "LinearScaleModel",
      "state": {
       "stabilized": false
      }
     },
     "da766094ce5549c0801450fb5c4b0b21": {
      "model_module": "@jupyter-widgets/base",
      "model_module_version": "1.1.0",
      "model_name": "LayoutModel",
      "state": {}
     },
     "dabcb5aaad774a2eb548c375759703af": {
      "model_module": "bqplot",
      "model_module_version": "^0.4.5",
      "model_name": "LinearScaleModel",
      "state": {
       "allow_padding": false,
       "max": 1,
       "min": 0,
       "stabilized": false
      }
     },
     "db8533c6b01a4b6a8f5d7118b9e22ad8": {
      "model_module": "@jupyter-widgets/base",
      "model_module_version": "1.1.0",
      "model_name": "LayoutModel",
      "state": {}
     },
     "dba4a44f83b44d669baef4a5e3e3222e": {
      "model_module": "bqplot",
      "model_module_version": "^0.4.5",
      "model_name": "LinearScaleModel",
      "state": {
       "allow_padding": false,
       "max": 1,
       "min": 0,
       "stabilized": false
      }
     },
     "dbccf4abdacc4165aa26e4a7a3ab0ce6": {
      "model_module": "@jupyter-widgets/base",
      "model_module_version": "1.1.0",
      "model_name": "LayoutModel",
      "state": {}
     },
     "dc3df2380eaa4e8bb4ae59eef3b9d805": {
      "model_module": "bqplot",
      "model_module_version": "^0.4.5",
      "model_name": "HistModel",
      "state": {
       "colors": [
        "#475A77"
       ],
       "count": {
        "type": "float",
        "values": [
         0.001280413036049802,
         0.000640206518024901,
         0.0002560826072099604,
         0,
         0,
         0.0002560826072099604,
         0,
         0,
         0,
         0.0001280413036049802
        ]
       },
       "display_legend": false,
       "midpoints": [
        201.2874074459076,
        591.7863995075227,
        982.2853915691377,
        1372.7843836307527,
        1763.2833756923676,
        2153.7823677539827,
        2544.281359815598,
        2934.7803518772125,
        3325.279343938828,
        3715.7783360004423
       ],
       "normalized": true,
       "sample": {
        "type": "float",
        "values": [
         1966.000244140625,
         3911.02783203125,
         2051.4208984375,
         983.2890625,
         551.925537109375,
         270.4345703125,
         67.04801940917969,
         6.615388870239258,
         115.81878662109375,
         345.41119384765625,
         599.0509643554688,
         777.6357421875,
         836.8104248046875,
         744.8502197265625,
         533.7470703125,
         274.430419921875,
         68.06526184082031,
         6.037911415100098,
         115.17916870117188,
         345.0361022949219
        ]
       },
       "scales": {
        "count": "IPY_MODEL_a46587353af14504907d80f246158869",
        "sample": "IPY_MODEL_32993c14a946422787cdf42f5ac9ca18"
       },
       "selected": [],
       "stroke": "#475A77"
      }
     },
     "de02116c3e464cbf99e8a331d4aa945d": {
      "model_module": "@jupyter-widgets/base",
      "model_module_version": "1.1.0",
      "model_name": "LayoutModel",
      "state": {}
     },
     "df82012522344cc182a634025b0a0efc": {
      "model_module": "@jupyter-widgets/controls",
      "model_module_version": "1.4.0",
      "model_name": "SliderStyleModel",
      "state": {
       "description_width": ""
      }
     },
     "e0e77b588cd141eda4ffcf217efb6d90": {
      "model_module": "@jupyter-widgets/base",
      "model_module_version": "1.1.0",
      "model_name": "LayoutModel",
      "state": {}
     },
     "e1a1c4b27ee148b489192467f303a81e": {
      "model_module": "@jupyter-widgets/controls",
      "model_module_version": "1.4.0",
      "model_name": "IntSliderModel",
      "state": {
       "description": "flag",
       "layout": "IPY_MODEL_e0e77b588cd141eda4ffcf217efb6d90",
       "max": 1,
       "style": "IPY_MODEL_86e7cd6bdfa34ecbb55addd700fa2ee4"
      }
     },
     "e201355b2b394eab94c11147fbe3e0a3": {
      "model_module": "bqplot",
      "model_module_version": "^0.4.5",
      "model_name": "AxisModel",
      "state": {
       "orientation": "vertical",
       "scale": "IPY_MODEL_c0c3ee0b3d374008b1477fa2ca30a2d2",
       "side": "left",
       "tick_values": {
        "type": null,
        "values": null
       }
      }
     },
     "e28bc82a0e494fe395092fc8e51cd7d7": {
      "model_module": "bqplot",
      "model_module_version": "^0.4.5",
      "model_name": "LinearScaleModel",
      "state": {
       "allow_padding": false,
       "max": 1,
       "min": 0,
       "stabilized": false
      }
     },
     "e2b7af4f67f644d9ac850dccfd5158c6": {
      "model_module": "bqplot",
      "model_module_version": "^0.4.5",
      "model_name": "AxisModel",
      "state": {
       "scale": "IPY_MODEL_19bcb1fc2d9d421e901d48f5a715e315",
       "side": "bottom",
       "tick_values": {
        "type": null,
        "values": null
       }
      }
     },
     "e2f316bf8eae4274904b6f61cdbd2ebe": {
      "model_module": "bqplot",
      "model_module_version": "^0.4.5",
      "model_name": "HistModel",
      "state": {
       "colors": [
        "#475A77"
       ],
       "count": {
        "type": "float",
        "values": [
         0.00011875399652872969,
         0,
         3.044974269967428e-06,
         0,
         0,
         0,
         0,
         0,
         0,
         3.044974269967428e-06
        ]
       },
       "display_legend": false,
       "midpoints": [
        4005.000000000221,
        12015.000000000196,
        20025.000000000175,
        28035.00000000015,
        36045.00000000013,
        44055.0000000001,
        52065.00000000007,
        60075.00000000006,
        68085.00000000003,
        76095
       ],
       "normalized": true,
       "sample": {
        "type": "float",
        "values": [
         80100,
         24001,
         2.3283064365386963e-10,
         3112.728759765625,
         2519.664794921875,
         1016.0343627929688,
         228.85360717773438,
         10.485886573791504,
         104.89647674560547,
         343.7881774902344,
         602.279052734375,
         780.8530883789062,
         838.6475219726562,
         745.5971069335938,
         533.9628295898438,
         274.46649169921875,
         68.06605529785156,
         6.039619445800781,
         115.18292999267578,
         345.0396728515625,
         598.8818969726562,
         777.572509765625,
         836.7930908203125,
         744.8504028320312,
         533.7498779296875,
         274.4312438964844,
         68.06642150878906,
         6.038338661193848,
         115.17864227294922,
         345.0361022949219,
         598.8817749023438,
         777.57421875,
         836.7939453125,
         744.8486938476562,
         533.7492065429688,
         274.4320068359375,
         68.06617736816406,
         6.038338661193848,
         115.17929077148438,
         345.0361022949219,
         598.8817749023438
        ]
       },
       "scales": {
        "count": "IPY_MODEL_3ea9a00d6c564af6906197b383869ea3",
        "sample": "IPY_MODEL_786a1919952740cf9908863b9ea30616"
       },
       "selected": [],
       "stroke": "#475A77"
      }
     },
     "e3b02444ebc7421393a0602490caf2db": {
      "model_module": "@jupyter-widgets/output",
      "model_module_version": "1.0.0",
      "model_name": "OutputModel",
      "state": {
       "layout": "IPY_MODEL_da766094ce5549c0801450fb5c4b0b21",
       "outputs": [
        {
         "data": {
          "image/png": "iVBORw0KGgoAAAANSUhEUgAAAXoAAAD8CAYAAAB5Pm/hAAAABHNCSVQICAgIfAhkiAAAAAlwSFlzAAALEgAACxIB0t1+/AAAADl0RVh0U29mdHdhcmUAbWF0cGxvdGxpYiB2ZXJzaW9uIDMuMC4zLCBodHRwOi8vbWF0cGxvdGxpYi5vcmcvnQurowAAIABJREFUeJzsvXt4HFl55/85fanq1v0u21JL8t1jewZ7ZuwxY0h2BgiEJDuQZBOWXSD8Qibhkk0CCRmymwTyhGxgswGSPCFhfkAgm1+4hUkIDOSZhSGAPTcPeOyxLXl8UUuyZFmy7uruqr6c3x+nqt2SZevS1V3VUn2eR4+l7urT5/h0f+s973nf9wgpJT4+Pj4+65eA2x3w8fHx8SktvtD7+Pj4rHN8offx8fFZ5/hC7+Pj47PO8YXex8fHZ53jC72Pj4/POscXeh8fH591ji/0Pj4+PuscX+h9fHx81jkhtzsA0NLSInt6etzuho+Pj09F8fzzz49LKVuXu84TQt/T08OJEyfc7oaPj49PRSGEiK/kOt914+Pj47PO8YXex8fHZ53jC72Pj4/POscXeh8fH591ji/0Pj4+PuscX+h9fHx81jm+0Pv4+Pisc3yh9yGdnmBo6C+4cuVvmJh4gmTyIrlc2u1uuca1a19kauoHrOdjNhOJPkZGPks2O+92V0qGlDmGhx9lbu5Ft7viOp5ImPJxB9McY2joz7ly5a/IZucWPRskEukmGt1GJLKdaHQ70eg2amoOEo1uc6W/5SCZvMjZs28CoK7uCLHY+2lpeQNCCJd75iwXLvwWExPf5OLF36aj4110dPwGmtbidrccZWLi3zh//mEAmppeT1fXIzQ0vNLlXrmDL/QbEMO4yuDgnzE8/ElyuSStrb9Ad/fvEQo1kUpdJJm8RDJ5Mf/72NhXyGSuAyBEiLvvfoba2rtdHkVpGBt7DICenj/i6tXPcubMz7J375dpa/t5l3vmHJnMNJOT/5eWlp8FJPH4h5ma+j4HD37X7a45yvj4VwkGa4nFfpsrV/6Skyd/nHvu+SG1tQfc7lrZ8YV+A2EYVxgY+CgjI58ilzNpb38zXV3/nerqPflrIpFOGhp+/KbXZjLTJBLneeGF1zAw8Kfs2/elcna9bIyPP0ZNzQF6en6frq4PcPz4JiYmvrGuhP769ceRMk0s9l7q649y+fLvE4//CZnMNKFQvdvdcwQps4yP/wtNTa+np+cP2Lz5YZ56ajMTE9/akEK/rI9eCBERQjwrhHhBCHFGCPEh6/G/E0JcFkKctH4OWI8LIcRfCCEuCCFOCSHWp+lXQaRScc6ffydPP72N4eG/pq3tzRw+3Mcdd/z9ApG/HaFQPXV1h+joeBdjY18hkXipxL0uP4ZxlZmZpyxLFwKBEA0N/4HJye+sK3/9+PhjhMPt1NW9HICGhlcBOaamvuduxxxkevo46fQYra1qLnV9E1VV+5ia+o7LPXOHlWzGGsCDUsqXAQeA1wkhjljP/Y6U8oD1c9J67CeBndbPw8Anne60z8pIJi/S2/sOnnlmByMjn2bTprdz+PBL7Nnzaaqqdqypzc7O30AIjcHB/+Vwb93n+vV/ASQtLW/MP9bY+ACGMUAqddm9jjlINpvi+vXHaWl5CCHU17+u7ghC6ExNPely75xjfPwxhNBpavrJ/GONjQ8wPX2MXM50sWfusKzQS4W9Uxe2fm5n3jwEfN563dNAgxBic/Fd9VkpiUQf5869jWee2c3o6P9hy5Zf4777LrJ7998QjfYU1bamtbN589u5evVzGMaIMx32CGNjXyUa3UF19b78Yw0NDwCsGxGcnHyCXG4+b+kCBIMR6uuPrpsxSikZG/sqjY2vJhSqzT/e0PAguVyCmZlnXeydO6wovFIIERRCnASuAU9IKZ+xnvqw5Z75mBBCtx7rAAYLXj5kPeZTYubnz3D27Jt59tm9jI19mc7O/8aRI5fZufMviURijr1PLPbbSJlhaOjjjrXpNun0FFNT36Gl5Y0LImyqqu4gHG5ncnJ9LPnHxx8jGKzP38BsGhoeYG7uJOn0dZd65hxzcycxjDitrW9c8LjaexIb0n2zIqGXUmallAeATuCwEGI/8AFgD3AIaAJ+17p8qTi0m1YAQoiHhRAnhBAnxsbG1tR5H8Xs7ElefPHnee65/YyPf41Y7Lc5cqSfHTv+HF13fjEVjW6nre0XGB7+JOn0lOPtu8HExDeQMpP3z9sIIWhsfICpqScr3k+fy2UYH/8azc0/RSCgLXiusdFeufy7G11zlPHxx4AAzc3/ccHj4XATNTUvWzcrl9WwqoQpKeUU8F3gdVLKEcs9YwCfBQ5blw0BheZjJzC8RFufklLeK6W8t7V12QNSfJZgbu4FTp9+iOefP8jk5BN0df13jhzpZ/v2j6BpbSV971js/WSzswwPr48tmLGxx9C0zdTVHb7puYaGBzDNEZLJ8y70zDmmp39AJnN9gdvGprb2EIFA9boQwfHxx6ivfyWadrOuNDQ8yPT0U2SzKRd65h4ribppFUI0WL9HgVcDvbbfXah17hsAO/3sa8BbreibI8C0lHJ9OXNdxjCu0Nv7dk6cOMj09Pfo6fkgR470s23bH5ct6aW29iCNja9laOgTZLPJsrxnqZBSMjX1HZqaXp/foCzEdnNMTla2CCqXRZDGxtfe9FwgoFFf/4qKH6NpXmN+/kWam39qyecbGh5ASoOZmafK3DN3WYlFvxl4UghxCngO5aP/OvAPQojTwGmgBfhj6/rHgUvABeBR4F2O93qDksnMcfnyH/DMMzsZHf3/iMXex333XaKn5w8JhxvL3p+urkdIp0e5evVzZX9vJzHNETKZSWpqlo6vjkZ3oOudFe/bnZ9/kWh0B6FQzZLPNzY+QCJxBtMcLXPPnGN+Xtmbt5pLlRkbqPi5XC3LJkxJKU8BB5d4/MFbXC+BdxffNR8bKbOMjHyW/v7fxzSv0tr6i2zb9ieulyJoaPhxamvvY3Dwf7F58zsIBCoz/25+/gzAgmibQoQQNDQ8wMTEt5BSVmw5hPn5M1RX77/l8w0N6is9NfVd2tp+sVzdcpTl5jIUqqe29l4mJ59k69Zy9sxd/KJmHmdi4t84ceIA58//CpHINg4efIp9+77gusiDEsCurt8llbrE9etfc7s7a2Y5cQC15E+nx0gkzparW46SzaZIJi/cdow1NQcJBuuYmvpu+TrmMPPzZwiFGtC0WwchNDQ8wOzsM2SziTL2zF18ofcoc3OneeGF13Lq1OvIZhPs3ftlDh78AfX1R5Z/cRlpbv4ZhNCYmXna7a6smUTiDOFwy203sO3aPvPzlSn0yWQfkLut0AcCIWpqXpa/8VUiicQZqqr23XbVVVt7N1JmSCYvlLFn7uILvccwjGF6e9/BiRMHmJ19ju3b/5zDh8/S1vbz7rsMpqfhiScWPBQIhKiq2lPR4jA/r8Qhz5NPwsTEgmsike0AFSsO9vzkxzk8DE/dvCEZje6o2DFKKS33lDXGXA6++U1ILgwWiEZVVniljnMt+ELvEbLZefr7P2RttH6ezs7f4L77LhCL/RaBgL58A6VGSnjTm+AnfgK++MUFT1VX789vglUaN4nDN74BDz4Ib3yjEgqLUKgGTdtUseIwP38GIUJUVe1SwvfqV8MrXwnPPbfgumh0B6Y5UpF16k3zKpnM5I25/PjH4fWvh1//9QXXRaOVfdNeC77Qu4zaaP0Mzzyzk/7+D9Lc/HoOHz7Hjh1/Tjjc5Hb3bvDoo/Ctb0FzM7zrXcoitKiu3odhDJDJzLrYwbVhGFfIZmeUOFy/Du94hxrj976nhKKASrZ25+fPEI3uVIlS/+N/wLlzUF8Pb33rAov3hrV70a2urpkFey1nz8Lv/Z6ay09/Gr7+9fx1oVA94XBrxc7lWvCF3kUmJp7gxIm76ev7ZSKRbg4ePMa+fV/OWxye4eJFeO974VWvgmPHlDC84x3KyufGJmYlblTaK5Hqqr3wzncqsf/2t+Ghh5RQnLnhkopEtlesOMzPv6jm6bvfhY99TN2sv/AF6O1V47S4Ye1WntAnEpZ7StsFb3kL1NbCj34Ed92lPq/j4/lro9HtFTnGteILvQvMz5/h1KnXc+rUT5DNzrJ37xc5ePA49fX3u921m8lm4W1vg1AIPvtZ2L0bPvpR5ft89FGAfMheJbpv8uLwb33w5S/Dhz4EL3sZfOpTUFenLN60OlZRuTWGK86tkc0mSKUuUR3aCb/0S7B9u5rD17wG3v1utXJ5UiVKVfJehIq4aUb76KPwwx/C3/wNxGLw93+v9lze+c68cVLJq7O14At9GTGMq/T1/SrPPXcXMzNPsX37n3H48Dna2n7B/Y3WW/Gv/6qs+I9/XH1pQFmDDz4IjzwC2SyRyFYCgWhFbsjOz58hHG5H+50/hsOH4Xd+Rz3R1qaE4oc/zO9J3HBrXHKru2sikegFJFXfG4B4HD7/eaiuVk9+5CNK+B95BIBwuIFwuKUiRXB+/gzVkd2IP/mf8OY3w8/9nHrirrvUDfwrX4ETJwA1l4YxuGFKIfhCXway2QT9/X/Ms8/u5OrVz9DR8evWRuv7vLHReju+9z3QdfXFsQkE4O1vh8lJOHMGIQJUVe2tWKGvDm6DoSFl7YYKkr7e8AZoaFD/B1RutEbed/29Qdi7F17+8htPVlerTfbnn4c5VY28Eq3d/Kb6VCNkMvDLv7zwgre/Xf27YC7lujlnYDl8oS8hUua4evVzPPPMLvr7f5/Gxp/g0KGz7Nz5ccLhZre7tzKOH4dDh0BbWO2Q+++/8TzKT19prhspJYnEWarHrJIA9y9ynQUCShSPHQMq13+tIm7CRL916uYxgnosm81H4FSi0CuX2jTVF7MQDKrVWSGbNsG2bQVzWZk37bXiC32JmJz8Ds8/fw+9vb+Erndw4MD32b//n6iq2ul211ZOMqlcF0eP3vzc1q3qy2N9caqr92GawxVVttgwBshm56juM9TG3f4lygMcPaoiOCYnCYcbCYWaK04cEokzVAV6CIxPLT2XtoVfIIKV5tbI5wk8M6r2WGqWqOdz9KgyTKT0hd6nOObnz3H69M/wwguvIp2e5I47/pG7736KhoZXuN211XPihNqIXMoKFEI9nrfolUjam5uVQF4cjl2BI0eUJbgYe+xWclElWrvz82eommpQfyw1l42NyqVjzWUlujXy7qlv9S09RlCPj47CpUuEQk2EQg0VN5drxRd6hzDNa5w//y6ee+5Opqa+z7ZtH+Xw4V7a29+0ZOnbisCy8G75xTl6FC5dgqtX8yGWleS+yYvDty8ubemCcgEEgwtEsJLEIZudJ5W6TPWFDLS0wM5brCiPHlU3s1yuIq3d+fkzhEUj2kji1nNpP378OEKIipvLYqhQBfIOuVyaePxPrQO4H6Wj413cd98Furp+h2Aw4nb3iuP4cRVO2XKLGvcFfnpd7yIYrKmoDdn5+TNosonwLLe+mVVXw4EDi9waA+RyRvk6WgTz8+cAqH7mqhrjraK7jh6FqSk4d65Chf5Fqmetfa9bCf3evSpktmAuK2mMxeALfREkk5c5efLHuHz5AzQ2vopDh86wc+dflO3wj5IipRL6WwkgwN13q4icY8cQQlBVVVkbsolEL1VT9WrT9b77bn3h0aPw7LOQTufdGslkZbg1VGglVD01cmsBhBvzfOxYRbo1ksk+quJAZ+eNMODFBINqP6JgdZZKxcnl0uXrqEv4Qr9Grl37MidOHGR+/hx7936J/fsfU3VE1gvnz6ss0duJg6apiJwFkTeVY9EbxgCRuAF33qksvVtx//2QSMALL1SctWsYAwBERrn9TXvHDmhtXeTWqIzookxmhkxmisjpsdt/XkH9H7z4IkxNWXOZJZWKl6WfbuIL/SrJZpP09f0aZ8/+AlVVe7j33h/R1vaf3O6W8yznn7c5elTFYCeTVFfvI52+hml6/7D3XM7ANEeInBlfXhwKfLuVJvSp1ABhM0owF4Z77731hfbmegW6NQxjEAD9/PTKPq9SwjPPVNxcFoMv9Ktgfv4Mzz9/iJGRT9HV9QgHD36faHSdHlNz/Dg0NSkf/e24/34VmfP88wWlELxv1RvGFQD0QXN5cbDdAceOEQ43EwzWVYw4GMYA+lgQ7rkHIsvsGR09ChcuwLVrRCLbSaX6K8KtkUoVrFqWu2kfPqxcdceOVXS5h9XiC/0KkFIyPPwpnn/+XtLpce6669/Ytu1/EgiE3e5a6Th+XPkzA8t8RAo2ZG8UN/O+0NvL9cg1lhcHyMdgV1q0RirZT6T/NpEohRSEklaSWyM/l7MRVe7gdtTWqjj748fRtHYCgeqKmcti8IV+GdLpKc6e/UXOn/9V6ut/jEOHXqCp6TVud6u0TEyoMrYrEYeWFti1C44dQ9O2EAo1VIhFr6xAXbZCd/fyL7j/flUmYWCgYoReSomRjKOP5JZftYCy+jUNjh2rKLeGYQwgsqDtPALhFRhf998PTz+NyGYrZi6LxRf62zA9/TTPP3+Q8fHH2LbtI9x11zfRtHa3u1V6XnhB/Xs7n24hhw7ByZMVFXljL/f1nkO3Djks5NAh9e/Jk1a0hvfdGpnMFFkSatWykrmMWBaxNUaoDKFPJfvRx0Dcc2hlLzh0CObn4eJFX+g3MlLmGBj4CCdPvhKAgwd/QFfX+ys38Wm19KqQPO64Y2XX79kDAwMwP09V1R4SifOl65tDGMl+whMQ3LVE2YOl2LNH/dvbax3Mns1vAnqV/KplWlf7DCthzx7o7bXcGlWkUt6v1GlMv4Q+yuo+r5Cfy1TqMlLmbv+aCmeDKNfKMc1RTp16HZcuPUJLyxu5554fUVd3mxjr9Uhvr0oU6uhY2fX2F+f8eSKRLtLpUXI5s3T9c4DUVJ/avLP7vhwNDdDeDr296LqK0zaModJ10AHyvutoz/J7LTZ79sDgIGJ+Hl3v9PwYQY1zVXNpBxhYcymlSTo9fvvXVDi+0BcwMfEEzz33Mqanv8+uXZ9i794vEg43uN2t8tPbq740K62RX2Ah6bqyHO2oFq+SSvavThywru3rKxijt0UwH43SsnflLyq4aVeC0OdyGQxxXVn0y0WI2TQ0qIJ8FTSXxeILPaqMwcWLj3Dq1E8QDrdwzz0n2LLlV7x7GEipsYV+pezYoSzGCrF2pZQY8hr6NVYuDqD+T86dQ9cqQxyMuYsIE8LdL1v5ixbctGOeH6NpjoDIEUnWqnDglWK5qCrh8+oEG17o7TIGg4MfYfPmX+Wee569cYr8RiSRUP721Qh9JKLKFi+wkLzrv06nr5MLpokkalYvDpOThKYMgsE6z4tD6vo5ItdA7FmFRW/ftK25NIxhpMyWrpNFkt+HiK4gcqqQvNB3WO14ey6LZUML/eIyBrt3/w3BYJXb3XKX89ZG6mqE3r5+gevGu1+cvDjoXat74SIXlZfHCGDMX1IujdXMpa6rAzryc5nFNEdL1cWiybunmla4EWtj3bS1KYEQIU8bJk6wIYV+w5QxWAt2xM1ahL6vj1CgmmCw3tMimN+kbFzDGKFA6L0tDil5VYVW3qo08a246abt3XGmJs4CoHfevboXWnMp+s6jaR2e/rw6wYYT+htlDP52/ZcxWAu9vWoTdseO1b1u925IpWBgwPMiaFy3xGHLgdW9sKtLuakqwH+dy5mY2iy62bB86YPF7N6tNmPDmwGPr87GXiQ0DaGdy2TELqbgph2JeHsunWDDCL0qY/Aozz9/iHR6bGOUMVgLvb3K375acaigL05q9DSBFIR33rO6FwYCSgQta9c0vRtGahhXQEBEW2H8fCF79kAqRWRMWG15eC5nL6lVy2pXoLEYRKMV44Yrlg0h9DfKGDxMff0ruPfeF2hq+gm3u+VNVhtxY7PIrZFKediin72Afg3EnlX6dWGRW0OqqA8PYiT7AdDr11A625rL0EtXCQQinhZBIzuMPh5YWRmLQhbdtA1jCCllaTrpAda90N9cxuBb6Pomt7vlTXI56Otbm9C3tKgIFsut4eWkqVTmCpGxgHLFrJY9e6C/Hz3QBnjX2k0N/wiAyOZVuqfghv+6t8/z1m5KnyJiNi593u9yFORF5HIp0unrznfQI6xboV9cxuDAge9vrDIGa2FgQPnZ1yL0QiyxiTfscAedIRWeJGI0rF0ccjn0qyrk0Ksrl9RVVa9I33Zk9S9uaYHmZs+vzjKZabJ6Bj28wgzuxezZA5cvowtv37SdYFnVE0JEhBDPCiFeEEKcEUJ8yHp8qxDiGSHES0KILwohNOtx3fr7gvV8T2mHcDNLlTGor1/DB36jsdaIG5sKiNbIZlOkqw304Oa1NWAlWEUuzgDeFQdj+iVVy+eOVSRLFVIwl14dY2pGFSOL1K0ycMBm926QEn1UuWy8Ok4nWIl5awAPSilfBhwAXieEOAJ8BPiYlHInMAn8snX9LwOTUsodwMes68rGwjIGf7txyxisBSeEfnQU3VDH8nnxi2PMqiJdkdrta2tgl/J5B88NEAzWeHKMAClziMhEUB0PuBYKhN40r3iy6JcRfxYAvX2VETc21udcvzyr2vPoXDrBskIvFXPWn2HrRwIPAl+xHv8c8Abr94esv7Gef5UoQy2BxWUM7r77ObZseXjjljFYC7290Niolu5rwbJ29f55wJsWvXH5aQD0thVWrVxMdTV0dXnef22ErqOn6lder2gxu3fDtWvomSakzGCa15ztoAPk9yF61lh00Lppa2evAkFPfl6dYkUOayFEUAhxErgGPAFcBKaklBnrkiHAdpR1AIMA1vPTQLOTnV7MwjIGD3PPPc9SU7PGL/JGZrXFzBZjR2v0DXq2REDqyvNAEeIAnndrSClJ1SaJiCKCDmxr95p33RqpyT5EGrQ9KzhUZSmqqqC7G9F7Hl3f4skxOsWKhF5KmZVSHgA6gcPAUnFpdmzSUipxU9ySEOJhIcQJIcSJsbG1HyZ9o4zBWauMwd/6ZQzWylpDK222blUn/Hg4ociY6IUc6LtWcHrWrSiI1vDiGDMT/eQiEr1m29obsYU+ngC8KfSGMYA+EUTU1q29kYLiZl4co1OsKgRFSjkFfBc4AjQIIULWU52AHWIxBMQArOfrgYkl2vqUlPJeKeW9rWv0I87MnODs2V9A1zu4996TfhmDYpiZgdHR1VVzXEw4DNu3F5S49d5SOJUaQJsJEKgrYpG5ezfMzaGbDZjmCLlcZvnXlJHUS8eAVZYnXox109bPq6+uJ+cyOI6eqi2uETsL2KM3badYSdRNqxCiwfo9CrwaOAc8Cfy8ddnbgH+xfv+a9TfW89+RJcpEqK6+g5qag6RScTKZqVK8xcahv1/9u7XIchBbt0J/v2ezYw1xHX2+yBWf9X+kT2tAznNJU8aoOspR33Tn2hsJhSAWI3z+GkJonpxLsyqBnivSK7x1q7ppy2YMY3DdJk2txKLfDDwphDgFPAc8IaX8OvC7wHuFEBdQPvhPW9d/Gmi2Hn8v8Ijz3VYEg9XceefXCYebOH36p/KV7HzWgC30q80wXEx3t0oo8miJADMyh5YpMgrL+j/yqv/anHwJAC22hmSpQrq7Ef1xT1q7MpHAaMjl6/GsGXsuZyPkckkymUkHeuc9VhJ1c0pKeVBKeZeUcr+U8o+sxy9JKQ9LKXdIKf+TlNKwHk9Zf++wni/poZO6voU773ycbHae06d/ikxmupRvt36Jq4qO9PQU105PD0xOossWQHoraSqTwahLoweLPODdFoehFOA9oTcSg5ADraUINxyouYx7U+gz8VNIDfSanuIasj7v+riSQq+N0ynWRZpoTc1+9u//KolELy+++HOesyIrgnhcFTJrayuuHVsEJ1WxOC99cXJDl8jUgxZdQ6GvQqqroaUF/YI346/NzCjhuVDxBfu6u2FkBD282XNjNIZU5q/WtMoSzIuxP6/DadWux8bpFOtC6AEaG1/F7t3/L1NT36av7+F162srGfG4qv1SbN6BbSGNqA1KL23iGf0/BECvX2OyVCHd3YReGiYQqPLUGAGM4AR6srr4huy5TNVZRb+8kzRljJ4BQN9UZBh1YyPU1KBf8uZN2ynWjdADbNr0Nnp6Psjo6OeIx//I7e5UFv39xbtt4IaFNJAEvPXFMa9am5TtDhwV2dODiA94z60hJWY0gZ5rLL4tey6nNaQ0SafHi2/TIcxp5RHWOtZY4sFGCOjpQTs/DgQ8d9N2inUl9ADd3X/Apk2/RH//B7l69XPLv8BHEY8XvxEL0N4Omkbo8qiVNOWdL45hb1J2rDFlvpDubm/6r6emMBpyaCEHKrTaQj/mvU1nI6k+V3qxbjiA7m4C/YNomvdcVE6x7oReCMGuXX9LQ8Or6Ot7B5OT33a7S94nkYCxMWeEPhDwrAgac2rDWa914ESx7m5IJtFlq6fGmOu/QLoJ9Oo1lGBeTGcnBALogwbgLaE3s9cIJUIEAnrxjVmRYl4NCXaCdSf0AIGAxv79/0RV1R5efPFnmZt70e0ueRunIm5sCkIsvfTFMdMjiLQgFGoqvjHbf52IYhjDSJktvk0HMAdOAqA1rrGiYyHhMHR0oF9QOSpemksjNFV8spRNTw9MTaEF2jw1RidZl0IPEArVc+edjxMMVnP69Ou9FebnNWyhd8Kit9uJx9G0TZjmqDNtOoARmEBPVjlT6M76v9ImAkDWM4dWGNes83DbHar11N2N1ncNCGCaV51ps1hME7M6hS4duGHDDRdVsso7Y3SYdSv0AJFIjDvv/AaZzCSnT/80mczc8i/aiDht0ff0wOgoWqAF07zqjQioXA4zMl98spSNLfTXVFieVwTCnFI12rXWImoWFdLTg+gfIBxu9cwYGRrCaAZNKzJZysaey5kQmcwU2WzKmXY9xLoWeoDa2oPs3fsl5uZOcfbsL3quLokn6O9XKe+bHf7izIWR0vRGEtvVqxhNEj1UZLKUTUMD1NejD6qiX14pg2DMq+xwXV/jqUuL6e6GoSF0bZNnxpiLX8JsciBZysYycLQxFT7qmRuag6x7oQdobv5Jdu36ayYmHuell97jDQvTS8TjEIut7Wi9pbC/OFY2uSe+OP39mC2gRWPOtdndjXYeQNiHAAAgAElEQVRBFf3yxBgBMzuKyArC4TWeKbCYnh7IZtFyDZ4ZY3rwFAQdSJayaWuDSARtWIUEe2WcTrIhhB5gy5aH6ep6hJGRv2Vw8KNud8dbxOPOuW3ghkV/1TtujcxAL9kq0BscSJay6e5G61UHchiGN6xdIziFlqp27mxkey6TVd4Z45g6Cc2RfAhQsfRdXWiX1fGQXlm5OMmGEXqArVs/TFvbm7h06RFGR7/gdne8Q3+/cxuxAFu2QDCINqCyDdNp9zdkzatWJmVbEaV7F9PTQ/ClQYLBWk/czJibw6wxnEmWsrGFfjpIOj3qiexYc/oiAFqVg5/ZfNKUNwwTp9lQQi9EgD17/o76+lfS2/s2pqa+73aX3Mc0YWTEWaG3StxqFyett3D/i2NMnAdAqyviMI7FdHfDzAxasM0bVmA8jtECWrEVHQvpUvH42ngOKTOeiC7KJ0vpW5xrtLub8JkrgPDGXDrMhhJ6gEBAZ//+fyYS2cqLLz5EItHndpfcZXAQpHTWdQNWLZgRhAh7Q+jzm5TOigOAlq33xBhtoderHEiWsolEYNMmtCsqEsUL4zRzY5AThMNFFuArpLubwOi4t6KLHGTDCT1AONzEXXc9jhAhTp36SU8efFw2nKpDv5jubsTlOOFwmye+OGZG9UHTHBR6e9M5GfXEGLPxPrI1Dm5S2nR3o11WSVOuW7vZLEZoGs2sJhAILX/9SrHnUjZ5Yi6dZkMKPUA0uo077/w6pnmV06d/hmw24XaX3MHpZCmbnh4YHkYLt7ufNCUlhrhOMK0RCjmUTQkL/NeuCyBgXDsHgN68y9mGe3rQ+jzivx4exmyS6BR5stRi7KQpo8YTc+k0G1boAerqDrN37z8yO/sc5879F8+ksZeVeFzVp+l0oDhUId3dkMuh5Tzg1hgfx2zIomUdSpayaWmBaBRtLEs2O0s2O+9s+6sknyylOz+X2hklfq6LYCn2IWBB7ofrn9cSsKGFHqCl5SF27Pg44+P/zIUL73O7O+UnHldRMprmbLv2FycRcf+L09+vfNdOJUvZWCVu9SFvxF8bCYeTpWy6uwnNpAmKatfHmJ9Lp5KlbLZsgVAI7TpWNrf70UVOsuGFHqCz87/R2fmbXLnyCYaGPuF2d8qL06GVNrbPczqIaV5z94sTj2M2gx51cJPSprsbrd+Ov3ZXBM2s2mtydMMZbswlja7H0ucGLqpTwpx2TwWDKlJsxLCiiyacbd9lfKG32L79z2hpeSMXLvwWY2OPud2d8uF0spRNLAZCoI1lcLvol4z3q9ooTiZL2XglaSqVwtBmCWTDBIN1zrZtr84M9y36fLJUdQmMk+7ufO6H6y4qh/GF3kKIIHfc8X+orT3MuXNvZmbmGbe7VHqkhCNH4BWvcL5tTYPNm9FG3A/LS189rw6SrnOgDv1iursLMipdFMGhIeXSyDU5U52zEFvoZzXXhd6csU6WcjJ6yqa7G+2CHV20vvz0vtAXEAxWceedX0PTtnD69M+QTF50u0ulRQj4x3+EX/u10rQfi6H12xaSe5E3JdukBIjFCE8DBN0Vh4EBzGacOVlqMTU10NCANuG+pWukrgAl2IcA9Xl9ySPRRQ7jC/0iNK2Nu+76JlJmOXXq9Z7IBKxYYjFPFP0yEiXIpLSJxRASNNngrggODlrJUg4WbSskFkMbzZDNzrgXiiwlphwDSjeXmnVsots3NKfxhX4Jqqp2sX//v5BKxXnxxTesy/rUZSEWQzunBN5NoTczajVRkuV+TAmrZta4OkY5aFn0pdiHADWXgyp81LVxTk9j1JqIXNCZU8IWE4sRSkEAbyTAOYkv9LegoeEV3HHH55ie/gEXL77X7e5UJl1dBMeTBISLIZbWJiWArjscew3Q0aE2nec0V63AzNWL5CIOlz8opKsL7ZLL/uvBQRU9JUuwDwH5uj56pn7dWfQO5hCvP9rafpFsdp6Ghgfc7kplEoshAE00uVfBcmgIsxlC2WpnDpJejK5DezvahGBus4urlimroqNTpy4tJhZDe8LlMr4DAyp6yul8CBt7dZb0QO6Hw/gW/TJs3vz/EI2WIFpjI2B9ccJpF90ag4OYTaAFWkv3HrEY+mjayhdwJ7vatPYhSin0uhVa7rZFr5VqH6KuDurq0KZDvtD7+KwY20Kad9FCsoW+FG4bm1gMbSiByhcYL9373AYzrWL5Na0EUTdwI7pIBtzLF7Dnsq6ndO8Ri6GNZV1PDHMaX+h9Skd7O4TDaNMB98IrbSuwtgQJNjZu+6+npzGjqgxDyYS+qwuRAy3r3iEruSv9ZOpKfNPu6kIbMchmp8lmk6V7nzLjC71P6bCKpWnXMqTT4+Ry6bJ3QQ5Y5Q+qShBDbxOLoQ0bgEvZsZalG5BhQqH60rxHh4pb15JVrvnozckS70OAmksvJMA5jC/0PqUlFrMOXZak02Nlf/vs6GVyWgktXVBjdNN/bbs0REtpolHgxqbzjHuJYea8vQ9R4rkcmFPv5wu9j88KicUKin6V331jzKl6+yW3AvNC745FbzSDVookokJiMbRx6c4YcznMjF20rcRzaeVIrqcQS1/ofUpLV5er2bFmahgosRXY1UXQgGDWpU1n26KvKVE0io3lv3YlumhsDLMuA5R+Ll1dnZWIZYVeCBETQjwphDgnhDgjhPgN6/EPCiGuCCFOWj+vL3jNB4QQF4QQfUKI15ZyAD4ex4piABe+ODMzmLrK5iypRd/ermqZJ6vcEYeBAczWQHks+v4ZXKlGOjCA0QRIh8+KXUwshjat3mc9Cf1KEqYywPuklD8UQtQCzwshnrCe+5iU8s8KLxZC7AXeBOwDtgD/VwixS27I45t8iMXQJtWvZXfdWJYulNgKDAahowNtNunKcj83HCdTkyvtGEHN5Y9MQLk1NK2EgrsYay7DgQYCgXDp3qezU0UXpas3lutGSjkipfyh9fsscA64Xem4h4AvSCkNKeVl4AJw2InO+lQgsRjBFARz0fJ/cazQSoFGKOTwMYKLcdF/bc70AyVetcCCvYiyRxfZYbKlXrVEItDaijanr6tY+lX56IUQPcBBwC7W/h4hxCkhxGeEEI3WYx3AYMHLhrj9jcFnPWPVD9HMatcsei3UVrpoFJuuLvQRo/zLfSkxk2XYhwA1Rrf814ODmC0CLVoGKenqQptcX66bFQu9EKIG+CfgN6WUM8Ange3AAWAE+N/2pUu8XC7R3sNCiBNCiBNjY+UPu/MpEw0NUF2NNu/CoRUDA0rooyW2AiEflpfNzpHJzJX+/WzGxjBrVX5CWVw3bgn9wABmS7D0YwQ1zmuZjSf0QogwSuT/QUr5VQAp5aiUMivVYaCPcsM9MwQUbv93AsOL25RSfkpKea+U8t7W1hLWIfFxFyEsP70LFtLgIGZ7qDS1yxcTi6GNqXNxyzpOy6UBJQ47BNi0iWAmRDBT/kqdcnAAsz5bevcUWCWZE6TTo+vmkPCVRN0I4NPAOSnlnxc8Xvg//kbgRev3rwFvEkLoQoitwE7gWee67FNxxGJoo+nyV7AcHMRsLIOlC+5Zu9YYocTRKKA2nbdsQZvXy37TzkwMIEOyfHN51bQOCV8fBw+tJOrmKPAW4LQQ4qT12O8B/1kIcQDllukHfhVASnlGCPEl4CwqYufdfsTNBqerC23oKTKZObLZFMFgpCxvmxseIF2TKY8V2NXlTqKNlSwVDjaXNhrFpqsLbXK6vGNMpzHT6sZS8lULqDF+Xf2qoosq3+OwrNBLKX/A0n73x2/zmg8DHy6iXz7riVgM7Vnlt06nRwkGS1hgzEZKzLkypMzbuGXRDwxgtgTQImUQQLD81z9irpxjHB7GbFTbfO7M5V2lf88S42fG+pSeWIxwuUVwfByzShUaK4tF39REOB1B5ALld91sCpdnjKBE8Eqy/GPM50OUyUe/zrJjfaH3KT1ufHEKNinLYgUKgejsIpzQy+66MZvKNEbIbzpns7Nks/Plec/BQZUVS5nGuXkz2pRyYqyXpClf6H1Kz4L6IWXakC1XVmwhXV1oU+WNLpKDA5i16fKO0Y2bdhMERJRgsLb07xcKEWruJJhePydN+ULvU3piMTR1Lkf5vjgDAwUWfYnOGF1MLIZ+LVs+KzCTITNzBRnMldV1o5c7O3ZgQLmn9M2lT3yzicXQZsLrJjvWF3qf0lNVRaCuiZBRxuqOg4OYLQFCoWYCAa087xmLqeqORpnGODKC2VDGTUpwzw23SSvfGMEqVyx9i97HZ1XEYmiz4fKKQ0ekPOF4NlYtczNdpjK+5UyWsmluRpvTgTL6rwcHMZtF+VYtYN20Td9H7+OzKrq60CbKaCENDmK2hsprBeb91zlMswxlPdzYhxCCcEMX5Mq4FzE4WN59CFBzOZ7D9F03Pj6rwMo2LNtm7MAAZkOZUuZtyu3WGBiwsmLLFHZoITq70ObKtFGZSJCbHiejG+VfnU1ANjdLNpso3/uWCF/ofcpDXuivIuVNNe6cJZtFDl/BqEq54NdVv5ZlyT84iLFZIxAoUzSKje2iKscYh4bKv2qBRXNZ+X56X+h9yoNlIeVyCbLZEld3HBkhE8khg9nyikNNDVpGCW5ZxGFwELMjiqZtKl80CuRrF5XFreGGewrWXdKUL/Q+5aGc8dcLkqXKuNwHtFpV3qFcFr3ZHir7GO26PmbqSunfa0GyVBnH2dqKPqtqB62HDVlf6H3KQzktJKsOPZTZCgSCm7oJJstUBmFgALOhDEcILsaaSzN7vfTRRW7NpbhxyIlv0fv4rJSOjoKkqRJvyJa7/EEhsRh6OfzXqZQ6dKTc+xBQkDRVhuiiwUHMrmrKUoZ5EeHGHsi6cGxiCfCF3qc8hMNoIfVFLYvrZpNKkiq7W8OqBWMf71cyhobIhSETTrozxnK64TqjhMOtBAIrqaruHKKzC22mzEXqSoQv9D5lI9zYU57468FBzO5aAoEIoVB9ad9rMdZehJkssf86f+BIGZOlbGpr0cwaoExC31bG6pyFrKNYel/ofcpG2SykgQHMzVr5o1Egb+0amRK7pxbU8imz6wbQIrb/uoQiKKWVK+DCPgTcCCOdHyj/ezuML/Q+5SMWUxZSWaJuhHviMAE5kSrtIeFuhR1aaHU9QIkt+ulpmJvDrDZcnUvfdePjsxpiMbRxSbqUbg3DgGvXMOrKdITgYjo6ypM0NTiI0a3cJ26MM7i5h2BClHyMEjDDs+V3T8ENi15OlKd2UQnxhd6nfHR1oU2CmSqhOAwNAWBGEu5YgbqOhnKel9QStPYh3IhGASz/tSztXsTgIJk6kKLMiW82du6HyFX8IeG+0PuUD3spnLuOlLnSvMfAALkQZIJz7lj0gKZvAUps0Q8MYG7WXYlGAW7M5Vy8dO8xMOBOspRNXR16MgpUftKUL/Q+5SMWQ5sEKTJkMpOleY+CaBRXrEDK5L92cx8Cbgh9KWvvDw5itiqJcm0urfetdD+9L/Q+5aO9HW06CJTwi+Ni+QObcOt2RIbSheVNT8PMDKZb+xBwQ+hlCV0ag4OY29Vd27XVWXUM8IXex2flBAJowVaghNmxAwOYPaqwmFtWoOjqLq1bY3AQADPq0j4EQGcn+nXIBkoYXTQwYO1DuGjRN24HKj871hd6n7KiVXUCJfR5Dg5ibm1Q7+WyW8OYLZ3QS8AMTrs3Rl1Hy9YBJZ7LLTqBQBXBYE1p3mMZglu2EZwHMzHoyvs7hS/0PmVFq98GlNBCGhzEjFWp9yrXoeCLscPyjBKVQbCjUci4E3ZooYXU/69plmCcuZyqRd8SQNPKeCj4Yuy5nL7kzvs7hC/0PmUluGkrgSSYxlBp3mBwELMtRDjcQiAQLs17LEcshj4OhixRwS9rIxZcXLUAelUXAEYpbmhjY2Ca1j6Ee2PMz2XSt+h9fFaM6OpWX5yZy843PjMD09MYTdK9TUqATZvQJgJkQvPkcobz7Q8MYOxuAdzbpATQGncCYBoliKUfUGUHzGjS1VULXV3o42CWuqRFifGF3qe8lLJ+iL1JWW26awUGg+g5FS1SEheVF/YhgNCm7QRSYMz2O9+4PZdu7kMAdHaiXQcjOFmaIzAfeQQef9z5dhfhC71PeenqQr8ORroEAmhbgdqsuxY9oIXt+OvSWLs39iHcG2d+dTZ9wfnGBwbIapDB5bmMRNCNGmQg63x2rGnCRz8Kzz7rbLtL4Au9T3np7kYbB5MJ5y2keFxFozDprhUI6DU9QAn817mcEvpNmqvRKICay+slikiJxzE7VFaq23OpBUu06Tw4qCp0dnc72+4S+ELvU17q69HnI+SCaTKZaWfbjsfJNASRuOy6AfTmXQCYTm/ijYxAOo3ZhDtlmAvptiz67DXn2+7vx7xDCazrc1mlkqYcv2nHrfDbnh5n210CX+h9yo4WtE+acviL09+PuU8t89123YQ67kCYYFzvc7ZhSxzMGsP1MdLWhjYVxAxNlWR1Zu5UhW7cHmd+0znl8E3bFnrfovdZj+jREiVNxeOYu+xoFHetQNHdY0UXORx/bQu9Nuf6GBECPddELpgpyerMjFUD7s+l3n4HAMbkS8423N8PQkBnp7PtLsGyQi+EiAkhnhRCnBNCnBFC/Ib1eJMQ4gkhxEvWv43W40II8RdCiAtCiFNCiLtLPQifykKrt9PKHd6ojMcxt6psTVdD8gB6epT/OuXwGPv7AbXH4foYKdGm8+wsTExgtoeBAJrmQhnmAgLdOwlPgTnp8KZzPA4dHaBpzra7BCux6DPA+6SUdwBHgHcLIfYCjwDfllLuBL5t/Q3wk8BO6+dh4JOO99qnotEsC8nRbEPDgOFhzC0R9R5uW7uxmIouyjmcNBWPk93cTCY75f4YKdGms71qaYJwuBUhgs61vRasTWfD6ZDgeLwsbhtYgdBLKUeklD+0fp8FzgEdwEPA56zLPge8wfr9IeDzUvE00CCEcN/08PEModgugnNgXD/vXKNW3LXRIggEogSDdc61vRYiEbRkFWZ4ytl243HP7EMA6Lb/etbBBLiCfQgvrFpubDo7XMGyv987Ql+IEKIHOAg8A7RLKUdA3QwAe33VARTuWgxZj/n4KLq70a+DOdfvXJu2ONRn3Y9GsdBlC9lwhkxm1rlG+/s9sw8BoG3eB4Axds65Rm33lBf2IQDq6tBmNcyAg2coZLPqNLQyRNzAKoReCFED/BPwm1LKmdtdusRjN23JCyEeFkKcEEKcGBsrUU0QH29i+a+NtIMWki0OkXlviAM39gkciy6SUln0LpdhLiTYvZvQLBhTF51rNB4HXcfIjXtijAB6thFTT5DLZZxpcHgYMhlvWfRCiDBK5P9BSvlV6+FR2yVj/WsH0w4BsYKXdwI3fdKllJ+SUt4rpby3tbV1rf33qUSam9Gngpg4mGkYj0MggCmmPOHSANBs/3XKoQJu4+OQTGJutvchPDBOOwHOyXyBeBzZHSOdHvXGGLEqdQYgnXYoZ8AyTDwj9EKtgT8NnJNS/nnBU18D3mb9/jbgXwoef6sVfXMEmLZdPD4+AAiBlmnAiMw5F39tRTCY6VHvWIEtewAwrp11pkF71dIaQB0K7gEDafNm9AnhbNJUfz/p3VuQ0uXKlQXo1UqQHbtplzFZClZm0R8F3gI8KIQ4af28HvhT4DVCiJeA11h/AzwOXAIuAI8C73K+2z6Vjh5sQwZzZDITzjTY309uW4xMZsI7VuDm/QCYY73ONGjvQ9SmCYfb3DkUfDHBIFqqGjPk4KZzPI7pgeqchegNOwAwJxxKgLOFvqvLmfaWYdlPipTyByztdwd41RLXS+DdRfbLZ52jRTuAcxjGMOFwc/ENxuOYrz2o2vaIFRjqvoNgPxg4FEaa34dIoGW9MUYAXTZhRgeRMocQReZgJpMwOur6EYKL0dqtTefRs7DVgQb7+6G9HRmJ3FJcncTPjPVxBTtpypx2YBMvk1GnEW13v3TvAuyiX04lTcXjUF+PKb2zSQmghzYjg5J02oGgCrsC6WYd8M5cal13QdbBpCkrhv748c3093/ImTZvgy/0Pq6gt1r+66tnim/syhXIZjE61SalrnskmremBn06hJFzyH9tiYNhXPHOGAGtxvJfOxEua7k0jBa1d+OVcYqebeoc4IRDSVPxOJkdW0inRwkEos60eRt8ofdxBa3zAACmE0lTtji0q0Wwrsdud3VZ0c06zPDtopFXQX8/uW1dmOZVb42xyarUeeVU8Y1Z7imjNkUo1EQwWFV8m07Q1IQ+GcBw4qSpXA7icYxdqmibrnug1o2PTykI9uwiNOOwFVhnIoTujM/fITRaMKpTzkQX5Yu2ybKIw0rRNt8JOJQ0FY9DMIgRmvLUGBECLVmNGXQgaeraNTAMjG5lyZfjpu0LvY87bNqENiGcqWBpW4GRGXS90xNZsTa6thkZlqTT48U1NDUFMzMYW9VBI14SQa3rZZADw4n9lngcOjsxzCFPjRFAzzViROeLb8j+vG5SNXx8i95n/RIIoM9HMIQDSVPxOGzahJEZ8Zw4aHUqRMMcLXIvwhaHjjDgLaEPxLaq6o5OnDTV3w89PRiG94ReC28iU50lm00V15C9Am1SWba6vqXYri2LL/Q+rqFlGjD1ueIbym9Sek8c9GZr07lY/7UtDs051a6Xxqlp6DNhZzad43Gy2zpJp8e8NUZAr1Ix7+ZEkftK9lxWJax8CL3Yri2LL/Q+rqEHWjFrTKTMFddQfz+yuwvDuEIk4p1NSrjhvy46acoWh5oUgUA1oVB9sV1zFD1Vgxkq8vAR01Slpnc0qjY9tOEMBZU6B08W11B/PzQ2YuRGy3Yz84XexzW0aAwZgvRcEWnl1mHZ6V1tSJn2nhW49R7AgZOm+vuhqgojcJ1IJOapfQgATTZjVCWKa2RoCHI5jB4VaeO1udQ2WUlT14p0w8XjBe6p8tzMfKH3cQ29fhsARvz5tTdy9SqYJqmt6tg5r4lDoKmd0IzAMIqskWLVLvfiJiWoTed0fY6cUcRmpQublKtB71KZ10UfKWjPZRldjb7Q+7iG3qFi6Y2BIoT+vPKXGt3etAIBIjNRjFyR8dfnz8OuXZ7chwDQ61UsvXHx6bU3Ys9lPlnKW+MMbd5DIAXGXBGHrGSzcOEC2Tt6yGQmfaH3Wf9EdhwFIDX24tob6VW+b6PdtgK95dcF0LNNpCJF+K8zGXjpJXJ37MIwhj0ngACRLeqmnbpchND39kJ1NUZkllCogVCoxqHeOYMIBIhMR0hlizhfoL8fTBNjr6o86gu9z7on3LoTYYIxV4T/2haH6CxCaITDLc510CEi4RhGUxo5t8YII0sczL2bgJwnhV7ffj8AxtUioot6e2H3bgzziifHCKCnmzC0IpKmbMNkqyra5gu9z7pHiACR2WhxFlJvL+zZY7k0OoqvnlgCIvU7yVZB5vwP19aALQ7b1Tm4nly1tOwFIDVThP/amstUatCzQh8JbSHVkIa13rTzK1D1OfWF3mdDoGcaMbQpdUzeWlgg9N4UB33TXQAYF59aWwO2OGxWVcW9OM5gMEJ4LoyRXmOlzkRCRaN4fS7rdpBugmzfGlcuvb3Q2ophHRrvC73PhiAS6iTVnFXH5K2WChGHSNchAFIja4y/7u2FtjaMUHnFYbVEjAZS4Ym13bStjdjcnh2k0+WLL18tkXarrs+FNe5FFBgm4XALwWDEwd7dGl/ofVxFr9+J2Qy5c2vYkLXEQe7ZXdaY5NWi11kRKVNrPJ0oLw6DBAJRQqFGB3vnHHpwi0rrH1tDXXp71bLTm8lSNpGYddMeLsIN54J7yhd6H1eJtN8FATAuPbP6F1vikN7VjpSmZ61ATWtDZAKkzDXG0vf1LVi1eC1ZyiZSs51UG8jeNWQB9/WBEBhbvFfLpxC9Vh0paEyu4aY9Pq5+XFiB+kLv4yq6FZZnDK/BrdHbq8TBg4W+ChEigG7UYYSuqzjq1eCiOKyWSNt+clHIvLSGvIjeXpUtKlW9HK+OU9c7QELKWMMBJH3WzcEXep+NRiTaA0Bqag1WYG8vbN2KIZWrwKviABAR7aRacvmj8lbMTeLgTZcG3Nh0Tl1Zo9BbYwTvzmUgoKEZNRiB8dXftK2VTnZXD5nM9bLOpS/0Pq5if9gNYw0lbm8SBw+LYPVWjDbyX/YVY10vd+/ENL2ZLGWTv2lfX+UBJLncAvdUMFhHKFTnfAcdIkKbumlbheZWTG8v6LorJR58ofdxlWAwStisUtEaqVXU+c7l1GasJQ5ChNC0ttJ1tEgiLfsxmiHXu8qCWL29EIlgbtKRMuNpodd1VcbXSK5SAAcHIZmsCPcUgB7ditHO2m7au3ZhpFXeiC/0PhsKnXaMVuDChZW/aIE4DKJp3kyWsok07YEgGEM/Wt0Le3th506MjDqJy8siGA63EMiGSIWur+6mbQumNZdeHiNApPkOtenct8qVS1+fyvx1wT3l3W+Gz4YhUtVDarUW0gJxqAAr0LZ2x9dg0VeA7xpACIEu25SL6qVVZMhW2lw27EZqkO5fRQCBYcClS67NpS/0Pq6jN9+B0QaydxUWUoWJQySihD41v4rKh0uKg3f3IUCNc0037cZGcs0NmObVypnL1dSlv3hRbd5acxkKNREMVpWohzfjC72P60RqtqtaMJdPr/xFvb3Q1IRsbsYwhjx3stRi8hZ9ZAYmV1gU6+JFtReR34fQCYebS9jL4tEbdyuLvm8VcebWRqyZvgrICriZdQNgzK3iMHSXDRNf6H1cJy+CY6uwkCyXRjozQS6XQtM6StQ7ZwgGo4Rz9craXakI3uS77vBsspRNpHqbynQ+v/q5tCOvdN3bc2l/XlPRGZiYWNmL7LncvTs/l+XEF3of18kvhecurbxOSj6VXLlCotGtpeqeY+h6TFm751boorLFYdcuksnLRCKVMEZrLldarnh6GkZGYM8ekkk1l14fZyjUQFBGSa0mXEVvhtoAABHISURBVLa3Fzo7kdXVJJOXyj5GX+h9XCdv0denVraJNzysjhC8806SSRWpE43uKGUXHSFSt4PUJgE/XGGdlOefh23boKaGZPJCZYzRdmtMv6T2GJbD/r/Iz6Xw/E1bCIGudaqb9mrm8s47yWQmyGanyz6XvtD7uI6mtSEIKwvp+PHlX2Bfc//9eaGPRLaVroMOEYn2YGwKII8fW/5iKdU477+fdHqSTOZ6hQi9ZdE3plcmgvZcHjlCMnkBXe8iENBL2ENniNTuINUZXtnndXISzp5d8Hn1hd5nwyFEAD3ShdEZhmMrEMFjxyAahYMHLXHoJBiMlr6jRaLrXWT1LJmLLyx/cMXly2rVcvQoyaTa9KsEobc3GY12Vj6X+/ZBY2PFrFpAzaWxKbCyMT5lnUNw9Kgv9D4bm0iki9S2mpVb9IcOQThcUeKQt3ZbcvDss7e/eIlVSyWMMxDQ0bRNpHbULj+XuZwSwfvVMYSVNpfpKoPs6AAMLVOV9PhxCAbh8OG8e8r30ftsSHS9C6Mlp5a4t4tkSCSUS+CoOli8ksQhvxexEmv32DGoq4N9+wqE3vvuKbDmcluNGsPtNtfPnYOpKTh6tKLcU1AwlytxNx47BgcOQHW1tQKNle3AEZtlhV4I8RkhxDUhxIsFj31QCHFFCHHS+nl9wXMfEEJcEEL0CSFeW6qO+6wvIpFuDH2WXAh4+jan95w4AZkM3H8/mcws6fS1ihGHvEV/YNPy4nD8OBw5AsEgyeQFNK2jrAk2xRCJdJFqzcK1ayrh61YsWLVUjnsKCuYypt1+LtNptXpzedWyEov+74DXLfH4x6SUB6yfxwGEEHuBNwH7rNf8tRAi6FRnfdYv0ehOIEcytozf0/5SvfzlFScO4XAbwWAdiZc1KZdFLrf0hdPTcPp0ftWSSl2smDECRKO7SGrXyYVZfi5bW2HHDlKpyprLaFSdGpZ4Rez2Qn/qlFqFurwCXVbopZTfA1aYFcBDwBeklIaU8jJwAThcRP98NgjV1fsAmH+g5/bicOwY7NkDzc0FETfbS99BBxBCUF29j/murBLzs2eXvvDpp5XLowJ912DPZZbEnurl5/L++0GIinNPaVo7oVAT8/tr4Uc/UmK+FPb477+fdHqKdHrcm0J/G94jhDhluXbsQyw7gMLC4kPWYzchhHhYCHFCCHFibC1nTPqsK6qq9gAB5g+1qqVuOn3zRQUhh0CBOFSG0IMSwUSVOkXplpbg8eMQCMB995HJzGGaVytQ6GH+VdtvPcaxMZUzUTCXmralYtxT+Zv2FlO5Ep97bukLjx+HWAxiMVdXLWsV+k8C24EDwAjwv63Hl8rPXnI3Rkr5KSnlvVLKe1tbW9fYDZ/1QjAYJRrdRmKrUOWHTy5RGbCvT23UFiyDw+F2QqHaMvd27VRV7SOdm8Tc0XJra/fYMXjZy6C2tuJcGgDR6G4gQOJgI5w5ozZcF2PfACpwU92munofCe2KErjbzWXBGKGChF5KOSqlzEopc8Cj3HDPDAGFFYk6geHiuuizUaiq2sd87XX1x1KWYMHmHVSuOADMv2730mPMZOCZZ5ZYtVTOOIPBCNHoDuZjWbUKW2pz/fhx0DS45x6gMueyqmofmew05pEdS8/l4KAKvbxpLsvvnlqT0AshNhf8+UbAjsj5GvAmIYQuhNgK7ASWCRj28VFUV+8jmb5MblvX0hbSsWPQ1AS7dwOVKQ55ob+3VR20Mjq68ILTp1Uy1U1WYOW4p0CNcz5yVbmgbjWX99wDkUhFuqegYC5fbQn94s11e9wFc6ncU9Xl7CawsvDKfwSeAnYLIYaEEL8MfFQIcVoIcQp4APgtACnlGeBLwFngW8C7pZSrPEHXZ6NSXb0PKTMkfnI/fPvbC+PpZ2fhW99SXxohyGYTmOaVihMHTdtMKNSgXFQAX/nKwgvsvwuswEpzT4F10zYukb33Lvjnf16459Lfr3zaBVFFUFmrFigQ+oONqszBd76z8IKvfAWqq+EudWi6m4bJSqJu/rOUcrOUMiyl7JRSflpK+RYp5Z1SyruklP9RSjlScP2HpZTbpZS7pZTfLG33fdYT9hcn8ZZXwswMvPvdN5583/tUlcPf/V0AkkkVn11p4qA28fYzXzMGDz4Ijzyiyh2AyhH46EfhzW+GblUcrBJXLQDV1fuBHIkP/Bd48UX48IfVE7kc/NIvga7De94DVKZ7ClSNpnC4lfldGuzYAb/yK+pzC/ClL8E//ZP6vIZCgMeF3senXNibePNtCfjDP4QvfEH9fOMb8Oij8P73e2Jjq1iqqvYxnziD/MxnlGvjbW+D+Xl461uhrQ3+6q/y11aq0FdVWTftl2+G//pf4Y//WFnxn/gE/Pu/q38LbmZQee4psDZkzT743OdgYADe+15lkLzznXD4MHzgAwCuu6dCrryrj88S5Dfx5s/AI1+Ef/1XeNe7lPV3553woQ/lr610cRgZmcTcpKF/4hPw9rcrUTh3TrmnGlW0cjabxDCGKnKMVVW7ECKk5vIv/xKefBLe9Ca4cgV+5meUVW+h3FNthEJ17nV4jVRV7WN09O+Rr3g54v3vhz/9U5UMl0go8bes+VTKXoG6M5e+Re/jKaqr9ylxCIXg859XoZbXr6vf9Rvla5PJC4RCzYTDjbdpzZvkfbvzZ5Q1/9BDKnnqne+E196oGnJDHCrPog8ENKLRnWqMDQ3w2c+qcgi1tWp1VnBSVqWuWkDNZTY7o870/eAHlT/+7Fn4yEdUYp+F2ytQ36L38RTV1fsYH/8auZxBYPduZdWnUqooVAFKHCrP0oWCvYjEGZqaXg2f/jT82I/Br/7qguvcFodiqa7ex+zsj9Qfr3kN/MM/KF92e/uC65LJCzQ0POBCD4un8KYdaY7BY4/B44+rlWgBbq9AfYvex1Mo326WRMI6V/XVr4af/umbrqu0+i+FKDdFs7J2AZqblW+3emHYXaXV8llMVdU+UqlLZLNWeYA3v1m5qAq44Z6qzDEW3rQBdSLYe96j9l4KUO6pVkKh+nJ3EfCF3sdjLHBr3IJ0eopUKk5V1e5ydctR8unztxkjwNzcKcLh1op0T4E9l5JE4tbnqtr/B5U6l+FwM+Fw+4rm0s0x+kLv4ymqqnbf2MS7BdPT3wMk9fU/Vr6O/f/t3VtsHFcZwPH/t77b611fxhA3dS6lAYoCaoILURUKlIpAVGgc9SFPLRIFBEKCB4rKVYG3Ii4qUkUFIlIKCAoh6U0CFMimhIemMiG3NqpjSGgujuONdza+r+09PMxZZ2PvbiK02Zkdfz9pteNzJtGZbz59O3NmZrfMcoXeFPm+dmMMrpuo+m2E0h/arpsAqPrtLLWNc3NjjI31+7qNWuhVoFy7iHey6DqumyASaSQW21TBkZVXS8t65ufTZDKFvyFkevoMMzNv0d5+f4VHVj5NTesQqbthoW9ufjcNDd1F1wm6lpb1TE6+gfeNMEul04eAeV/3pRZ6FTjeEdKJov2pVIJY7N6K/0pPOeWOdsfHjxfszx3pVutFSoBIpI7m5ncxMVF4G7PZWdLpQ1W9jZC782ac6emzBftdN4FIPbHYvZUdWB4t9Cpw4vHNTE//h8nJwSV9mUySiYljVV8cotH3I9LA6OhfCvanUgeor19hv765esXjH8J1X2F+fmpJ39hYP/Pz41W/L+PxzQAl9mWCWGyTrz9gr4VeBY7jbAMgmdy3pC+dfgWgqqc0AGpro3R0fJxkct+Sefrc/Hxb20cRKfTN39XDcfrIZidJpfYv6bt21vKRCo+qvJqb76Kp6Z0F83V2NsX4+BHf81ULvQqcxsbVRKMbSSb3LulLpRJEIi20tt7jw8jKy3H6mJl5i/HxI9e1T00NkMkMVf2RLnhFvLa2jZGRpfvSdRO0tLyX+vrq/j0KEcFx+nDdBLOzqev6cjcO+L0vtdCrQHKcPq5efZWZmesvVrruAeLxzUQidT6NrHw6Oz8FRBgZuf5IMJXyvgXR7+JQDpFIHZ2dD3Llyktks3ML7dnsDOn0P0KxjQBdXX0YM8eVKy9f1+4dmDQSi33Qp5F5tNCrQOrq2g5AMvnCQtvMzCUmJ0/5fhpcLvX1Dm1tH15yyu+6CRoaeqr2yd/FHGc7c3Oj9ujWc/XqYbLZ6dDsy9bWe6ivX1lwX3oHJg1F/mVlaKFXgVRo3tN1DwLhONLNcZw+JiffWHgS2JgsrnswFPPzOR0dW4hEmhbtywQgVX3/fD6RCI6zjdHRPy88CZzJjDAxcTwQ+aqFXgVSoXlP1z1ATU2MaHSDz6Mrn9yF59z0zcTE68zOjgSiOJRLTU0zHR1bGBnZt3CveSp1gGh0Q9U+9VtIV1cf2ezUwt03ruvdOBCEfalfaqYCq6urj3PnnuTChafJZC5y6dKzdHR8gkgkPGnb2NhDa2svIyN7qKvr5Ny5HwISmimNHMfpI5l8nqGhXaRSfyWdPkRPz+N+D6us4vH7qK1tZ3j410xNneb8+Z9QUxOntbXX76FpoVfBlZv3PHv2O4jUs2LFI6xZs9PvYZWd42znzJlvMjDweaLRjaxf/zyNjav8HlZZdXY+iEgtAwOfo6YmRk/P46xe/W2/h1VW3oXnTzM8vJtkci/t7Q+wZs33A3HjgBZ6FVgiEdate4rx8RPcdtsXqvox+VK6ux8jk7mI4/SFam4+X11dB3fe+RTZ7DTd3Y9V5Y+M3IxVq75ObW2cFSs+Q2trcKYYpdiXKlVSb2+v6e/v93sYSilVVUTkn8aYG84N6cVYpZQKOS30SikVclrolVIq5LTQK6VUyGmhV0qpkNNCr5RSIaeFXimlQk4LvVJKhVwgHpgSkRHgv2X+bx0gWeb/M0w0PqVpfErT+BRXydisNsbc8JdbAlHobwUR6b+ZJ8aWK41PaRqf0jQ+xQUxNjp1o5RSIaeFXimlQi7Mhf7nfg8g4DQ+pWl8StP4FBe42IR2jl4ppZQnzEf0SimlqOJCLyK7ROSyiJzMa+sQkf0ictq+t9t2EZGfisigiBwXkY3+jbwyisRnp4hcEJGj9rU1r+8bNj5visgWf0ZdGSLSIyIJETklIq+LyFdsu+YPJeOj+QOISKOIvCYix2x8vmfb14rIYZs/z4lIvW1vsH8P2v41FR+0MaYqX8B9wEbgZF7bD4An7PITwJN2eSvwJ0CATcBhv8fvU3x2Al8rsO57gGNAA7AW+DdQ4/c23MLYdAMb7XIrMGBjoPlTOj6aP972ChC1y3XAYZsXvwd22PZngC/a5S8Bz9jlHcBzlR5z1R7RG2P+Dowuan4I2G2XdwPb8tqfNZ5XgTYRCefv0llF4lPMQ8DvjDEzxpgzwCDwgVs2OJ8ZY4aMMUfs8hhwCliJ5g9QMj7FLLf8McaYcftnnX0Z4H5gj21fnD+5vNoDfEwq/HuRVVvoi3i7MWYIvGQF3mbbVwLn8tY7T+nEDbMv2+mHXbmpCZZxfOxp9Aa8ozLNn0UWxQc0fwAQkRoROQpcBvbjncW4xpg5u0p+DBbiY/vTQGclxxu2Ql9MoU/P5Xi70c+AdwB3A0PAj2z7soyPiESBPwJfNcZcLbVqgbblGB/NH8sYM2+MuRu4He/s5a5Cq9l33+MTtkI/nDultu+Xbft5oCdvvduBixUem++MMcM2QbPAL7h2er3s4iMidXhF7DfGmL22WfPHKhQfzZ+ljDEucBBvjr5NRGptV34MFuJj++Pc/LRqWYSt0L8IPGqXHwVeyGt/xN49sQlI507Rl5NF88p9QO6OnBeBHfbugLXAOuC1So+vUuz86C+BU8aYH+d1af5QPD6aPx4R6RKRNrvcBDyAdx0jATxsV1ucP7m8ehg4YOyV2Yrx+wr2//sCfot3+jiL94n5Wbx5r78Bp+17h7l2lfxpvHm0E0Cv3+P3KT6/stt/HC/5uvPW/5aNz5vAJ/0e/y2OzWa8U+fjwFH72qr5c8P4aP542/o+4F82DieB79r2O/A+4AaBPwANtr3R/j1o+++o9Jj1yVillAq5sE3dKKWUWkQLvVJKhZwWeqWUCjkt9EopFXJa6JVSKuS00CulVMhpoVdKqZDTQq+UUiH3P94Oq0NS+FfYAAAAAElFTkSuQmCC\n",
          "text/plain": "<Figure size 432x288 with 1 Axes>"
         },
         "metadata": {
          "needs_background": "light"
         },
         "output_type": "display_data"
        }
       ]
      }
     },
     "e4c3a22daff943f8bb1d1475ef3328b0": {
      "model_module": "bqplot",
      "model_module_version": "^0.4.5",
      "model_name": "LinearScaleModel",
      "state": {
       "stabilized": false
      }
     },
     "e5cb988c54c0457db13b133ec14e8c58": {
      "model_module": "bqplot",
      "model_module_version": "^0.4.5",
      "model_name": "AxisModel",
      "state": {
       "orientation": "vertical",
       "scale": "IPY_MODEL_9c4fc8d5079c44d4b46b2e7144ab349c",
       "side": "left",
       "tick_values": {
        "type": null,
        "values": null
       }
      }
     },
     "e72df24df0df43e3bdbe81576e237fe3": {
      "model_module": "bqplot",
      "model_module_version": "^0.4.5",
      "model_name": "LinearScaleModel",
      "state": {
       "stabilized": false
      }
     },
     "e8d24c380cd04bad8b40d69a2873a8c5": {
      "model_module": "@jupyter-widgets/base",
      "model_module_version": "1.1.0",
      "model_name": "LayoutModel",
      "state": {}
     },
     "e94f23ddd6474fe79194c4a9cc6b312c": {
      "model_module": "@jupyter-widgets/controls",
      "model_module_version": "1.4.0",
      "model_name": "IntSliderModel",
      "state": {
       "description": "t",
       "layout": "IPY_MODEL_24535a5cdfa1486bae7078f85e6b4d55",
       "max": 80,
       "min": 2,
       "style": "IPY_MODEL_13fd1224721c4fe684d9bd291c041362",
       "value": 41
      }
     },
     "ec9744d3c11c40e48df2bd96e566a5b5": {
      "model_module": "@jupyter-widgets/controls",
      "model_module_version": "1.4.0",
      "model_name": "SliderStyleModel",
      "state": {
       "description_width": ""
      }
     },
     "eceafb6b3fe548e09097cc90bdac872a": {
      "model_module": "bqplot",
      "model_module_version": "^0.4.5",
      "model_name": "FigureModel",
      "state": {
       "_dom_classes": [],
       "axes": [
        "IPY_MODEL_7ce6f257e1c94efd876b383f515216c9",
        "IPY_MODEL_747b7ecbaafa41e6ad447c7d3fab3117"
       ],
       "layout": "IPY_MODEL_80e466b111f8482db794fcf66af9c792",
       "marks": [
        "IPY_MODEL_f2e426671d8e4c728d0936f3ee00716b"
       ],
       "max_aspect_ratio": 6,
       "scale_x": "IPY_MODEL_789fbaa8aef44127965f8c04fbcd1986",
       "scale_y": "IPY_MODEL_3392168e51504403a785c53db742b031"
      }
     },
     "ef46088c15674addbe439c487c064176": {
      "model_module": "bqplot",
      "model_module_version": "^0.4.5",
      "model_name": "FigureModel",
      "state": {
       "_dom_classes": [],
       "axes": [
        "IPY_MODEL_7d6b7fc51a4140a08238b96f2caf2e5f",
        "IPY_MODEL_8036eca409bb4d6c94f1f301dfa1b1d2"
       ],
       "layout": "IPY_MODEL_9c4652be8d2149ed825e75528ff96802",
       "marks": [
        "IPY_MODEL_9b4bf6c5bb954fcba0050a4822acd2ce"
       ],
       "max_aspect_ratio": 6,
       "scale_x": "IPY_MODEL_bc3bbd758f31409db10c5f978f538c82",
       "scale_y": "IPY_MODEL_8a3c4c447f0846fbacddacd512010045"
      }
     },
     "ef63452e07cc4cc9823e4dc29c7128c1": {
      "model_module": "bqplot",
      "model_module_version": "^0.4.5",
      "model_name": "LinearScaleModel",
      "state": {
       "stabilized": false
      }
     },
     "ef87e880025f410ab8ba434182f8d179": {
      "model_module": "@jupyter-widgets/base",
      "model_module_version": "1.1.0",
      "model_name": "LayoutModel",
      "state": {}
     },
     "efb963de00f4404c8e473c67893ae9a9": {
      "model_module": "bqplot",
      "model_module_version": "^0.4.5",
      "model_name": "LinearScaleModel",
      "state": {
       "allow_padding": false,
       "max": 1,
       "min": 0,
       "stabilized": false
      }
     },
     "f0a13dc1817c45f9a2877d89e9cb75df": {
      "model_module": "bqplot",
      "model_module_version": "^0.4.5",
      "model_name": "LinearScaleModel",
      "state": {
       "allow_padding": false,
       "max": 1,
       "min": 0,
       "stabilized": false
      }
     },
     "f12849de3ef04bc09246addc5ad9153c": {
      "model_module": "bqplot",
      "model_module_version": "^0.4.5",
      "model_name": "LinearScaleModel",
      "state": {
       "allow_padding": false,
       "max": 1,
       "min": 0,
       "stabilized": false
      }
     },
     "f2e426671d8e4c728d0936f3ee00716b": {
      "model_module": "bqplot",
      "model_module_version": "^0.4.5",
      "model_name": "HistModel",
      "state": {
       "colors": [
        "#475A77"
       ],
       "count": {
        "type": "float",
        "values": [
         0.00011875399652872969,
         0,
         3.044974269967428e-06,
         0,
         0,
         0,
         0,
         0,
         0,
         3.044974269967428e-06
        ]
       },
       "display_legend": false,
       "midpoints": [
        4005.000000000221,
        12015.000000000196,
        20025.000000000175,
        28035.00000000015,
        36045.00000000013,
        44055.0000000001,
        52065.00000000007,
        60075.00000000006,
        68085.00000000003,
        76095
       ],
       "normalized": true,
       "sample": {
        "type": "float",
        "values": [
         80100,
         24001,
         2.3283064365386963e-10,
         3112.728759765625,
         2519.664794921875,
         1016.0343627929688,
         228.85360717773438,
         10.485886573791504,
         104.89647674560547,
         343.7881774902344,
         602.279052734375,
         780.8530883789062,
         838.6475219726562,
         745.5971069335938,
         533.9628295898438,
         274.46649169921875,
         68.06605529785156,
         6.039619445800781,
         115.18292999267578,
         345.0396728515625,
         598.8818969726562,
         777.572509765625,
         836.7930908203125,
         744.8504028320312,
         533.7498779296875,
         274.4312438964844,
         68.06642150878906,
         6.038338661193848,
         115.17864227294922,
         345.0361022949219,
         598.8817749023438,
         777.57421875,
         836.7939453125,
         744.8486938476562,
         533.7492065429688,
         274.4320068359375,
         68.06617736816406,
         6.038338661193848,
         115.17929077148438,
         345.0361022949219,
         598.8817749023438
        ]
       },
       "scales": {
        "count": "IPY_MODEL_6bba28f3f90148ef8d7d142228b35bfa",
        "sample": "IPY_MODEL_cca9ebac531d46b680fec317b4f7ff4a"
       },
       "selected": [],
       "stroke": "#475A77"
      }
     },
     "f34308cdc2d34468b7686bf9304215aa": {
      "model_module": "@jupyter-widgets/base",
      "model_module_version": "1.1.0",
      "model_name": "LayoutModel",
      "state": {}
     },
     "f355041758c24b759a7fbedb5d4ce7f3": {
      "model_module": "@jupyter-widgets/controls",
      "model_module_version": "1.4.0",
      "model_name": "VBoxModel",
      "state": {
       "_dom_classes": [
        "widget-interact"
       ],
       "children": [
        "IPY_MODEL_b8a16ec894b0437f8e64df7af78c5906",
        "IPY_MODEL_6e6c565b3c46499aa0322f815c206c75"
       ],
       "layout": "IPY_MODEL_dbccf4abdacc4165aa26e4a7a3ab0ce6"
      }
     },
     "f3db14a63b9d4c2a83cd4d775baf3694": {
      "model_module": "bqplot",
      "model_module_version": "^0.4.5",
      "model_name": "LinearScaleModel",
      "state": {
       "allow_padding": false,
       "max": 1,
       "min": 0,
       "stabilized": false
      }
     },
     "f3dbb65c19e94c67ae25e580eb883347": {
      "model_module": "@jupyter-widgets/base",
      "model_module_version": "1.1.0",
      "model_name": "LayoutModel",
      "state": {
       "min_width": "125px"
      }
     },
     "f4ce72509ab14eda9b4e60b16fd49dbd": {
      "model_module": "@jupyter-widgets/controls",
      "model_module_version": "1.4.0",
      "model_name": "VBoxModel",
      "state": {
       "children": [
        "IPY_MODEL_f355041758c24b759a7fbedb5d4ce7f3",
        "IPY_MODEL_759cfad12aee43b88c61ffbb1da2e279"
       ],
       "layout": "IPY_MODEL_5daeba76c2c9480e8748c08c33c80a46"
      }
     },
     "f5e3b477c2414c179a8e1257d920dfef": {
      "model_module": "@jupyter-widgets/controls",
      "model_module_version": "1.4.0",
      "model_name": "VBoxModel",
      "state": {
       "children": [
        "IPY_MODEL_6aa8faa4c0304760a78a96d1e88e7367",
        "IPY_MODEL_88566ecd4a434887b298243f8ad73da2"
       ],
       "layout": "IPY_MODEL_caa670875368478f9238dd0c2736d1a6"
      }
     },
     "f70396b593f44ad0b5748a337fa14fce": {
      "model_module": "@jupyter-widgets/controls",
      "model_module_version": "1.4.0",
      "model_name": "VBoxModel",
      "state": {
       "children": [
        "IPY_MODEL_8458f50db1fe4291b9f8102b5af96672",
        "IPY_MODEL_5b0b24aa1445434eb95c85fd20ec1c29"
       ],
       "layout": "IPY_MODEL_550729626c8a4eb098cdb75311961ea4"
      }
     },
     "f80362b791e947029e44719787b219ac": {
      "model_module": "@jupyter-widgets/base",
      "model_module_version": "1.1.0",
      "model_name": "LayoutModel",
      "state": {}
     },
     "f9eeef08cf5f4159897f7b4b006a4692": {
      "model_module": "@jupyter-widgets/controls",
      "model_module_version": "1.4.0",
      "model_name": "VBoxModel",
      "state": {
       "_dom_classes": [
        "widget-interact"
       ],
       "children": [
        "IPY_MODEL_5293eb8f9fd045938de7e0e8cd7828ca",
        "IPY_MODEL_5097ad974b434db8aee9134208807998",
        "IPY_MODEL_98e9ea73f2fe4586a30fc939c47d570d"
       ],
       "layout": "IPY_MODEL_ef87e880025f410ab8ba434182f8d179"
      }
     },
     "fa9e555cd36940479d735cd29e6e5521": {
      "model_module": "bqplot",
      "model_module_version": "^0.4.5",
      "model_name": "AxisModel",
      "state": {
       "orientation": "vertical",
       "scale": "IPY_MODEL_a46587353af14504907d80f246158869",
       "side": "left",
       "tick_values": {
        "type": null,
        "values": null
       }
      }
     },
     "fb355e99e4ad4dc8ad416c88da6e1ade": {
      "model_module": "bqplot",
      "model_module_version": "^0.4.5",
      "model_name": "LinearScaleModel",
      "state": {
       "allow_padding": false,
       "max": 1,
       "min": 0,
       "stabilized": false
      }
     },
     "fe432071323d495595b5291b333bc1ec": {
      "model_module": "bqplot",
      "model_module_version": "^0.4.5",
      "model_name": "FigureModel",
      "state": {
       "_dom_classes": [],
       "axes": [
        "IPY_MODEL_a58398d580a24313875eef6399e096c3",
        "IPY_MODEL_bc3ed9e7ba62407f9fd8f47929659c70"
       ],
       "layout": "IPY_MODEL_cb26dbdb24e04d28a5865cd3d09336df",
       "marks": [
        "IPY_MODEL_b3850eaf941e441da1047e23c4eb8251"
       ],
       "max_aspect_ratio": 6,
       "scale_x": "IPY_MODEL_d030059ac7f24f668c79d44d84d0b045",
       "scale_y": "IPY_MODEL_dabcb5aaad774a2eb548c375759703af"
      }
     },
     "ff160d7841c54499bcbc332d4ccef12f": {
      "model_module": "@jupyter-widgets/controls",
      "model_module_version": "1.4.0",
      "model_name": "VBoxModel",
      "state": {
       "children": [
        "IPY_MODEL_d5b6ec10950b459fb646ba6ad104a225",
        "IPY_MODEL_51824893c4604ba8ad9816404c20ab22"
       ],
       "layout": "IPY_MODEL_beecaa1e70784ad2a01e070589812798"
      }
     }
    },
    "version_major": 2,
    "version_minor": 0
   }
  }
 },
 "nbformat": 4,
 "nbformat_minor": 2
}
